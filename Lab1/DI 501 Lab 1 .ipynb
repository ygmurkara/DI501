{
  "cells": [
    {
      "cell_type": "markdown",
      "metadata": {
        "id": "gmMMsEPeYKcn"
      },
      "source": [
        "# DI 501 - Introduction to Data Informatics \n",
        "### Intro to data exploration (pandas, matplotlib, seaborn, scipy)"
      ]
    },
    {
      "cell_type": "code",
      "execution_count": null,
      "metadata": {
        "id": "0KQIkOw0YKcp"
      },
      "outputs": [],
      "source": [
        "import numpy as np\n",
        "import pandas as pd\n",
        "\n",
        "import matplotlib.pyplot as plt\n",
        "import seaborn as sns\n",
        "\n",
        "from scipy import stats\n",
        "import statsmodels.api as sm \n",
        "from scipy.stats import spearmanr, pearsonr\n",
        "from statsmodels.stats.multitest import multipletests\n",
        "pd.set_option('display.max_columns', None)\n"
      ]
    },
    {
      "cell_type": "markdown",
      "metadata": {
        "id": "bQWiwvxEYKcq"
      },
      "source": [
        "## Loading data\n",
        "\n",
        "To easily locate files you can put them in the same folder as the notebook file. Otherwise enter the path to the file."
      ]
    },
    {
      "cell_type": "code",
      "execution_count": null,
      "metadata": {
        "colab": {
          "base_uri": "https://localhost:8080/",
          "height": 205
        },
        "id": "pXWcxg5bYKcr",
        "outputId": "2a18fc7b-e8eb-4d33-ef18-1850e8ec8712"
      },
      "outputs": [],
      "source": [
        "data = pd.read_csv('2024 QS World University Rankings 1.1 (For qs.com).csv')\n",
        "data.head()"
      ]
    },
    {
      "cell_type": "markdown",
      "metadata": {},
      "source": [
        "Sometimes default parameters in functions don't work for us. Here, we need to change the seperator using the `sep` argument."
      ]
    },
    {
      "cell_type": "code",
      "execution_count": null,
      "metadata": {},
      "outputs": [],
      "source": [
        "data = pd.read_csv('2024 QS World University Rankings 1.1 (For qs.com).csv', sep=';')\n",
        "data.head()"
      ]
    },
    {
      "cell_type": "markdown",
      "metadata": {},
      "source": [
        "Here we see some columns at the top are not needed. To look at all the arguments a function has, and get more info about it we can append or prepend `?` to the function call, or visit the defined [page](https://pandas.pydata.org/pandas-docs/stable/reference/api/pandas.read_csv.html) in the package webpage/repository."
      ]
    },
    {
      "cell_type": "code",
      "execution_count": null,
      "metadata": {},
      "outputs": [],
      "source": [
        "pd.read_csv?"
      ]
    },
    {
      "cell_type": "markdown",
      "metadata": {},
      "source": [
        "We can see we have an argument named `skiprows`. Lets change it to skip the first 3 rows."
      ]
    },
    {
      "cell_type": "code",
      "execution_count": null,
      "metadata": {
        "colab": {
          "base_uri": "https://localhost:8080/",
          "height": 343
        },
        "id": "kHYCRx3JYKcs",
        "outputId": "895761ca-08e3-43a4-f31a-683071c4ada9"
      },
      "outputs": [],
      "source": [
        "data = pd.read_csv('2024 QS World University Rankings 1.1 (For qs.com).csv', sep=';', skiprows=3)\n",
        "data.head(3)"
      ]
    },
    {
      "cell_type": "markdown",
      "metadata": {},
      "source": [
        "All looks good. We have columns with names, acronyms, and numbers. We can see all column names by accessing the `columns` attribute of the pandas dataframe."
      ]
    },
    {
      "cell_type": "markdown",
      "metadata": {},
      "source": [
        "### Unifying column names"
      ]
    },
    {
      "cell_type": "code",
      "execution_count": null,
      "metadata": {},
      "outputs": [],
      "source": [
        "data.columns"
      ]
    },
    {
      "cell_type": "markdown",
      "metadata": {},
      "source": [
        "Notice how some columns are all uppercase, and others have each word capitalized. For further analysis it is beneficial to convert all column names to lowercase strings.\n",
        "\n",
        "They also have spaces which will make referring to them cumbersome, so we will replace them with an underscore as well."
      ]
    },
    {
      "cell_type": "code",
      "execution_count": null,
      "metadata": {},
      "outputs": [],
      "source": [
        "data.columns = [x.lower().replace(' ', '_') for x in data.columns]\n",
        "\n",
        "data.columns"
      ]
    },
    {
      "cell_type": "markdown",
      "metadata": {},
      "source": [
        "But these acronyms don't mean much. Below is a list of explanations for most of the rows compiled from various pages from QS webpages."
      ]
    },
    {
      "cell_type": "markdown",
      "metadata": {
        "id": "5OqKA71VYKcv"
      },
      "source": [
        "## QS World University Rankings Explained\n",
        "\n",
        "* **Academic reputation** – Accounting for 30 per cent of the overall score, academic reputation looks at the teaching and research quality at the world’s universities. We collate over 130,000 expert opinions from the higher education space, creating the largest survey of academic opinion in the world.  \n",
        "\n",
        "* **Employer reputation** – We know that students want to graduate with the skills and knowledge required for the employment market. We assess how institutions prepare students for successful careers, and which institutions provide the most competent, innovative, and effective graduates.  \n",
        "\n",
        "* **Faculty/student ratio** – This indicator recognises that a high number of academics per student reduces the teaching burden and creates a more supportive student experience. We assess how institutions provide students with meaningful access to lecturers and tutors.  \n",
        "\n",
        "* **Citations per faculty** – We measure university research quality with a citation per faculty metric, taking the total number of academic citations in papers produced by a university in a five-year period. \n",
        "\n",
        "* **International student ratio & International faculty ratio** – A highly international university creates a number of benefits. It demonstrates the ability to attract quality students and staff from across the world, and it implies a highly global outlook. Strong international institutions provide a multinational environment, building international sympathies and global awareness.\n",
        "\n",
        "* **International research network** - IRN Index reflects the ability of institutions to diversify the geography of their international research network by establishing sustainable research partnerships with other higher education institutions.\n",
        "\n",
        "* **Graduate employment rate** - Defined as the percentage of graduates who go on to paid (non-voluntary) work within 15 months of finishing their degree. We consider any mode of employment (full-time or part-time), even if unknown.\n",
        "\n",
        "* **Sustainability** - Measures which institutions are demonstrating a commitment to a more sustainable existence. More than just the commitment, it looks for outwards evidence of this - from the impact that alumni are making in science and technology to solve climate issues, to the impact of research being done across the UN's 17 sustainable development goals.  It evaluates the social and environmental impact of universities as a center's of education and research, as well as a major employers with the operational sustainability challenges of any large and complex organization.\n"
      ]
    },
    {
      "cell_type": "markdown",
      "metadata": {},
      "source": [
        "### Weights for overall rank\n",
        "\n",
        "| Performances Lenses            | 2024 Edition Weights  | Change from previous editions |\n",
        "|--------------------------------|-----------------------|-------------------------------|\n",
        "| Academic Reputation            | 30%                   | 10% deducted                  |\n",
        "| Employer Reputation            | 15%                   | 5% added                      |\n",
        "| Faculty Student Ratio          | 10%                   | 10% deducted                  |\n",
        "| Citations per Faculty          | 20%                   | No change                     |\n",
        "| International Faculty Ratio    | 5%                    | No change                     |\n",
        "| International Student Ratio    | 5%                    | No change                     |\n",
        "| International Research Network | 5%                    | New                           |\n",
        "| Employment Outcomes            | 5%                    | New                           |\n",
        "| Sustainability                 | 5%                    | New                           |"
      ]
    },
    {
      "cell_type": "markdown",
      "metadata": {},
      "source": [
        "### Classification columns"
      ]
    },
    {
      "cell_type": "markdown",
      "metadata": {},
      "source": [
        "<table>\n",
        "\n",
        "<td>\n",
        "\n",
        "|    | Size        | Students         |\n",
        "|----|-------------|------------------|\n",
        "| XL | Extra Large | >=30,000 |\n",
        "| L  | Large       | >=12,000         |\n",
        "| M  | Medium      | >=5,000          |\n",
        "| S  | Small       | <5,000 |\n",
        "\n",
        "</td>\n",
        "<td>\n",
        "\n",
        "|    | Focus              | Faculty Area                         |\n",
        "|----|--------------------|--------------------------------------|\n",
        "| FC | Full comprehensive | All 5 faculty areas + medical school |\n",
        "| CO | Comprehensive      | All 5 faculty areas                  |\n",
        "| FO | Focused            | 3 or 4 faculty areas                 |\n",
        "| SP | Specialist         | 2 or fewer faculty areas             |\n",
        "\n",
        "</td>\n",
        "<td>\n",
        "\n",
        "|   | Classification | Age                    |\n",
        "|---|----------------|------------------------|\n",
        "| 5 | Historic       | >=100 years old        |\n",
        "| 4 | Mature         | 50-99 years old        |\n",
        "| 3 | Established    | 25-49 years old        |\n",
        "| 2 | Young          | 10-24 years old        |\n",
        "| 1 | New            | < 10 years old |\n",
        "\n",
        "</td>\n",
        "<td>\n",
        "\n",
        "|    | Research Intensity |\n",
        "|----|--------------------|\n",
        "| VH | Very High          |\n",
        "| HI | High               |\n",
        "| MD | Medium             |\n",
        "| LO | Low                |\n",
        "\n",
        "</td>\n",
        "</table>"
      ]
    },
    {
      "cell_type": "markdown",
      "metadata": {},
      "source": [
        "\n",
        "Sources: <br>\n",
        "https://www.topuniversities.com/qs-world-university-rankings/methodology <br>\n",
        "https://support.qs.com/hc/en-gb/articles/4405955370898-QS-World-University-Rankings <br>\n",
        "https://support.qs.com/hc/en-gb/articles/6107352412828-QS-World-University-Rankings-Sustainability- <br>\n",
        "https://support.qs.com/hc/en-gb/articles/6478203732380-2024-Rankings-Cycle <br>\n",
        "https://support.qs.com/hc/en-gb/articles/360021876820-QS-Institution-Classifications"
      ]
    },
    {
      "cell_type": "markdown",
      "metadata": {
        "id": "4avPNk4TYKcx"
      },
      "source": [
        "## Initial exploration"
      ]
    },
    {
      "cell_type": "markdown",
      "metadata": {},
      "source": [
        "Before delving into details, we can quickly have an idea about our dataset with these two methods:\n",
        "\n",
        "* `.info()` method shows information like how many rows and columns there are, how many non NaN values exist, which object types python chose for each column etc. "
      ]
    },
    {
      "cell_type": "code",
      "execution_count": null,
      "metadata": {
        "colab": {
          "base_uri": "https://localhost:8080/"
        },
        "id": "_JEi5M8wYKcy",
        "outputId": "aa4ef7aa-2dd5-47b1-ff23-36d04fde8f30"
      },
      "outputs": [],
      "source": [
        "data.info(verbose=True)"
      ]
    },
    {
      "cell_type": "markdown",
      "metadata": {},
      "source": [
        "* `.describe()` method meanwhile calculates descriptive statistics for numeric columns."
      ]
    },
    {
      "cell_type": "code",
      "execution_count": null,
      "metadata": {
        "colab": {
          "base_uri": "https://localhost:8080/",
          "height": 300
        },
        "id": "O058NhPxYKcz",
        "outputId": "1364b560-31c6-41a8-b871-f4aea3731519"
      },
      "outputs": [],
      "source": [
        "data.describe()"
      ]
    },
    {
      "cell_type": "markdown",
      "metadata": {
        "id": "Je_Uv3lBYKc0"
      },
      "source": [
        "Notice how only numeric attributes were considered for this function. Although for columns like 'age band' these metrics don't make sense as it is an **ordinal** attribute."
      ]
    },
    {
      "cell_type": "markdown",
      "metadata": {},
      "source": [
        "Let's focus on turkish universities for a bit. We can subset the dataset like so:"
      ]
    },
    {
      "cell_type": "code",
      "execution_count": null,
      "metadata": {},
      "outputs": [],
      "source": [
        "turkey = data[data['location_code'] == 'TR']\n",
        "turkey.head()"
      ]
    },
    {
      "cell_type": "markdown",
      "metadata": {},
      "source": [
        "Another way to do the same thing is to use the query method. Note: we would've needed need backticks for variable names with spaces, but we avoided that with the underscores."
      ]
    },
    {
      "cell_type": "code",
      "execution_count": null,
      "metadata": {},
      "outputs": [],
      "source": [
        "data.query('location_code == \"TR\"').head()"
      ]
    },
    {
      "cell_type": "code",
      "execution_count": null,
      "metadata": {
        "colab": {
          "base_uri": "https://localhost:8080/",
          "height": 482
        },
        "id": "y_QaQdbiYKc1",
        "outputId": "a52ace00-fedf-4911-80dc-4fa5ad095436"
      },
      "outputs": [],
      "source": [
        "plt.hist(turkey['ger_score'])"
      ]
    },
    {
      "cell_type": "markdown",
      "metadata": {},
      "source": [
        "We can see the histogram function returns two arrays and a plot. One array is the bar heights and the other is the bin end point. \n",
        "\n",
        "But of course we can use different arguments to change how many bins there are, or how much the binwidth should be."
      ]
    },
    {
      "cell_type": "code",
      "execution_count": null,
      "metadata": {
        "colab": {
          "base_uri": "https://localhost:8080/",
          "height": 699
        },
        "id": "EDyHoOIUYKc2",
        "outputId": "820ef59a-3664-4923-cfcf-ecd402614144"
      },
      "outputs": [],
      "source": [
        "data.hist(figsize=(10,10), bins=30);\n",
        "plt.suptitle('Histograms of all the numeric variables', y=0.95, fontsize=20, fontweight='semibold');"
      ]
    },
    {
      "cell_type": "markdown",
      "metadata": {},
      "source": [
        "Returning to the distribution of graduate employment rate for Turkey we can make custom graphs using matplotlib and an extension to it, **seaborn**. \n",
        "\n",
        "Notice how the `kde` parameter added a kernel estimated density function on top."
      ]
    },
    {
      "cell_type": "code",
      "execution_count": null,
      "metadata": {
        "colab": {
          "base_uri": "https://localhost:8080/",
          "height": 515
        },
        "id": "1-1bt8VXYKc3",
        "outputId": "fd8cbcd3-37c2-4e2b-a223-4bf9fcca80c1"
      },
      "outputs": [],
      "source": [
        "fig, axes = plt.subplots(1, 2, figsize=(10,5))\n",
        "fig.suptitle('Same plot from different libraries', size=15)\n",
        "\n",
        "axes[0].set_xlabel('ger_score')\n",
        "axes[0].set_ylabel('Count')\n",
        "axes[0].set_title('matplotlib histogram')\n",
        "axes[0].hist(x=turkey['ger_score'], bins=30);\n",
        "\n",
        "axes[1].set_title('Seaborn histplot')\n",
        "sns.histplot(turkey['ger_score'], kde=True, bins=30, ax=axes[1]);"
      ]
    },
    {
      "cell_type": "markdown",
      "metadata": {},
      "source": [
        "As you may recall we had rank columns identified as an \"object\" and the scores as \"float64\". "
      ]
    },
    {
      "cell_type": "code",
      "execution_count": null,
      "metadata": {},
      "outputs": [],
      "source": [
        "data.columns"
      ]
    },
    {
      "cell_type": "code",
      "execution_count": null,
      "metadata": {},
      "outputs": [],
      "source": [
        "import re\n",
        "rank_cols = {x for x in data.columns if x.endswith('rank')}\n",
        "rank_cols2 = {x for x in data.columns if re.findall('rank', x)}\n",
        "\n",
        "# assert rank_cols == rank_cols2\n",
        "\n"
      ]
    },
    {
      "cell_type": "code",
      "execution_count": null,
      "metadata": {},
      "outputs": [],
      "source": [
        "rank_cols2-rank_cols"
      ]
    },
    {
      "cell_type": "markdown",
      "metadata": {},
      "source": [
        "While this was a good exercise we actually want to keep the rank display columns as they give information on how universities changed rank from 2023 to 2024."
      ]
    },
    {
      "cell_type": "markdown",
      "metadata": {},
      "source": [
        "### Fixing rank columns"
      ]
    },
    {
      "cell_type": "markdown",
      "metadata": {},
      "source": [
        "As you may recall we had rank columns identified as an \"object\" and the scores as \"float64\". We can easily recover rank from the score by sorting, so we will remove them."
      ]
    },
    {
      "cell_type": "code",
      "execution_count": null,
      "metadata": {
        "colab": {
          "base_uri": "https://localhost:8080/",
          "height": 288
        },
        "id": "IGNi_EbkYKdG",
        "outputId": "9c65a3bc-069c-4284-c43c-66c08ae4c88d"
      },
      "outputs": [],
      "source": [
        "simplified = data.iloc[:,~data.columns.isin(rank_cols)]\n",
        "\n",
        "simplified.info()"
      ]
    },
    {
      "cell_type": "markdown",
      "metadata": {},
      "source": [
        "### **Question 1)**\n",
        "\n",
        "Using pandas series method [`str.extract`](https://pandas.pydata.org/pandas-docs/stable/reference/api/pandas.Series.str.extract.html) and an appropriate [regular expression](https://images.datacamp.com/image/upload/v1665049611/Marketing/Blog/Regular_Expressions_Cheat_Sheet.pdf) pattern convert the `rank_display` column to pure integers by extracting the digits."
      ]
    },
    {
      "cell_type": "code",
      "execution_count": null,
      "metadata": {},
      "outputs": [],
      "source": [
        "# fill here #"
      ]
    },
    {
      "cell_type": "code",
      "execution_count": null,
      "metadata": {},
      "outputs": [],
      "source": [
        "simplified.dtypes"
      ]
    },
    {
      "cell_type": "code",
      "execution_count": null,
      "metadata": {},
      "outputs": [],
      "source": [
        "simplified.rank_display = simplified.rank_display.astype('int')\n",
        "\n",
        "simplified.rank_display2 = simplified.rank_display2.astype('float')"
      ]
    },
    {
      "cell_type": "markdown",
      "metadata": {},
      "source": [
        "### **Question 2)**\n",
        "\n",
        "In the above code, try converting `rank_display2` to an integer. If you encounter an error, analyze why `rank_display2` was cast as a float while rank_display was successfully converted to an integer."
      ]
    },
    {
      "cell_type": "code",
      "execution_count": null,
      "metadata": {},
      "outputs": [],
      "source": [
        "# fill here #"
      ]
    },
    {
      "cell_type": "markdown",
      "metadata": {},
      "source": [
        "> Fill here by double clicking me!"
      ]
    },
    {
      "cell_type": "markdown",
      "metadata": {},
      "source": [
        "### Fixing overall score column"
      ]
    },
    {
      "cell_type": "code",
      "execution_count": null,
      "metadata": {},
      "outputs": [],
      "source": [
        "simplified['overall_score'].unique()"
      ]
    },
    {
      "cell_type": "code",
      "execution_count": null,
      "metadata": {},
      "outputs": [],
      "source": [
        "simplified.overall_score = simplified['overall_score'].replace('-', np.NaN).astype(float)"
      ]
    },
    {
      "cell_type": "markdown",
      "metadata": {},
      "source": [
        "### Fixing age band column"
      ]
    },
    {
      "cell_type": "code",
      "execution_count": null,
      "metadata": {},
      "outputs": [],
      "source": [
        "simplified['age_band'].unique()"
      ]
    },
    {
      "cell_type": "code",
      "execution_count": null,
      "metadata": {},
      "outputs": [],
      "source": [
        "simplified.loc[:,'age_band'] = simplified['age_band'].astype('object').values"
      ]
    },
    {
      "cell_type": "markdown",
      "metadata": {},
      "source": [
        "## Location Based Inference"
      ]
    },
    {
      "cell_type": "markdown",
      "metadata": {},
      "source": [
        "We might get tempted to compare global trends using countries, but we have more than 100 unique countries listed here."
      ]
    },
    {
      "cell_type": "code",
      "execution_count": null,
      "metadata": {
        "colab": {
          "base_uri": "https://localhost:8080/"
        },
        "id": "jnll6NHtYKdH",
        "outputId": "62cc4683-d460-4af1-f192-f64f2688b1eb"
      },
      "outputs": [],
      "source": [
        "len(simplified.location.unique())"
      ]
    },
    {
      "cell_type": "markdown",
      "metadata": {},
      "source": [
        "Most of our instances come from the US, UK and China."
      ]
    },
    {
      "cell_type": "code",
      "execution_count": null,
      "metadata": {
        "colab": {
          "base_uri": "https://localhost:8080/"
        },
        "id": "XbRZJs4Ijdup",
        "outputId": "5aed42c9-3c15-4ef8-b17b-c8f3246138c6"
      },
      "outputs": [],
      "source": [
        "simplified.location.value_counts()"
      ]
    },
    {
      "cell_type": "markdown",
      "metadata": {},
      "source": [
        "We can access the raw numbers inside a pandas series (shown above) by accessing their values. \n",
        "\n",
        "This highlights the fact that pandas dataframes are wrapped around numpy arrays."
      ]
    },
    {
      "cell_type": "code",
      "execution_count": null,
      "metadata": {
        "colab": {
          "base_uri": "https://localhost:8080/"
        },
        "id": "HHbyy15ejOxs",
        "outputId": "e1799901-4c42-443f-b483-81a45270587b"
      },
      "outputs": [],
      "source": [
        "simplified.location.value_counts().values"
      ]
    },
    {
      "cell_type": "markdown",
      "metadata": {
        "id": "c1jLMmS1YKdH"
      },
      "source": [
        "Instead of country based aggregation, we can add a higher order category, like which continent that country belongs to, and then we can group the data based on continent and compare inter-continent countries, or we can compare continents themselves."
      ]
    },
    {
      "cell_type": "markdown",
      "metadata": {},
      "source": [
        "You'd need to uncomment the lines below and run them if you don't have the pycountry package in your environment."
      ]
    },
    {
      "cell_type": "code",
      "execution_count": null,
      "metadata": {
        "id": "JM3vAgXdY16-"
      },
      "outputs": [],
      "source": [
        "# !pip install pycountry\n",
        "# !pip install pycountry_convert"
      ]
    },
    {
      "cell_type": "code",
      "execution_count": null,
      "metadata": {
        "id": "AU5pUMg0YKdH"
      },
      "outputs": [],
      "source": [
        "import pycountry\n",
        "from pycountry_convert import country_alpha2_to_continent_code"
      ]
    },
    {
      "cell_type": "code",
      "execution_count": null,
      "metadata": {
        "colab": {
          "base_uri": "https://localhost:8080/",
          "height": 35
        },
        "id": "jl-FWUOkYKdI",
        "outputId": "adafc879-25de-43a1-cfda-098888379b9a"
      },
      "outputs": [],
      "source": [
        "country_alpha2_to_continent_code('TR')"
      ]
    },
    {
      "cell_type": "markdown",
      "metadata": {},
      "source": [
        "This function is basically a dictionary where each country's abbreviation is mapped to a continent.\n",
        "\n",
        "The library is more extensive than this though, as it covers countries official names, and even flags with emojis."
      ]
    },
    {
      "cell_type": "code",
      "execution_count": null,
      "metadata": {
        "colab": {
          "base_uri": "https://localhost:8080/"
        },
        "id": "yhbU0quAYKdJ",
        "outputId": "94a08db1-81d3-4841-b87a-cdba6ac999e5"
      },
      "outputs": [],
      "source": [
        "pycountry.countries.get(name='United Kingdom')"
      ]
    },
    {
      "cell_type": "markdown",
      "metadata": {},
      "source": [
        "If we were to apply this function to our location code column we would get an error because the United Kingdom is coded as UK in this dataset."
      ]
    },
    {
      "cell_type": "code",
      "execution_count": null,
      "metadata": {},
      "outputs": [],
      "source": [
        "simplified.iloc[1,:5]"
      ]
    },
    {
      "cell_type": "markdown",
      "metadata": {
        "id": "NGI8qDHKYKdK"
      },
      "source": [
        "We can replace instances of UK with GB using the replace method of pandas dataframes."
      ]
    },
    {
      "cell_type": "code",
      "execution_count": null,
      "metadata": {},
      "outputs": [],
      "source": [
        "simplified.loc[:, 'location_code'] = simplified['location_code'].replace('UK', 'GB')"
      ]
    },
    {
      "cell_type": "markdown",
      "metadata": {},
      "source": [
        "Now we can apply our function to our location code column to get continents."
      ]
    },
    {
      "cell_type": "code",
      "execution_count": null,
      "metadata": {
        "id": "0ut753JQYKdK"
      },
      "outputs": [],
      "source": [
        "simplified.loc[:,'continent'] = simplified['location_code'].apply(country_alpha2_to_continent_code)"
      ]
    },
    {
      "cell_type": "code",
      "execution_count": null,
      "metadata": {},
      "outputs": [],
      "source": [
        "simplified[['continent', 'location_code']].head()"
      ]
    },
    {
      "cell_type": "markdown",
      "metadata": {
        "id": "EREepWdsYKdL"
      },
      "source": [
        "Small note about violin plots: the kernel bandwidth parameter `bw` determines how smooth or rugged the graph is."
      ]
    },
    {
      "cell_type": "code",
      "execution_count": null,
      "metadata": {
        "colab": {
          "base_uri": "https://localhost:8080/",
          "height": 582
        },
        "id": "AYZWgmuqYKdM",
        "outputId": "293e6f22-b3db-40a6-e02c-a8f7db42b033"
      },
      "outputs": [],
      "source": [
        "bw = np.linspace(0.05,0.5,6)\n",
        "\n",
        "fig, axes = plt.subplots(2,3,figsize=(9,6))\n",
        "fig.suptitle('Effect of changing bandwith on a violin plot')\n",
        "\n",
        "for i,j in zip(axes.flatten(),bw):\n",
        "    sns.violinplot(x=simplified['ar_score'], ax=i, bw_method=j)\n",
        "    i.set_xlabel('')\n",
        "    i.set_title(f'bw = {np.round(j,2)}')"
      ]
    },
    {
      "cell_type": "markdown",
      "metadata": {},
      "source": [
        "For large datasets (thousands of observations): Use a small bw (e.g., 0.05-0.2) to reveal finer details.<br>\n",
        "For small datasets: Use a larger bw (e.g., 0.2-0.3) for a cleaner, more general shape.<br>\n",
        "A good starting point: bw=0.2 or using \"scott\" for automatic selection."
      ]
    },
    {
      "cell_type": "markdown",
      "metadata": {
        "id": "lUuSLzIeYKdM"
      },
      "source": [
        "### Inference from data"
      ]
    },
    {
      "cell_type": "markdown",
      "metadata": {
        "id": "yvKV1VDsYKdN"
      },
      "source": [
        "Now let's use our new continent variable to aggregate data and show various variables' spreads."
      ]
    },
    {
      "cell_type": "markdown",
      "metadata": {},
      "source": [
        "As a side note we can use different themes for our matplotlib plots. More can be found [here](https://matplotlib.org/stable/gallery/style_sheets/style_sheets_reference.html)."
      ]
    },
    {
      "cell_type": "code",
      "execution_count": null,
      "metadata": {},
      "outputs": [],
      "source": [
        "plt.style.use('fivethirtyeight')\n"
      ]
    },
    {
      "cell_type": "code",
      "execution_count": null,
      "metadata": {
        "colab": {
          "base_uri": "https://localhost:8080/",
          "height": 466
        },
        "id": "iiIltYscYKdN",
        "outputId": "637c21e3-bcb7-42c5-855c-44511889b38f"
      },
      "outputs": [],
      "source": [
        "sns.violinplot(data=simplified, x='ar_score', y='continent', \n",
        "               hue='continent', bw_method=0.05)"
      ]
    },
    {
      "cell_type": "markdown",
      "metadata": {},
      "source": [
        "There's a trend of high academic reputation among north american and oceanean universities, with long extending tails going up a bit towards the 100 score mark."
      ]
    },
    {
      "cell_type": "code",
      "execution_count": null,
      "metadata": {},
      "outputs": [],
      "source": [
        "plt.style.use('default')"
      ]
    },
    {
      "cell_type": "code",
      "execution_count": null,
      "metadata": {},
      "outputs": [],
      "source": [
        "g = sns.FacetGrid(simplified, col=\"continent\",\n",
        "                  hue=\"continent\", col_wrap=3)\n",
        "\n",
        "g.map_dataframe(sns.histplot, x=\"ger_score\");"
      ]
    },
    {
      "cell_type": "markdown",
      "metadata": {
        "id": "TswpP_nwYKdO"
      },
      "source": [
        "On the other hand there were quite a bit of universities with high graduate employment rate in Africa and Oceania that isn't as prevalent in other continents."
      ]
    },
    {
      "cell_type": "markdown",
      "metadata": {
        "id": "nr7vBzoJIN9O"
      },
      "source": [
        "With this we can also subset our data such that only countries from a certain continent are present. Then we can look at individual countries within a continent and have a concise grahp as opposed to all 100 countries being plotted at once."
      ]
    },
    {
      "cell_type": "code",
      "execution_count": null,
      "metadata": {
        "colab": {
          "base_uri": "https://localhost:8080/",
          "height": 449
        },
        "id": "zCqKqQAEYKdP",
        "outputId": "f60b553a-4a51-4145-927f-2f3426a3752b"
      },
      "outputs": [],
      "source": [
        "fig = plt.figure(figsize=(15,9))\n",
        "\n",
        "sns.violinplot(data=simplified.query('continent == \"EU\"'), \n",
        "               x='isr_score', y='location', bw_method=0.05);"
      ]
    },
    {
      "cell_type": "markdown",
      "metadata": {
        "id": "6G-FkZWfIiNx"
      },
      "source": [
        "We can see that countries like Croatia, Romania, and Serbia generally don't have many international students, whereas countries like the UK, Switzerland and Austria generally have a lot of international students. This can suggest people who pick these high ranked universities have preferences for some countries over others."
      ]
    },
    {
      "cell_type": "markdown",
      "metadata": {},
      "source": [
        "Since the plot is so tightly packed, only the boxplot in the middle of the violins show up, but it is a neat enough graphic to include."
      ]
    },
    {
      "cell_type": "markdown",
      "metadata": {
        "id": "jJqteL9QI8OP"
      },
      "source": [
        "We can also subset our data such that only universities from a few countries of our choosing exist within it. Here the tuples of binary arrays that locate where TR and PL universities are combined with the `OR` function such that if either of the rows have these two countries it will get picked up by our final outer subset."
      ]
    },
    {
      "cell_type": "code",
      "execution_count": null,
      "metadata": {
        "id": "PcHQqsPVYKdQ"
      },
      "outputs": [],
      "source": [
        "# trpl = simplified[(simplified['location_code'] == 'TR') | (simplified['location_code'] == 'PL') ]\n",
        "\n",
        "trpl = simplified.query('location_code == \"TR\" or location_code == \"PL\"')"
      ]
    },
    {
      "cell_type": "code",
      "execution_count": null,
      "metadata": {
        "colab": {
          "base_uri": "https://localhost:8080/",
          "height": 449
        },
        "id": "EZ0pK70aYKdQ",
        "outputId": "1f90d09d-2cab-4088-9f9d-64da1f94048b"
      },
      "outputs": [],
      "source": [
        "sns.violinplot(data=trpl, x='isr_score', y='location_code', bw_method=0.2)"
      ]
    },
    {
      "cell_type": "markdown",
      "metadata": {
        "id": "gunhitN9ficX"
      },
      "source": [
        "Looks like there is an outlier (or two) for Turkey in international student ratio. Let's identify which universities these are."
      ]
    },
    {
      "cell_type": "markdown",
      "metadata": {},
      "source": [
        "### **Question 3)** \n",
        "How can we go about finding outliers in this subset of the data? Experiment with at least two different methods to detect outliers, compare their effectiveness, and justify your findings.  You can use [loc[]](https://pandas.pydata.org/docs/reference/api/pandas.DataFrame.loc.html) or [query()](https://pandas.pydata.org/docs/reference/api/pandas.DataFrame.query.html) to filter and display the dataset.\n"
      ]
    },
    {
      "cell_type": "code",
      "execution_count": null,
      "metadata": {},
      "outputs": [],
      "source": [
        "#fill here#"
      ]
    },
    {
      "cell_type": "markdown",
      "metadata": {},
      "source": [
        "### **Question 4)**\n",
        "\n",
        "Out of all historic universities with more than 30k students but are not \"fully comprehensive\" or \"comprehensive\" in their subject coverage, which ones have the best sustainability score according to the QS? Use the [query()](https://pandas.pydata.org/docs/reference/api/pandas.DataFrame.query.html) method to filter universities."
      ]
    },
    {
      "cell_type": "code",
      "execution_count": null,
      "metadata": {},
      "outputs": [],
      "source": [
        "# fill here #"
      ]
    },
    {
      "cell_type": "markdown",
      "metadata": {
        "id": "bF9tHyL5Jv8a"
      },
      "source": [
        "We can then start looking for any columns with a symmetric distribution. Since most of the statistical analyses we will cover rely on the assumption of normality, this is an important step, although normality should be checked with statistical tests like shapiro-wilk and similar tests.\n",
        "\n",
        "Here Quantiles-Quantiles plots of 4 variables chosen is drawn. The `line` parameter is set to \"s\", which tries to find a best fit line, and if none is found, it will not draw a line. Most variables chosen have a very long tail on the right, so it makes sense that many of the plots reflect this. irn score looks a bit different because it's distribution closeley resembles the uniform distribution."
      ]
    },
    {
      "cell_type": "code",
      "execution_count": null,
      "metadata": {
        "colab": {
          "base_uri": "https://localhost:8080/",
          "height": 872
        },
        "id": "dDzRwE3ZevqI",
        "outputId": "687530c4-0940-488a-9671-4c9bdcdcb5bf"
      },
      "outputs": [],
      "source": [
        "fig, axes = plt.subplots(2,2,figsize=(10,10))\n",
        "\n",
        "vars = ['ar_score', 'ger_score', 'irn_score', 'isr_score']\n",
        "\n",
        "for i,j in zip(axes.flatten(), vars):\n",
        "  sm.qqplot(simplified[j], line=\"q\", ax=i);\n",
        "  i.set_title(f'{j}')\n",
        "  "
      ]
    },
    {
      "cell_type": "markdown",
      "metadata": {},
      "source": [
        "Just to see how it is done, let's check the normality of ar score using the shapiro wilk test."
      ]
    },
    {
      "cell_type": "code",
      "execution_count": null,
      "metadata": {},
      "outputs": [],
      "source": [
        "stat, p = stats.shapiro(simplified['ar_score'].dropna())\n",
        "\n",
        "print(f'Shapiro wilk statistic: {stat}\\np value: {p}')"
      ]
    },
    {
      "cell_type": "markdown",
      "metadata": {},
      "source": [
        "We can easily reject the hypothesis that the values were picked from a normal distribution."
      ]
    },
    {
      "cell_type": "markdown",
      "metadata": {
        "id": "DvBGj13TYKdU"
      },
      "source": [
        "### Column to column relationships"
      ]
    },
    {
      "cell_type": "markdown",
      "metadata": {
        "id": "lBaWZH5KYKdV"
      },
      "source": [
        "Now that we can have a deep understanding of each column, let's see if combinations of any two column contains further information. <br>\n",
        "\n",
        "`sns.pairplot` function does this well. <br>\n",
        "\n",
        "Figsave has a parameter called `dpi` that changes the resolution of the output graphic. Higher dpi like 300 here implies large resolution and large file sizes. \n",
        "\n",
        "***Make sure your graphics have appropriate colors for visibility, no overlaps, and a big figure size so details can be made out.***"
      ]
    },
    {
      "cell_type": "code",
      "execution_count": null,
      "metadata": {
        "colab": {
          "base_uri": "https://localhost:8080/",
          "height": 801
        },
        "id": "jl93IU_YYKdV",
        "outputId": "dc40ae4d-d28f-4bf0-d81f-efb4f5f4e4a6"
      },
      "outputs": [],
      "source": [
        "sns.pairplot(simplified.sample(frac=0.3),\n",
        "            corner = True, height=1.3, aspect=1.3)\n",
        "# plt.savefig('plot.png', dpi=300)"
      ]
    },
    {
      "cell_type": "markdown",
      "metadata": {},
      "source": [
        "### **Question 5)** \n",
        "What patterns do you observe in the scatter plots? Do any variables show a strong positive or negative correlation?"
      ]
    },
    {
      "cell_type": "markdown",
      "metadata": {},
      "source": [
        "> Fill here by double clicking me!"
      ]
    },
    {
      "cell_type": "markdown",
      "metadata": {},
      "source": [
        "### Correlations of scores with overall score"
      ]
    },
    {
      "cell_type": "markdown",
      "metadata": {},
      "source": [
        "For this final part lets look at a chunk of these correlations against score only. We can compare these numbers by the percentages given in the beginning of this notebook.\n",
        "\n",
        "We can also compute correlations with the corr method, and the default is pearson's r, however, we will use Spearman correlation instead of Pearson because the variables do not follow a normal distribution.\n",
        "Correlations can only be computed for numeric attributes, so we need to subset the dataset with those columns."
      ]
    },
    {
      "cell_type": "code",
      "execution_count": null,
      "metadata": {},
      "outputs": [],
      "source": [
        "num_cols = [col for col,dtype in zip(simplified.columns, simplified.dtypes) if dtype!='object']\n",
        "num_cols"
      ]
    },
    {
      "cell_type": "markdown",
      "metadata": {},
      "source": [
        "We should remove rows with NaN values in relevant columns."
      ]
    },
    {
      "cell_type": "code",
      "execution_count": null,
      "metadata": {},
      "outputs": [],
      "source": [
        "simplified = simplified.dropna(subset=['overall_score'] + num_cols[2:-1])"
      ]
    },
    {
      "cell_type": "code",
      "execution_count": null,
      "metadata": {},
      "outputs": [],
      "source": [
        "corrs = []\n",
        "p_values = []\n",
        "for col in num_cols[2:-1]:\n",
        "    corr, p_val = spearmanr(simplified[col], simplified['overall_score'])\n",
        "    corrs.append(corr)\n",
        "    p_values.append(p_val)\n",
        "\n",
        "corr_df = pd.DataFrame({'Variable': num_cols[2:-1], 'Spearman Correlation': corrs, 'p-value': p_values})\n",
        "corr_df = corr_df.sort_values('Spearman Correlation', ascending=False).reset_index(drop=True)\n",
        "\n",
        "corr_df\n",
        "\n"
      ]
    },
    {
      "cell_type": "markdown",
      "metadata": {},
      "source": [
        "## P-Value Issue and Multiple Testing Correction\n",
        "### **Question 6)** \n",
        "If we conduct multiple statistical tests on different variables, how does this affect the reliability of our p-values?\n",
        "\n"
      ]
    },
    {
      "cell_type": "markdown",
      "metadata": {},
      "source": [
        "> Fill here by double clicking me!"
      ]
    },
    {
      "cell_type": "markdown",
      "metadata": {},
      "source": [
        " First, we apply the Bonferroni correction."
      ]
    },
    {
      "cell_type": "code",
      "execution_count": null,
      "metadata": {},
      "outputs": [],
      "source": [
        "corrected_pvals = multipletests(corr_df['p-value'], method='bonferroni')[1]\n",
        "corr_df['Bonferroni Corrected p-value'] = corrected_pvals\n"
      ]
    },
    {
      "cell_type": "markdown",
      "metadata": {},
      "source": [
        "However, Bonferroni correction is very strict, increasing the risk of Type II errors. As an alternative, we also apply the Benjamini-Hochberg (FDR) and Holm corrections."
      ]
    },
    {
      "cell_type": "code",
      "execution_count": null,
      "metadata": {},
      "outputs": [],
      "source": [
        "bh_corrected_pvals = multipletests(corr_df['p-value'], method='fdr_bh')[1]\n",
        "holm_corrected_pvals = multipletests(corr_df['p-value'], method='holm')[1]\n",
        "\n",
        "corr_df['Benjamini-Hochberg Corrected p-value'] = bh_corrected_pvals\n",
        "corr_df['Holm Corrected p-value'] = holm_corrected_pvals\n",
        "corr_df\n"
      ]
    },
    {
      "cell_type": "markdown",
      "metadata": {},
      "source": [
        "\n",
        "\n",
        "1. Strong correlation (Absolute Spearman Correlation\t > 0.6)\n",
        "   - `ar_score` (0.85), `er_score` (0.67), `sus_score` (0.65), `ger_score` (0.65)  \n",
        "   - These variables have a strong positive monotonic relationship with `overall_score`.  \n",
        "   - Higher values in these variables strongly correspond to higher `overall_score`. <br> <br>\n",
        "2. Weak correlation (Absolute Spearman Correlation\t < 0.3)  \n",
        "   - `fsr_score` (0.27)  \n",
        "   - This variable has the weakest correlation with `overall_score`.  \n",
        "   - Changes in `fsr_score` have little impact on the overall score.<br><br>\n",
        "\n",
        "3. Statistical significance (p-value)\n",
        "   - All p-values are extremely low (< 10⁻¹⁰), meaning all correlations are highly statistically significant.  \n",
        "   - This confirms that these correlations are not due to random chance.  \n"
      ]
    },
    {
      "cell_type": "markdown",
      "metadata": {},
      "source": [
        "# Comparison with Assigned Percentages\n",
        "Predefined percentage values are used to compare with observed correlations. One thing to realize here is we are using the reset_index method to save the index as another column. This is then used to color each bar in the barplot below."
      ]
    },
    {
      "cell_type": "code",
      "execution_count": null,
      "metadata": {},
      "outputs": [],
      "source": [
        "\n",
        "perc = pd.Series([0.3, 0.15, 0.1, 0.2, 0.05, 0.05, 0.05, 0.05, 0.05], index=num_cols[2:-1])\n",
        "perc_df = perc.sort_index().reset_index()\n",
        "perc_df.columns = ['Variable', 'Percentage']\n"
      ]
    },
    {
      "cell_type": "code",
      "execution_count": null,
      "metadata": {},
      "outputs": [],
      "source": [
        "\n",
        "fig, axes = plt.subplots(1, 2, figsize=(14, 6))\n",
        "fig.suptitle('Spearman Correlation with Overall Score and Assigned Percentages', size=15, y=1)\n",
        "\n",
        "ordered_variables = perc_df['Variable'].tolist()\n",
        "corr_df = corr_df.set_index('Variable').loc[ordered_variables].reset_index()\n",
        "\n",
        "sns.barplot(y='Variable', x='Spearman Correlation', orient='h', data=corr_df, ax=axes[0], hue='Variable', palette=\"viridis\", legend=False)\n",
        "axes[0].set_xlabel('Spearman Correlation')\n",
        "axes[0].set_ylabel('')\n",
        "axes[0].set_title('Correlation with Overall Score')\n",
        "\n",
        "\n",
        "sns.barplot(y='Variable', x='Percentage', orient='h', data=perc_df, ax=axes[1], hue='Variable', palette=\"viridis\", legend=False)\n",
        "axes[1].set_xlabel('Assigned Percentage')\n",
        "axes[1].set_ylabel('')\n",
        "axes[1].set_title('Assigned Percentages')\n",
        "\n",
        "plt.tight_layout()\n",
        "plt.show()\n"
      ]
    },
    {
      "cell_type": "markdown",
      "metadata": {
        "id": "f-2cItjhLFPm"
      },
      "source": [
        "Despite the claim of the authors, we find some columns like sus score, ger score and irn score to highly correlate with overall score. This doesn't automatically mean there is an additive effect though. For that we'd need to create a regression model and check how much each attribute contributes to the variation of the score."
      ]
    }
  ],
  "metadata": {
    "colab": {
      "provenance": [],
      "toc_visible": true
    },
    "kernelspec": {
      "display_name": "base",
      "language": "python",
      "name": "python3"
    },
    "language_info": {
      "codemirror_mode": {
        "name": "ipython",
        "version": 3
      },
      "file_extension": ".py",
      "mimetype": "text/x-python",
      "name": "python",
      "nbconvert_exporter": "python",
      "pygments_lexer": "ipython3",
      "version": "3.11.7"
    },
    "orig_nbformat": 4
  },
  "nbformat": 4,
  "nbformat_minor": 0
}
