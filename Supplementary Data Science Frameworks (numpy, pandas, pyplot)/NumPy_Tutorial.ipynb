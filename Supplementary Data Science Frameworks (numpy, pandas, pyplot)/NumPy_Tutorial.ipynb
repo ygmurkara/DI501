{
  "cells": [
    {
      "cell_type": "markdown",
      "metadata": {
        "id": "view-in-github",
        "colab_type": "text"
      },
      "source": [
        "<a href=\"https://colab.research.google.com/github/ygmurkara/DI501/blob/main/Supplementary%20Data%20Science%20Frameworks%20(numpy%2C%20pandas%2C%20pyplot)/NumPy_Tutorial.ipynb\" target=\"_parent\"><img src=\"https://colab.research.google.com/assets/colab-badge.svg\" alt=\"Open In Colab\"/></a>"
      ]
    },
    {
      "cell_type": "markdown",
      "metadata": {
        "id": "tN4XX5BYLBhh"
      },
      "source": [
        "<h1 style=\"margin-bottom:0\"><center>DI 501 - Introduction to Data Informatics</center></h1>\n",
        "<h2 style=\"margin-top:0\"><center>NumPy Tutorial</center></h2>\n",
        "<br>\n",
        "<p style=\"margin-top:0\"><center><b>This tutorial is prepared for Middle East Technical University's DI 501 - Introduction to Data Informatics course.</b></center></p>\n",
        "<hr style=\"height:2px;color:navy;margin-top:0\">\n",
        "<p style=\"margin-top:0; text-align: justify; font-size:15px\">NumPy (<b>Num</b>erical <b>Py</b>thon) is a widely used Python library that is open source and mostly used by scientist and engineers. It is a core library for scientific Python. It's API is used extensively by many other data science related Python libraries such as Pandas, SciPy, Matplotlib or scikit-learn. Generally, this library is used for multidimensional array and matrix structures and can perform wide variety of mathematical operations.</p>"
      ]
    },
    {
      "cell_type": "markdown",
      "metadata": {
        "id": "rJ8RKYecLBhj"
      },
      "source": [
        "<h3 style=\"margin-bottom:0\">1) Installation</h3>\n",
        "<br>\n",
        "<p style=\"margin-top:0; text-align: justify\">To install NumPy, you are required to have Python environment first. If you do not have Python, you are strongly recommended to have <a href=\"https://www.anaconda.com/\">Anaconda</a> distribution as it is beginner friendly. </p>\n",
        "<p style=\"margin-top:1; text-align: justify\">If you have Python, you can proceed to install NumPy with the following code: </p>"
      ]
    },
    {
      "cell_type": "code",
      "execution_count": null,
      "metadata": {
        "id": "zQxJ2cGuLBhk"
      },
      "outputs": [],
      "source": [
        "conda install numpy"
      ]
    },
    {
      "cell_type": "markdown",
      "metadata": {
        "id": "AZBCBTGCLBhk"
      },
      "source": [
        "<p style=\"margin-top:0; text-align: justify\">or </p>"
      ]
    },
    {
      "cell_type": "code",
      "execution_count": null,
      "metadata": {
        "scrolled": false,
        "id": "aDR7p6p-LBhl"
      },
      "outputs": [],
      "source": [
        "pip install numpy"
      ]
    },
    {
      "cell_type": "markdown",
      "metadata": {
        "id": "kWINEtosLBhl"
      },
      "source": [
        "<p style=\"margin-top:0; text-align: justify\">You can use those codes on command prompt or Anaconda prompt to install NumPy. If you have any problems, you can refer to <a href=\"https://numpy.org/install/\">original website</a> or you can directly ask to assistants of the course. </p>"
      ]
    },
    {
      "cell_type": "markdown",
      "metadata": {
        "id": "DIPYRLb7LBhl"
      },
      "source": [
        "<h3 style=\"margin-bottom:0\">2) Importing</h3>\n",
        "<br>\n",
        "<p style=\"margin-top:0; text-align: justify\">To be able to use NumPy library, you first need to import it. It is a widely used practice to abbreviate NumPy as np. </p>"
      ]
    },
    {
      "cell_type": "code",
      "execution_count": null,
      "metadata": {
        "id": "BMyHRZSkLBhl"
      },
      "outputs": [],
      "source": [
        "import numpy as np"
      ]
    },
    {
      "cell_type": "markdown",
      "metadata": {
        "id": "vQRRursGLBhl"
      },
      "source": [
        "<h3 style=\"margin-bottom:0\">3) Creating Arrays</h3>\n",
        "<br>\n",
        "<p style=\"margin-top:0; text-align: justify\">There are many ways to create an array, we will cover some popular ones. </p>\n",
        "<br>\n",
        "<p style=\"margin-top:0; text-align: justify\">Code below will create an array named \"a\" that is 1D: </p>"
      ]
    },
    {
      "cell_type": "code",
      "execution_count": null,
      "metadata": {
        "id": "S1hobTI0LBhl",
        "outputId": "25a8a8f8-ebe1-429e-d75e-7724a4fd5dbd"
      },
      "outputs": [
        {
          "data": {
            "text/plain": [
              "array([1, 2, 3, 4, 5, 6])"
            ]
          },
          "execution_count": 2,
          "metadata": {},
          "output_type": "execute_result"
        }
      ],
      "source": [
        "a = np.array([1,2,3,4,5,6])\n",
        "a"
      ]
    },
    {
      "cell_type": "markdown",
      "metadata": {
        "id": "BLsUE40VLBhm"
      },
      "source": [
        "<p style=\"margin-top:0; text-align: justify\">To create a 2D array, we can create an array named \"b\" as follows: </p>"
      ]
    },
    {
      "cell_type": "code",
      "execution_count": null,
      "metadata": {
        "id": "C_bv2YAjLBhm",
        "outputId": "a7b78cef-b355-4afc-81c7-bef9ee6ec7b2"
      },
      "outputs": [
        {
          "data": {
            "text/plain": [
              "array([[1, 2, 3],\n",
              "       [4, 5, 6],\n",
              "       [7, 8, 9]])"
            ]
          },
          "execution_count": 3,
          "metadata": {},
          "output_type": "execute_result"
        }
      ],
      "source": [
        "b = np.array([(1,2,3), (4,5,6), (7,8,9)])\n",
        "b"
      ]
    },
    {
      "cell_type": "markdown",
      "metadata": {
        "id": "09kj9XOTLBhn"
      },
      "source": [
        "<p style=\"margin-top:0; text-align: justify\">Finally, we can create 3D array c as: </p>"
      ]
    },
    {
      "cell_type": "code",
      "execution_count": null,
      "metadata": {
        "id": "azOmAenSLBhn",
        "outputId": "6228883c-4f4e-42a3-d1bc-8aae654cdced"
      },
      "outputs": [
        {
          "data": {
            "text/plain": [
              "array([[[ 1.,  2.,  3.],\n",
              "        [ 4.,  5.,  6.],\n",
              "        [ 7.,  8.,  9.]],\n",
              "\n",
              "       [[10., 11., 12.],\n",
              "        [13., 14., 15.],\n",
              "        [16., 17., 18.]],\n",
              "\n",
              "       [[19., 20., 21.],\n",
              "        [22., 23., 24.],\n",
              "        [25., 26., 27.]]])"
            ]
          },
          "execution_count": 4,
          "metadata": {},
          "output_type": "execute_result"
        }
      ],
      "source": [
        "c = np.array([[(1,2,3),(4,5,6),(7,8,9)], [(10,11,12),(13,14,15),(16,17,18)], [(19,20,21),(22,23,24),(25,26,27)]],\n",
        " dtype = float)\n",
        "c"
      ]
    },
    {
      "cell_type": "markdown",
      "metadata": {
        "id": "7rLbTcHFLBhn"
      },
      "source": [
        "<p style=\"margin-top:0; text-align: justify\">There are some built-in functions in NumPy library that can help us to create different types of arrays. </p>\n",
        "<br>\n",
        "<p style=\"margin-top:0; text-align: justify\">For example, we can create an array with full zeros by defining the shape of the array in parenthesis by: </p>"
      ]
    },
    {
      "cell_type": "code",
      "execution_count": null,
      "metadata": {
        "id": "LYU8UtTqLBhn",
        "outputId": "dd647b1d-cad7-4a5e-b911-03650598f503"
      },
      "outputs": [
        {
          "data": {
            "text/plain": [
              "array([[0., 0.],\n",
              "       [0., 0.],\n",
              "       [0., 0.]])"
            ]
          },
          "execution_count": 5,
          "metadata": {},
          "output_type": "execute_result"
        }
      ],
      "source": [
        "d = np.zeros((3,2))\n",
        "d"
      ]
    },
    {
      "cell_type": "markdown",
      "metadata": {
        "id": "P5VLnMiRLBho"
      },
      "source": [
        "<p style=\"margin-top:0; text-align: justify\">Likewise, we can create an array with full ones by:</p>"
      ]
    },
    {
      "cell_type": "code",
      "execution_count": null,
      "metadata": {
        "scrolled": true,
        "id": "nppVueFcLBho",
        "outputId": "379a062e-de88-4340-90fd-0eae78e1c761"
      },
      "outputs": [
        {
          "data": {
            "text/plain": [
              "array([[1., 1., 1.],\n",
              "       [1., 1., 1.],\n",
              "       [1., 1., 1.]])"
            ]
          },
          "execution_count": 6,
          "metadata": {},
          "output_type": "execute_result"
        }
      ],
      "source": [
        "e = np.ones((3,3))\n",
        "e"
      ]
    },
    {
      "cell_type": "markdown",
      "metadata": {
        "id": "xtRoqxPYLBho"
      },
      "source": [
        "<p style=\"margin-top:0; text-align: justify\">We can create an array with a constant value by (first, we define shape of our array, then we specify value):</p>"
      ]
    },
    {
      "cell_type": "code",
      "execution_count": null,
      "metadata": {
        "scrolled": true,
        "id": "QVNH95vaLBho",
        "outputId": "3e81b9b7-0e2d-4be0-b335-99aa4a44bffa"
      },
      "outputs": [
        {
          "data": {
            "text/plain": [
              "array([['a', 'a', 'a'],\n",
              "       ['a', 'a', 'a'],\n",
              "       ['a', 'a', 'a']], dtype='<U1')"
            ]
          },
          "execution_count": 7,
          "metadata": {},
          "output_type": "execute_result"
        }
      ],
      "source": [
        "f = np.full((3,3),'a')\n",
        "f"
      ]
    },
    {
      "cell_type": "markdown",
      "metadata": {
        "id": "D1e3LMB6LBho"
      },
      "source": [
        "<p style=\"margin-top:0; text-align: justify\">We can create an identity matrix by:</p>"
      ]
    },
    {
      "cell_type": "code",
      "execution_count": null,
      "metadata": {
        "scrolled": true,
        "id": "90J8z6iGLBho",
        "outputId": "e08c20ea-5db8-4846-af86-ede0ca4d5e91"
      },
      "outputs": [
        {
          "data": {
            "text/plain": [
              "array([[1., 0., 0., 0.],\n",
              "       [0., 1., 0., 0.],\n",
              "       [0., 0., 1., 0.],\n",
              "       [0., 0., 0., 1.]])"
            ]
          },
          "execution_count": 8,
          "metadata": {},
          "output_type": "execute_result"
        }
      ],
      "source": [
        "g = np.eye(4)\n",
        "g"
      ]
    },
    {
      "cell_type": "markdown",
      "metadata": {
        "id": "SqZxuM1ZLBho"
      },
      "source": [
        "<p style=\"margin-top:0; text-align: justify\">We can create an array with random values by (seed is used to generate consistant results, if you comment out first line and run same cell over and over, each time you will get different results. Seed is necessary to prevent this inconsistency):</p>"
      ]
    },
    {
      "cell_type": "code",
      "execution_count": null,
      "metadata": {
        "scrolled": true,
        "id": "roaHm9lxLBho",
        "outputId": "20162ebc-5b10-4979-da07-80744bb9c1c9"
      },
      "outputs": [
        {
          "data": {
            "text/plain": [
              "array([[0.69646919, 0.28613933, 0.22685145],\n",
              "       [0.55131477, 0.71946897, 0.42310646],\n",
              "       [0.9807642 , 0.68482974, 0.4809319 ]])"
            ]
          },
          "execution_count": 9,
          "metadata": {},
          "output_type": "execute_result"
        }
      ],
      "source": [
        "np.random.seed(123)\n",
        "\n",
        "h = np.random.random((3,3))\n",
        "h"
      ]
    },
    {
      "cell_type": "markdown",
      "metadata": {
        "id": "xMZR8imfLBho"
      },
      "source": [
        "<h3 style=\"margin-bottom:0\">4) Inspecting</h3>\n",
        "<br>\n",
        "<p style=\"margin-top:0; text-align: justify\">In this section, we will look at some properties of NumPy arrays that can be useful for different purposes. </p>\n",
        "<br>\n",
        "<p style=\"margin-top:0; text-align: justify\">To get the dimension of an array, we can use: </p>"
      ]
    },
    {
      "cell_type": "code",
      "execution_count": null,
      "metadata": {
        "scrolled": false,
        "id": "ez548AKgLBhp",
        "outputId": "96cd74ca-4f76-4ccc-f9d5-c55bd39458fc"
      },
      "outputs": [
        {
          "data": {
            "text/plain": [
              "(3, 3, 3)"
            ]
          },
          "execution_count": 10,
          "metadata": {},
          "output_type": "execute_result"
        }
      ],
      "source": [
        "c.shape"
      ]
    },
    {
      "cell_type": "markdown",
      "metadata": {
        "id": "6hkVI6q2LBhp"
      },
      "source": [
        "<p style=\"margin-top:0; text-align: justify\">We can find number of dimensions by: </p>"
      ]
    },
    {
      "cell_type": "code",
      "execution_count": null,
      "metadata": {
        "id": "AURAE_jWLBhp",
        "outputId": "e89f4bc8-0999-4baf-d9a6-0074a392f1c7"
      },
      "outputs": [
        {
          "data": {
            "text/plain": [
              "3"
            ]
          },
          "execution_count": 11,
          "metadata": {},
          "output_type": "execute_result"
        }
      ],
      "source": [
        "c.ndim"
      ]
    },
    {
      "cell_type": "markdown",
      "metadata": {
        "id": "DZvzsVW3LBhp"
      },
      "source": [
        "<p style=\"margin-top:0; text-align: justify\">We can find number of elements of an array by: </p>"
      ]
    },
    {
      "cell_type": "code",
      "execution_count": null,
      "metadata": {
        "id": "wCsyMuB4LBhp",
        "outputId": "69f712aa-fb05-4484-9711-d633886ddb48"
      },
      "outputs": [
        {
          "data": {
            "text/plain": [
              "27"
            ]
          },
          "execution_count": 12,
          "metadata": {},
          "output_type": "execute_result"
        }
      ],
      "source": [
        "c.size"
      ]
    },
    {
      "cell_type": "markdown",
      "metadata": {
        "id": "yh3JBkeQLBhp"
      },
      "source": [
        "<p style=\"margin-top:0; text-align: justify\">We can get data type by: </p>"
      ]
    },
    {
      "cell_type": "code",
      "execution_count": null,
      "metadata": {
        "id": "h09oBqFPLBhp",
        "outputId": "509f83da-40d9-4ba9-d4b3-317ccee971f6"
      },
      "outputs": [
        {
          "data": {
            "text/plain": [
              "'float64'"
            ]
          },
          "execution_count": 13,
          "metadata": {},
          "output_type": "execute_result"
        }
      ],
      "source": [
        "c.dtype.name"
      ]
    },
    {
      "cell_type": "markdown",
      "metadata": {
        "id": "6O8DegvNLBhp"
      },
      "source": [
        "<h3 style=\"margin-bottom:0\">5) Indexing and Slicing</h3>\n",
        "<br>\n",
        "<p style=\"margin-top:0; text-align: justify\">We may need to select individual elements or some parts of the given array or matrix for different purposes. </p>"
      ]
    },
    {
      "cell_type": "markdown",
      "metadata": {
        "id": "VsM5iyPTLBhp"
      },
      "source": [
        "<h4 style=\"margin-bottom:0\">Case 1</h4>"
      ]
    },
    {
      "cell_type": "markdown",
      "metadata": {
        "id": "rNtn4yBILBhp"
      },
      "source": [
        "<p style=\"margin-top:0; text-align: justify\">The simpleset one is getting a single value from an array. We define the position (starting from 0) for each dimension for the desired element in a square bracket. To get value 3 from the array 'a' above: </p>"
      ]
    },
    {
      "cell_type": "code",
      "execution_count": null,
      "metadata": {
        "scrolled": true,
        "id": "rSBRj54ALBhp",
        "outputId": "80b48efb-f105-47a6-8154-26bc7d5b8d49"
      },
      "outputs": [
        {
          "data": {
            "text/plain": [
              "3"
            ]
          },
          "execution_count": 14,
          "metadata": {},
          "output_type": "execute_result"
        }
      ],
      "source": [
        "a[2]"
      ]
    },
    {
      "cell_type": "markdown",
      "metadata": {
        "id": "dL5gsu8eLBhq"
      },
      "source": [
        "![slicing1.png](attachment:slicing1.png)"
      ]
    },
    {
      "cell_type": "markdown",
      "metadata": {
        "id": "QfDUXnBbLBhq"
      },
      "source": [
        "<h4 style=\"margin-bottom:0\">Case 2</h4>"
      ]
    },
    {
      "cell_type": "markdown",
      "metadata": {
        "id": "xFMVcfclLBhq"
      },
      "source": [
        "<p style=\"margin-top:0; text-align: justify\">We may want to capture 22 from array 'c' by: </p>"
      ]
    },
    {
      "cell_type": "code",
      "execution_count": null,
      "metadata": {
        "scrolled": true,
        "id": "hJRm1lGvLBhq",
        "outputId": "02c7c865-6057-43f0-f2f2-f38767083567"
      },
      "outputs": [
        {
          "data": {
            "text/plain": [
              "22.0"
            ]
          },
          "execution_count": 15,
          "metadata": {},
          "output_type": "execute_result"
        }
      ],
      "source": [
        "c[2,1,0]"
      ]
    },
    {
      "cell_type": "markdown",
      "metadata": {
        "id": "BUQOwK9NLBhq"
      },
      "source": [
        "![slicing2.png](attachment:slicing2.png)"
      ]
    },
    {
      "cell_type": "markdown",
      "metadata": {
        "id": "q7iaH2_RLBhq"
      },
      "source": [
        "<p style=\"margin-top:0; text-align: justify\">Note that when passing arguments into square brackets, we first indentify the page element is in, then we identify row and column, respectively. </p>"
      ]
    },
    {
      "cell_type": "markdown",
      "metadata": {
        "id": "Y5G25D78LBhq"
      },
      "source": [
        "<h4 style=\"margin-bottom:0\">Case 3</h4>"
      ]
    },
    {
      "cell_type": "markdown",
      "metadata": {
        "id": "5iMgFMh8LBhq"
      },
      "source": [
        "<p style=\"margin-top:0; text-align: justify\">If we want to capture the very last element of our array, we can simply put -1, instead of counting number of elements in our array. </p>"
      ]
    },
    {
      "cell_type": "code",
      "execution_count": null,
      "metadata": {
        "id": "fqS6r8PjLBhr",
        "outputId": "d266f7d7-b149-4bc6-dd58-865b357bfda8"
      },
      "outputs": [
        {
          "data": {
            "text/plain": [
              "6"
            ]
          },
          "execution_count": 16,
          "metadata": {},
          "output_type": "execute_result"
        }
      ],
      "source": [
        "a[-1]"
      ]
    },
    {
      "cell_type": "markdown",
      "metadata": {
        "id": "JhWPWcEpLBhr"
      },
      "source": [
        "![slicing3.png](attachment:slicing3.png)"
      ]
    },
    {
      "cell_type": "markdown",
      "metadata": {
        "id": "n6IQJhXRLBhr"
      },
      "source": [
        "<p style=\"margin-top:0; text-align: justify\">To get element \"5\" from the array above, we could put -2 in square brackets. Note that when we do forwards slicing, index starts from 0. However, when we do backwards slicing, index starts from -1. </p>"
      ]
    },
    {
      "cell_type": "markdown",
      "metadata": {
        "id": "lSUERYDXLBhr"
      },
      "source": [
        "<h4 style=\"margin-bottom:0\">Case 4</h4>"
      ]
    },
    {
      "cell_type": "markdown",
      "metadata": {
        "id": "ISo-LYA6LBhr"
      },
      "source": [
        "<p style=\"margin-top:0; text-align: justify\">We can select multiple items at once by putting required indices into an array. If we want to capture 1,2 and 6 from the a array, we can use: </p>"
      ]
    },
    {
      "cell_type": "code",
      "execution_count": null,
      "metadata": {
        "id": "RyhbIEA-LBhr",
        "outputId": "e929fe08-0019-49ef-a9a4-bd6c6549a34a"
      },
      "outputs": [
        {
          "data": {
            "text/plain": [
              "array([1, 2, 6])"
            ]
          },
          "execution_count": 17,
          "metadata": {},
          "output_type": "execute_result"
        }
      ],
      "source": [
        "a[[0,1,5]]"
      ]
    },
    {
      "cell_type": "markdown",
      "metadata": {
        "id": "z88tlRosLBhr"
      },
      "source": [
        "![slicing4-2.png](attachment:slicing4-2.png)"
      ]
    },
    {
      "cell_type": "markdown",
      "metadata": {
        "id": "2mpXMIoXLBhr"
      },
      "source": [
        "<h4 style=\"margin-bottom:0\">Case 5</h4>"
      ]
    },
    {
      "cell_type": "markdown",
      "metadata": {
        "id": "XHoIk8UYLBhr"
      },
      "source": [
        "<p style=\"margin-top:0; text-align: justify\">If the required elements are in order, we can use \":\" to indicate all of the elements between two indices. (the index we put on the left of the colon is inclusive whereas the number we put on the right is exclusive, be careful). If we want to get all numbers between 2 and 5 (including them) from the array 'a' above: </p>"
      ]
    },
    {
      "cell_type": "code",
      "execution_count": null,
      "metadata": {
        "id": "m407zbdVLBhr",
        "outputId": "28e11314-5755-4319-d985-3f1d6114f800"
      },
      "outputs": [
        {
          "data": {
            "text/plain": [
              "array([2, 3, 4, 5])"
            ]
          },
          "execution_count": 18,
          "metadata": {},
          "output_type": "execute_result"
        }
      ],
      "source": [
        "a[1:5]"
      ]
    },
    {
      "cell_type": "markdown",
      "metadata": {
        "id": "EiQKjFGOLBhr"
      },
      "source": [
        "![slicing5.png](attachment:slicing5.png)"
      ]
    },
    {
      "cell_type": "markdown",
      "metadata": {
        "id": "j3jHynEKLBhr"
      },
      "source": [
        "<h4 style=\"margin-bottom:0\">Case 6</h4>"
      ]
    },
    {
      "cell_type": "markdown",
      "metadata": {
        "id": "v3h4DCnqLBhs"
      },
      "source": [
        "<p style=\"margin-top:0; text-align: justify\">If you want to select each number starting from 3 to the end in array a, you can put the index of 3 to the left and left the right side of \":\" empty: </p>"
      ]
    },
    {
      "cell_type": "code",
      "execution_count": null,
      "metadata": {
        "scrolled": true,
        "id": "yM1_OTlhLBhs",
        "outputId": "c85c7e13-58ab-4a80-d0e5-1d41dcd9f320"
      },
      "outputs": [
        {
          "data": {
            "text/plain": [
              "array([3, 4, 5, 6])"
            ]
          },
          "execution_count": 19,
          "metadata": {},
          "output_type": "execute_result"
        }
      ],
      "source": [
        "a[2:]"
      ]
    },
    {
      "cell_type": "markdown",
      "metadata": {
        "id": "hix8bChkLBhs"
      },
      "source": [
        "![slicing6.png](attachment:slicing6.png)"
      ]
    },
    {
      "cell_type": "markdown",
      "metadata": {
        "id": "TWlHQFENLBhs"
      },
      "source": [
        "<p style=\"margin-top:0; text-align: justify\">We could select all of the array by a[ : ]. Also, we could select all the numbers up to three by a[ : 3] (we use 3 as again, right side is exclusive whereas left side is inclusive). </p>"
      ]
    },
    {
      "cell_type": "markdown",
      "metadata": {
        "id": "_-hi1nYrLBhs"
      },
      "source": [
        "<h4 style=\"margin-bottom:0\">Case 7</h4>"
      ]
    },
    {
      "cell_type": "markdown",
      "metadata": {
        "id": "R-xreGStLBhs"
      },
      "source": [
        "<p style=\"margin-top:0; text-align: justify\">If we need to select all of the even numbers, we can simply put their indices into an array. However, as we know the <b>step size</b>, we can shortly indicate step size as 3rd element, seperated by \":\" again. We start from 1 (index of first even number) then go all the way up to the end (second space is empty), incrementing our index by 2 each time by:</p>"
      ]
    },
    {
      "cell_type": "code",
      "execution_count": null,
      "metadata": {
        "id": "omMFTwN7LBhs",
        "outputId": "f3132ca4-c532-493b-c397-4e8c0541d8a8"
      },
      "outputs": [
        {
          "data": {
            "text/plain": [
              "array([2, 4, 6])"
            ]
          },
          "execution_count": 20,
          "metadata": {},
          "output_type": "execute_result"
        }
      ],
      "source": [
        "a[1::2]"
      ]
    },
    {
      "cell_type": "markdown",
      "metadata": {
        "id": "DFD8P1ynLBhs"
      },
      "source": [
        "![slicing7.png](attachment:slicing7.png)"
      ]
    },
    {
      "cell_type": "markdown",
      "metadata": {
        "id": "AAeb9PZGLBhs"
      },
      "source": [
        "<h4 style=\"margin-bottom:0\">Case 8</h4>"
      ]
    },
    {
      "cell_type": "markdown",
      "metadata": {
        "id": "EUQZgGLXLBhs"
      },
      "source": [
        "This step size method can be used for reversing an array. Recall that a[ : ] would return the entire array. If we add the step size of -1 as the third argument, we will get our array reversed."
      ]
    },
    {
      "cell_type": "code",
      "execution_count": null,
      "metadata": {
        "id": "Ai47VwDzLBhs",
        "outputId": "ca2d2e26-7045-4b15-9f7a-43a84b34c3a7"
      },
      "outputs": [
        {
          "data": {
            "text/plain": [
              "array([6, 5, 4, 3, 2, 1])"
            ]
          },
          "execution_count": 21,
          "metadata": {},
          "output_type": "execute_result"
        }
      ],
      "source": [
        "a[::-1]"
      ]
    },
    {
      "cell_type": "markdown",
      "metadata": {
        "id": "0gJYSigwLBhs"
      },
      "source": [
        "![slicing8.png](attachment:slicing8.png)"
      ]
    },
    {
      "cell_type": "markdown",
      "metadata": {
        "id": "v-evSmh9LBhs"
      },
      "source": [
        "<h4 style=\"margin-bottom:0\">Case 9</h4>"
      ]
    },
    {
      "cell_type": "markdown",
      "metadata": {
        "id": "nsIMY5pYLBhs"
      },
      "source": [
        "<p style=\"margin-top:0; text-align: justify\">When we work with arrays that have more than 1 dimensions, we may need to select a whole row or columnn. If we want to grab second column of array b above:</p>"
      ]
    },
    {
      "cell_type": "code",
      "execution_count": null,
      "metadata": {
        "id": "akSNZmuOLBht",
        "outputId": "0c674d91-993f-433f-ac1e-7869dd97c6b0"
      },
      "outputs": [
        {
          "data": {
            "text/plain": [
              "array([4, 5, 6])"
            ]
          },
          "execution_count": 22,
          "metadata": {},
          "output_type": "execute_result"
        }
      ],
      "source": [
        "b[1,:]"
      ]
    },
    {
      "cell_type": "markdown",
      "metadata": {
        "id": "RMUV3qERLBht"
      },
      "source": [
        "![slicing9.png](attachment:slicing9.png)"
      ]
    },
    {
      "cell_type": "markdown",
      "metadata": {
        "id": "p23WPpiILBht"
      },
      "source": [
        "First, we passed the row we require, then we passed : to indicate we want everything from that row. For example, we could put \":2\" as the second argument to indicate we only want 4 and 5."
      ]
    },
    {
      "cell_type": "markdown",
      "metadata": {
        "id": "cYugdgJeLBht"
      },
      "source": [
        "<h4 style=\"margin-bottom:0\">Case 10</h4>"
      ]
    },
    {
      "cell_type": "markdown",
      "metadata": {
        "id": "7Gmd9AbQLBht"
      },
      "source": [
        "<p style=\"margin-top:0; text-align: justify\">If we want to pick all of the elements in the corners of array b:</p>"
      ]
    },
    {
      "cell_type": "code",
      "execution_count": null,
      "metadata": {
        "id": "Vd7gzSJWLBht",
        "outputId": "ca36e1b7-b38f-4393-e515-a8998bd1722b"
      },
      "outputs": [
        {
          "data": {
            "text/plain": [
              "array([[1, 3],\n",
              "       [7, 9]])"
            ]
          },
          "execution_count": 23,
          "metadata": {},
          "output_type": "execute_result"
        }
      ],
      "source": [
        "b[::2,::2]"
      ]
    },
    {
      "cell_type": "markdown",
      "metadata": {
        "id": "sDmdtkThLBht"
      },
      "source": [
        "![slicing10.png](attachment:slicing10.png)"
      ]
    },
    {
      "cell_type": "markdown",
      "metadata": {
        "id": "4uNcVCUsLBht"
      },
      "source": [
        "<h4 style=\"margin-bottom:0\">Case 11</h4>"
      ]
    },
    {
      "cell_type": "markdown",
      "metadata": {
        "id": "HZFnbb6LLBht"
      },
      "source": [
        "<p style=\"margin-top:0; text-align: justify\">If we want to pick all of the elements in array c that is on second or third column:</p>"
      ]
    },
    {
      "cell_type": "code",
      "execution_count": null,
      "metadata": {
        "id": "Hx6C9FM1LBht",
        "outputId": "6ea16271-35e1-41eb-97f0-f269277e0bc7"
      },
      "outputs": [
        {
          "data": {
            "text/plain": [
              "array([[[ 2.,  3.],\n",
              "        [ 5.,  6.],\n",
              "        [ 8.,  9.]],\n",
              "\n",
              "       [[11., 12.],\n",
              "        [14., 15.],\n",
              "        [17., 18.]],\n",
              "\n",
              "       [[20., 21.],\n",
              "        [23., 24.],\n",
              "        [26., 27.]]])"
            ]
          },
          "execution_count": 24,
          "metadata": {},
          "output_type": "execute_result"
        }
      ],
      "source": [
        "c[:,:,1:3]"
      ]
    },
    {
      "cell_type": "markdown",
      "metadata": {
        "id": "dBWdy-k7LBht"
      },
      "source": [
        "![slicing11.png](attachment:slicing11.png)"
      ]
    },
    {
      "cell_type": "markdown",
      "metadata": {
        "id": "PhkmbVnTLBht"
      },
      "source": [
        "<h4 style=\"margin-bottom:0\">Case 12</h4>"
      ]
    },
    {
      "cell_type": "markdown",
      "metadata": {
        "id": "cZ9mjZJTLBht"
      },
      "source": [
        "<p style=\"margin-top:0; text-align: justify\">Apart from the examples above, we can do boolean indexing by passing a boolean condition between square brackets. Returned array will contain all of the values that satisfy the boolean condition. If we want to retrieve all of the numbers that are greater than 22 in array c: </p>"
      ]
    },
    {
      "cell_type": "code",
      "execution_count": null,
      "metadata": {
        "scrolled": true,
        "id": "SsG8olH_LBht",
        "outputId": "217de62a-3654-4bfc-d591-0ecc88dfcf03"
      },
      "outputs": [
        {
          "data": {
            "text/plain": [
              "array([23., 24., 25., 26., 27.])"
            ]
          },
          "execution_count": 25,
          "metadata": {},
          "output_type": "execute_result"
        }
      ],
      "source": [
        "c[c>22]"
      ]
    },
    {
      "cell_type": "markdown",
      "metadata": {
        "id": "foYndsGnLBht"
      },
      "source": [
        "![slicing12.png](attachment:slicing12.png)"
      ]
    },
    {
      "cell_type": "markdown",
      "metadata": {
        "id": "waybmhOWLBht"
      },
      "source": [
        "<h4 style=\"margin-bottom:0\">Case 13</h4>"
      ]
    },
    {
      "cell_type": "markdown",
      "metadata": {
        "id": "jSvx88fALBhu"
      },
      "source": [
        "<p style=\"margin-top:0; text-align: justify\">Finally, we can pass multiple boolean conditions by using NumPy's logical_and function. If we want to retrieve all of the numbers that are greater than 22 but lower than 26 in array c: </p>"
      ]
    },
    {
      "cell_type": "code",
      "execution_count": null,
      "metadata": {
        "id": "K5OzTWTcLBhu",
        "outputId": "40c67f7c-a914-4d75-eaf3-3d6d572de320"
      },
      "outputs": [
        {
          "data": {
            "text/plain": [
              "array([23., 24., 25.])"
            ]
          },
          "execution_count": 26,
          "metadata": {},
          "output_type": "execute_result"
        }
      ],
      "source": [
        "c[np.logical_and(c>22, c<26)]"
      ]
    },
    {
      "cell_type": "markdown",
      "metadata": {
        "id": "QM1NPvzOLBhu"
      },
      "source": [
        "![slicing13.png](attachment:slicing13.png)"
      ]
    },
    {
      "cell_type": "markdown",
      "metadata": {
        "id": "2DBHAUJVLBhu"
      },
      "source": [
        "<h3 style=\"margin-bottom:0\">6) Mathematics</h3>\n",
        "<br>\n",
        "<p style=\"margin-top:0; text-align: justify\">We may need to perform mathematical operations on arrays.</p>\n",
        "<br>\n",
        "<p style=\"margin-top:0; text-align: justify\">For example, we can do simplest 4 mathematical operations as:</p>"
      ]
    },
    {
      "cell_type": "code",
      "execution_count": null,
      "metadata": {
        "id": "GBezlMMnLBhu",
        "outputId": "410ea401-53d8-4544-dc9e-394a73f19dd7"
      },
      "outputs": [
        {
          "data": {
            "text/plain": [
              "array([[ 2.,  3.,  4.],\n",
              "       [ 5.,  6.,  7.],\n",
              "       [ 8.,  9., 10.]])"
            ]
          },
          "execution_count": 27,
          "metadata": {},
          "output_type": "execute_result"
        }
      ],
      "source": [
        "np.add(b, e)"
      ]
    },
    {
      "cell_type": "code",
      "execution_count": null,
      "metadata": {
        "id": "Waro5Rd_LBhu",
        "outputId": "fec90608-878f-46c9-a373-92e7d9bf5156"
      },
      "outputs": [
        {
          "data": {
            "text/plain": [
              "array([[0., 1., 2.],\n",
              "       [3., 4., 5.],\n",
              "       [6., 7., 8.]])"
            ]
          },
          "execution_count": 28,
          "metadata": {},
          "output_type": "execute_result"
        }
      ],
      "source": [
        "np.subtract(b, e)"
      ]
    },
    {
      "cell_type": "code",
      "execution_count": null,
      "metadata": {
        "id": "jLbGDgQVLBhu",
        "outputId": "96ed7d3f-47e7-42fa-99b5-61e479b4d668"
      },
      "outputs": [
        {
          "data": {
            "text/plain": [
              "array([[1., 2., 3.],\n",
              "       [4., 5., 6.],\n",
              "       [7., 8., 9.]])"
            ]
          },
          "execution_count": 29,
          "metadata": {},
          "output_type": "execute_result"
        }
      ],
      "source": [
        "np.multiply(b, e)"
      ]
    },
    {
      "cell_type": "code",
      "execution_count": null,
      "metadata": {
        "id": "oWv21QkSLBhu",
        "outputId": "6b2b4d21-e087-4f9b-f19e-37f1baf62907"
      },
      "outputs": [
        {
          "data": {
            "text/plain": [
              "array([[1., 2., 3.],\n",
              "       [4., 5., 6.],\n",
              "       [7., 8., 9.]])"
            ]
          },
          "execution_count": 30,
          "metadata": {},
          "output_type": "execute_result"
        }
      ],
      "source": [
        "np.divide(b, e)"
      ]
    },
    {
      "cell_type": "markdown",
      "metadata": {
        "id": "ICSE0VtgLBhu"
      },
      "source": [
        "We can apply mathematical functions with integer or floats as well."
      ]
    },
    {
      "cell_type": "code",
      "execution_count": null,
      "metadata": {
        "id": "xkCZh8GoLBhu",
        "outputId": "6fa1c0d6-abe7-46df-bc9b-877ae5a1daaa"
      },
      "outputs": [
        {
          "data": {
            "text/plain": [
              "array([[ 4,  5,  6],\n",
              "       [ 7,  8,  9],\n",
              "       [10, 11, 12]])"
            ]
          },
          "execution_count": 31,
          "metadata": {},
          "output_type": "execute_result"
        }
      ],
      "source": [
        "np.add(b, 3)"
      ]
    },
    {
      "cell_type": "code",
      "execution_count": null,
      "metadata": {
        "id": "AR9enNtALBhu",
        "outputId": "4f2df6c2-5553-44c9-ad7b-91e9b7cfdb65"
      },
      "outputs": [
        {
          "data": {
            "text/plain": [
              "array([[ 2,  4,  6],\n",
              "       [ 8, 10, 12],\n",
              "       [14, 16, 18]])"
            ]
          },
          "execution_count": 32,
          "metadata": {},
          "output_type": "execute_result"
        }
      ],
      "source": [
        "np.multiply(b, 2)"
      ]
    },
    {
      "cell_type": "markdown",
      "metadata": {
        "id": "1Rp7Kw5XLBhu"
      },
      "source": [
        "<p style=\"margin-top:0; text-align: justify\">Or, we can do exponentiation like:</p>"
      ]
    },
    {
      "cell_type": "code",
      "execution_count": null,
      "metadata": {
        "id": "oS30rSp3LBhu",
        "outputId": "bc8c564d-6a2c-479c-b0fa-cbea89a945f0"
      },
      "outputs": [
        {
          "data": {
            "text/plain": [
              "array([[2.71828183e+00, 7.38905610e+00, 2.00855369e+01],\n",
              "       [5.45981500e+01, 1.48413159e+02, 4.03428793e+02],\n",
              "       [1.09663316e+03, 2.98095799e+03, 8.10308393e+03]])"
            ]
          },
          "execution_count": 33,
          "metadata": {},
          "output_type": "execute_result"
        }
      ],
      "source": [
        "np.exp(b)"
      ]
    },
    {
      "cell_type": "markdown",
      "metadata": {
        "id": "1GKecv5nLBhu"
      },
      "source": [
        "<p style=\"margin-top:0; text-align: justify\">And, we can find square root of each element:</p>"
      ]
    },
    {
      "cell_type": "code",
      "execution_count": null,
      "metadata": {
        "scrolled": true,
        "id": "aTPEvhQWLBhu",
        "outputId": "59f7c2b6-337a-40fb-d5f9-bef6f85f8d3f"
      },
      "outputs": [
        {
          "data": {
            "text/plain": [
              "array([[1.        , 1.41421356, 1.73205081],\n",
              "       [2.        , 2.23606798, 2.44948974],\n",
              "       [2.64575131, 2.82842712, 3.        ]])"
            ]
          },
          "execution_count": 34,
          "metadata": {},
          "output_type": "execute_result"
        }
      ],
      "source": [
        "np.sqrt(b)"
      ]
    },
    {
      "cell_type": "markdown",
      "metadata": {
        "id": "UN_3_igKLBhv"
      },
      "source": [
        "We can find sum of the elements in an array as:"
      ]
    },
    {
      "cell_type": "code",
      "execution_count": null,
      "metadata": {
        "id": "BRDIvp6MLBhv",
        "outputId": "50005cad-4f36-42ab-fe7d-abd0d5c444f7"
      },
      "outputs": [
        {
          "data": {
            "text/plain": [
              "378.0"
            ]
          },
          "execution_count": 35,
          "metadata": {},
          "output_type": "execute_result"
        }
      ],
      "source": [
        "c.sum()"
      ]
    },
    {
      "cell_type": "markdown",
      "metadata": {
        "id": "FrNXdF3pLBhv"
      },
      "source": [
        "We can find the maximum element in an array as (you can find minimum by using .min() instead):"
      ]
    },
    {
      "cell_type": "code",
      "execution_count": null,
      "metadata": {
        "id": "CQJ_W7zWLBhv",
        "outputId": "5b37594c-a42b-41a5-b43e-3076807084c5"
      },
      "outputs": [
        {
          "data": {
            "text/plain": [
              "27.0"
            ]
          },
          "execution_count": 36,
          "metadata": {},
          "output_type": "execute_result"
        }
      ],
      "source": [
        "c.max()"
      ]
    },
    {
      "cell_type": "markdown",
      "metadata": {
        "id": "SBKekG9kLBhv"
      },
      "source": [
        "We can find mean of the elements in an array as (you can find the median by using median() instead):"
      ]
    },
    {
      "cell_type": "code",
      "execution_count": null,
      "metadata": {
        "id": "eXL-XDvwLBhv",
        "outputId": "8c6e5d54-6373-468e-a3d9-bff65e04613d"
      },
      "outputs": [
        {
          "data": {
            "text/plain": [
              "14.0"
            ]
          },
          "execution_count": 37,
          "metadata": {},
          "output_type": "execute_result"
        }
      ],
      "source": [
        "c.mean()"
      ]
    },
    {
      "cell_type": "markdown",
      "metadata": {
        "id": "ckgjY4-jLBhv"
      },
      "source": [
        "We can find standard deviation of the elements in an array as:"
      ]
    },
    {
      "cell_type": "code",
      "execution_count": null,
      "metadata": {
        "id": "up3SjgnkLBhv",
        "outputId": "4b593c09-1b29-4d18-d479-970e8a5ae566"
      },
      "outputs": [
        {
          "data": {
            "text/plain": [
              "7.788880963698615"
            ]
          },
          "execution_count": 38,
          "metadata": {},
          "output_type": "execute_result"
        }
      ],
      "source": [
        "np.std(c)"
      ]
    },
    {
      "cell_type": "markdown",
      "metadata": {
        "id": "3bbWseN5LBhv"
      },
      "source": [
        "We can compare each element of two arrays such as:"
      ]
    },
    {
      "cell_type": "code",
      "execution_count": null,
      "metadata": {
        "scrolled": true,
        "id": "B_H7ByxsLBhv",
        "outputId": "822fb6cd-8c74-4c1d-d8e7-ae7684673429"
      },
      "outputs": [
        {
          "data": {
            "text/plain": [
              "array([[ True, False, False],\n",
              "       [False, False, False],\n",
              "       [False, False, False]])"
            ]
          },
          "execution_count": 39,
          "metadata": {},
          "output_type": "execute_result"
        }
      ],
      "source": [
        "b == e"
      ]
    },
    {
      "cell_type": "markdown",
      "metadata": {
        "id": "2eteyJNYLBhv"
      },
      "source": [
        "We can compare two arrays:"
      ]
    },
    {
      "cell_type": "code",
      "execution_count": null,
      "metadata": {
        "id": "A4_VFUhLLBhv",
        "outputId": "e38db71a-3c0b-45eb-83a7-a11857310145"
      },
      "outputs": [
        {
          "data": {
            "text/plain": [
              "False"
            ]
          },
          "execution_count": 40,
          "metadata": {},
          "output_type": "execute_result"
        }
      ],
      "source": [
        "np.array_equal(b,e)"
      ]
    },
    {
      "cell_type": "markdown",
      "metadata": {
        "id": "2Fwast4qLBhv"
      },
      "source": [
        "<h3 style=\"margin-bottom:0\">7) Other Useful Functions</h3>\n",
        "<br>\n",
        "<p style=\"margin-top:0; text-align: justify\">In this section, we will present other useful functions that can be used from NumPy library.</p>\n",
        "<br>\n",
        "<p style=\"margin-top:0; text-align: justify\">For example, you can transpose a matrix by:</p>"
      ]
    },
    {
      "cell_type": "code",
      "execution_count": null,
      "metadata": {
        "id": "L_1Dyo9uLBhv",
        "outputId": "196dd79e-72bf-4861-b2ab-26ee25f48a02"
      },
      "outputs": [
        {
          "data": {
            "text/plain": [
              "array([[[ 1., 10., 19.],\n",
              "        [ 4., 13., 22.],\n",
              "        [ 7., 16., 25.]],\n",
              "\n",
              "       [[ 2., 11., 20.],\n",
              "        [ 5., 14., 23.],\n",
              "        [ 8., 17., 26.]],\n",
              "\n",
              "       [[ 3., 12., 21.],\n",
              "        [ 6., 15., 24.],\n",
              "        [ 9., 18., 27.]]])"
            ]
          },
          "execution_count": 41,
          "metadata": {},
          "output_type": "execute_result"
        }
      ],
      "source": [
        "np.transpose(c)"
      ]
    },
    {
      "cell_type": "markdown",
      "metadata": {
        "id": "WeEHxcY7LBhw"
      },
      "source": [
        "Split array horizontally (if we save it into a new array and look at first element, we will see it is an array):"
      ]
    },
    {
      "cell_type": "code",
      "execution_count": null,
      "metadata": {
        "id": "pdZUuFkMLBhw",
        "outputId": "5631c101-01ec-4f97-cf37-4815bc8038ea"
      },
      "outputs": [
        {
          "data": {
            "text/plain": [
              "array([[[ 1.,  2.,  3.]],\n",
              "\n",
              "       [[10., 11., 12.]],\n",
              "\n",
              "       [[19., 20., 21.]]])"
            ]
          },
          "execution_count": 42,
          "metadata": {},
          "output_type": "execute_result"
        }
      ],
      "source": [
        "i = np.hsplit(c,3)\n",
        "i[0]"
      ]
    },
    {
      "cell_type": "markdown",
      "metadata": {
        "id": "jGz84QeKLBhw"
      },
      "source": [
        "Split array vertically (if we save it into a new array and look at first element, we will see it is an array):"
      ]
    },
    {
      "cell_type": "code",
      "execution_count": null,
      "metadata": {
        "id": "j-IqwWk5LBhw",
        "outputId": "c43af91e-9fef-4349-b5b9-fbb8d49baf50"
      },
      "outputs": [
        {
          "data": {
            "text/plain": [
              "array([[[1., 2., 3.],\n",
              "        [4., 5., 6.],\n",
              "        [7., 8., 9.]]])"
            ]
          },
          "execution_count": 43,
          "metadata": {},
          "output_type": "execute_result"
        }
      ],
      "source": [
        "j = np.vsplit(c,3)\n",
        "j[0]"
      ]
    },
    {
      "cell_type": "markdown",
      "metadata": {
        "id": "pA31GPDgLBhw"
      },
      "source": [
        "We can sort an array (this function itself will not return anything, when we call sorted array again, we will see it is sorted):"
      ]
    },
    {
      "cell_type": "code",
      "execution_count": null,
      "metadata": {
        "id": "YE0Kx0vqLBhw",
        "outputId": "aaef8b66-ea63-48b5-a60b-620cd5b1ee9b"
      },
      "outputs": [
        {
          "data": {
            "text/plain": [
              "array([[0.22685145, 0.28613933, 0.69646919],\n",
              "       [0.42310646, 0.55131477, 0.71946897],\n",
              "       [0.4809319 , 0.68482974, 0.9807642 ]])"
            ]
          },
          "execution_count": 44,
          "metadata": {},
          "output_type": "execute_result"
        }
      ],
      "source": [
        "h.sort()\n",
        "h"
      ]
    },
    {
      "cell_type": "markdown",
      "metadata": {
        "id": "sAr5ts8fLBhw"
      },
      "source": [
        "We can change array shape by:"
      ]
    },
    {
      "cell_type": "code",
      "execution_count": null,
      "metadata": {
        "id": "caU4DFXNLBhw",
        "outputId": "82f4de1c-9fbb-41b7-a25a-0e7b0e97bcc6"
      },
      "outputs": [
        {
          "data": {
            "text/plain": [
              "array([[0.22685145],\n",
              "       [0.28613933],\n",
              "       [0.69646919],\n",
              "       [0.42310646],\n",
              "       [0.55131477],\n",
              "       [0.71946897],\n",
              "       [0.4809319 ],\n",
              "       [0.68482974],\n",
              "       [0.9807642 ]])"
            ]
          },
          "execution_count": 45,
          "metadata": {},
          "output_type": "execute_result"
        }
      ],
      "source": [
        "h.reshape(9,1)"
      ]
    },
    {
      "cell_type": "markdown",
      "metadata": {
        "id": "4yUJ5OsWLBhw"
      },
      "source": [
        "We can add a new element by (first, we indicate array, then we indicate index and finally we indicate value. Note that the array itself does not change, we need to assign this function to a new variable to be able to call it back later):"
      ]
    },
    {
      "cell_type": "code",
      "execution_count": null,
      "metadata": {
        "id": "JGpk_6dBLBhw",
        "outputId": "ba958997-773f-4412-b1e8-358f818fd3ff"
      },
      "outputs": [
        {
          "data": {
            "text/plain": [
              "array([0.22685145, 0.28613933, 0.69646919, 0.42310646, 0.55131477,\n",
              "       2.        , 0.71946897, 0.4809319 , 0.68482974, 0.9807642 ])"
            ]
          },
          "execution_count": 46,
          "metadata": {},
          "output_type": "execute_result"
        }
      ],
      "source": [
        "np.insert(h, 5, 2)"
      ]
    },
    {
      "cell_type": "markdown",
      "metadata": {
        "id": "ob_N42x9LBhw"
      },
      "source": [
        "We can delete an element by (first, we indicate array, then we indicate index. Note that the array itself does not change, we need to assign this function to a new variable to be able to call it back later):"
      ]
    },
    {
      "cell_type": "code",
      "execution_count": null,
      "metadata": {
        "id": "mLWDpzt5LBhw",
        "outputId": "ddefbf0c-9024-4ac3-a20e-78c3d98e6f32"
      },
      "outputs": [
        {
          "data": {
            "text/plain": [
              "array([0.22685145, 0.69646919, 0.42310646, 0.55131477, 0.71946897,\n",
              "       0.4809319 , 0.68482974, 0.9807642 ])"
            ]
          },
          "execution_count": 47,
          "metadata": {},
          "output_type": "execute_result"
        }
      ],
      "source": [
        "np.delete(h, 1)"
      ]
    },
    {
      "cell_type": "markdown",
      "metadata": {
        "id": "CZFVHRaWLBhw"
      },
      "source": [
        "<h3 style=\"margin-bottom:0\">8) Input and Output</h3>\n",
        "<br>\n",
        "<p style=\"margin-top:0; text-align: justify\">In this section, we will present how to save or load NumPy arrays.</p>\n",
        "<br>\n",
        "<p style=\"margin-top:0; text-align: justify\">For example, you can save your array as a NumPy file by putting desired direction in \"...\" and properly naming it:</p>"
      ]
    },
    {
      "cell_type": "code",
      "execution_count": null,
      "metadata": {
        "id": "PQ4osonFLBhw"
      },
      "outputs": [],
      "source": [
        "np.save('.../new_file',h)"
      ]
    },
    {
      "cell_type": "markdown",
      "metadata": {
        "id": "oRijMaCALBhw"
      },
      "source": [
        "You can load NumPy array files by:"
      ]
    },
    {
      "cell_type": "code",
      "execution_count": null,
      "metadata": {
        "id": "tDEwl_uVLBhw"
      },
      "outputs": [],
      "source": [
        "np.load('.../new_file.npy')"
      ]
    },
    {
      "cell_type": "markdown",
      "metadata": {
        "id": "WoFglKSILBhw"
      },
      "source": [
        "Also, you can load txt or csv files as follows (you can also add delimiter):"
      ]
    },
    {
      "cell_type": "code",
      "execution_count": null,
      "metadata": {
        "id": "3o1yj0AKLBhx"
      },
      "outputs": [],
      "source": [
        "np.loadtxt('.../new_file.txt')"
      ]
    },
    {
      "cell_type": "code",
      "execution_count": null,
      "metadata": {
        "id": "CWGbiLcQLBhx"
      },
      "outputs": [],
      "source": [
        "np.genfromtxt('.../new_file.csv', delimiter = \"\")"
      ]
    },
    {
      "cell_type": "markdown",
      "metadata": {
        "id": "nm5v9i2tLBhx"
      },
      "source": [
        "And you can save your arrays into txt or csv files like:"
      ]
    },
    {
      "cell_type": "code",
      "execution_count": null,
      "metadata": {
        "id": "zg2HezfuLBhx"
      },
      "outputs": [],
      "source": [
        "np.savetxt('.../new_file.txt', h, delimiter='')"
      ]
    },
    {
      "cell_type": "code",
      "execution_count": null,
      "metadata": {
        "id": "RmClv-cwLBhx"
      },
      "outputs": [],
      "source": [
        "np.savetxt('.../new_file.csv', h, delimiter='')"
      ]
    },
    {
      "cell_type": "markdown",
      "metadata": {
        "id": "kBFwB3hvLBhx"
      },
      "source": [
        "<h3 style=\"margin-bottom:0\">9) Help, References & Useful Links</h3>"
      ]
    },
    {
      "cell_type": "markdown",
      "metadata": {
        "id": "7OleU0TGLBhx"
      },
      "source": [
        "You can look at how a function works directly in Jupyter Notebook. For example, if you do not understand how np.ones function works, you can simply write:"
      ]
    },
    {
      "cell_type": "code",
      "execution_count": null,
      "metadata": {
        "scrolled": true,
        "id": "0j6OsBAqLBhx",
        "outputId": "be48fb74-c699-4e9a-8f72-80d847028c2b"
      },
      "outputs": [
        {
          "name": "stdout",
          "output_type": "stream",
          "text": [
            " ones(shape, dtype=None, order='C', *, like=None)\n",
            "\n",
            "Return a new array of given shape and type, filled with ones.\n",
            "\n",
            "Parameters\n",
            "----------\n",
            "shape : int or sequence of ints\n",
            "    Shape of the new array, e.g., ``(2, 3)`` or ``2``.\n",
            "dtype : data-type, optional\n",
            "    The desired data-type for the array, e.g., `numpy.int8`.  Default is\n",
            "    `numpy.float64`.\n",
            "order : {'C', 'F'}, optional, default: C\n",
            "    Whether to store multi-dimensional data in row-major\n",
            "    (C-style) or column-major (Fortran-style) order in\n",
            "    memory.\n",
            "like : array_like\n",
            "    Reference object to allow the creation of arrays which are not\n",
            "    NumPy arrays. If an array-like passed in as ``like`` supports\n",
            "    the ``__array_function__`` protocol, the result will be defined\n",
            "    by it. In this case, it ensures the creation of an array object\n",
            "    compatible with that passed in via this argument.\n",
            "\n",
            "    .. note::\n",
            "        The ``like`` keyword is an experimental feature pending on\n",
            "        acceptance of :ref:`NEP 35 <NEP35>`.\n",
            "\n",
            "    .. versionadded:: 1.20.0\n",
            "\n",
            "Returns\n",
            "-------\n",
            "out : ndarray\n",
            "    Array of ones with the given shape, dtype, and order.\n",
            "\n",
            "See Also\n",
            "--------\n",
            "ones_like : Return an array of ones with shape and type of input.\n",
            "empty : Return a new uninitialized array.\n",
            "zeros : Return a new array setting values to zero.\n",
            "full : Return a new array of given shape filled with value.\n",
            "\n",
            "\n",
            "Examples\n",
            "--------\n",
            ">>> np.ones(5)\n",
            "array([1., 1., 1., 1., 1.])\n",
            "\n",
            ">>> np.ones((5,), dtype=int)\n",
            "array([1, 1, 1, 1, 1])\n",
            "\n",
            ">>> np.ones((2, 1))\n",
            "array([[1.],\n",
            "       [1.]])\n",
            "\n",
            ">>> s = (2,2)\n",
            ">>> np.ones(s)\n",
            "array([[1.,  1.],\n",
            "       [1.,  1.]])\n"
          ]
        }
      ],
      "source": [
        "np.info(np.ones)"
      ]
    },
    {
      "cell_type": "markdown",
      "metadata": {
        "id": "q3K5FsVCLBhx"
      },
      "source": [
        "<hr style=\"height:2px;color:navy;margin-top:0\">\n",
        "<p style=\"margin-top:0; text-align: justify\">This tutorial is prepared with the help of <a href=\"https://numpy.org/devdocs/user/absolute_beginners.html\">original website</a> documentation.</p>\n",
        "<br>\n",
        "<p style=\"margin-top:0; text-align: justify\">You can always refer to this documentation as it is complete. If you cannot find a solution, you are very likely to find an answer for your questions on the internet as this library is super widely used. If you still cannot find an answer, please do no hesitate to ask your questions to course assistants.</p>"
      ]
    },
    {
      "cell_type": "markdown",
      "metadata": {
        "id": "NQglYnRKLBhx"
      },
      "source": [
        "<h4 style=\"margin-bottom:0\">Useful Links</h4>"
      ]
    },
    {
      "cell_type": "markdown",
      "metadata": {
        "id": "N12zveLQLBhx"
      },
      "source": [
        "<p style=\"margin-top:0; text-align: justify\">Here are some useful tutorials or blogs that are related to NumPy:</p>"
      ]
    },
    {
      "cell_type": "markdown",
      "metadata": {
        "id": "l2LfJg5JLBhx"
      },
      "source": [
        "<a href=\"https://numpy.org/devdocs/user/absolute_beginners.html\">Original Website:</a> This is the website of NumPy. You may find tons of useful material that covers each aspect of NumPy library.</p>"
      ]
    },
    {
      "cell_type": "markdown",
      "metadata": {
        "id": "205LndKjLBhx"
      },
      "source": [
        "<a href=\"https://www.youtube.com/watch?v=QUT1VHiLmmI\">Python NumPy Tutorial for Beginners:</a> This is a YouTube video provided by freeCodeCamp.org. It basically covers the fundamentals of NumPy library as well as it talks about linear algebra, mathematics and statistics as well.</p>"
      ]
    },
    {
      "cell_type": "markdown",
      "metadata": {
        "id": "6cWnwtqxLBhx"
      },
      "source": [
        "<a href=\"https://rukshanpramoditha.medium.com/numpy-for-data-science-part-2-7399ffc605e5\">A Complete Step-by-Step Guide to NumPy Array Indexing and Slicing:</a> This medium post is about indexing and slicing. You may find many examples for slicing and indexing here.</p>"
      ]
    }
  ],
  "metadata": {
    "kernelspec": {
      "display_name": "Python 3",
      "language": "python",
      "name": "python3"
    },
    "language_info": {
      "codemirror_mode": {
        "name": "ipython",
        "version": 3
      },
      "file_extension": ".py",
      "mimetype": "text/x-python",
      "name": "python",
      "nbconvert_exporter": "python",
      "pygments_lexer": "ipython3",
      "version": "3.11.7"
    },
    "colab": {
      "provenance": [],
      "include_colab_link": true
    }
  },
  "nbformat": 4,
  "nbformat_minor": 0
}