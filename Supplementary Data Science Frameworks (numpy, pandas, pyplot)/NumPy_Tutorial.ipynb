{
  "cells": [
    {
      "cell_type": "markdown",
      "metadata": {
        "id": "view-in-github",
        "colab_type": "text"
      },
      "source": [
        "<a href=\"https://colab.research.google.com/github/ygmurkara/DI501/blob/main/Supplementary%20Data%20Science%20Frameworks%20(numpy%2C%20pandas%2C%20pyplot)/NumPy_Tutorial.ipynb\" target=\"_parent\"><img src=\"https://colab.research.google.com/assets/colab-badge.svg\" alt=\"Open In Colab\"/></a>"
      ]
    },
    {
      "cell_type": "markdown",
      "metadata": {
        "id": "uQ51t1lISmAK"
      },
      "source": [
        "<h1 style=\"margin-bottom:0\"><center>DI 501 - Introduction to Data Informatics</center></h1>\n",
        "<h2 style=\"margin-top:0\"><center>NumPy Tutorial</center></h2>\n",
        "<br>\n",
        "<p style=\"margin-top:0\"><center><b>This tutorial is prepared for Middle East Technical University's DI 501 - Introduction to Data Informatics course.</b></center></p>\n",
        "<hr style=\"height:2px;color:navy;margin-top:0\">\n",
        "<p style=\"margin-top:0; text-align: justify; font-size:15px\">NumPy (<b>Num</b>erical <b>Py</b>thon) is a widely used Python library that is open source and mostly used by scientist and engineers. It is a core library for scientific Python. It's API is used extensively by many other data science related Python libraries such as Pandas, SciPy, Matplotlib or scikit-learn. Generally, this library is used for multidimensional array and matrix structures and can perform wide variety of mathematical operations.</p>"
      ]
    },
    {
      "cell_type": "markdown",
      "metadata": {
        "id": "xv44BdOlSmAN"
      },
      "source": [
        "<h3 style=\"margin-bottom:0\">1) Installation</h3>\n",
        "<br>\n",
        "<p style=\"margin-top:0; text-align: justify\">To install NumPy, you are required to have Python environment first. If you do not have Python, you are strongly recommended to have <a href=\"https://www.anaconda.com/\">Anaconda</a> distribution as it is beginner friendly. </p>\n",
        "<p style=\"margin-top:1; text-align: justify\">If you have Python, you can proceed to install NumPy with the following code: </p>"
      ]
    },
    {
      "cell_type": "code",
      "execution_count": null,
      "metadata": {
        "id": "l88Y6cTqSmAN"
      },
      "outputs": [],
      "source": [
        "conda install numpy"
      ]
    },
    {
      "cell_type": "markdown",
      "metadata": {
        "id": "2hW9zl06SmAO"
      },
      "source": [
        "<p style=\"margin-top:0; text-align: justify\">or </p>"
      ]
    },
    {
      "cell_type": "code",
      "execution_count": null,
      "metadata": {
        "scrolled": false,
        "id": "XkOx1tQTSmAO"
      },
      "outputs": [],
      "source": [
        "pip install numpy"
      ]
    },
    {
      "cell_type": "markdown",
      "metadata": {
        "id": "CJN_LIRtSmAO"
      },
      "source": [
        "<p style=\"margin-top:0; text-align: justify\">You can use those codes on command prompt or Anaconda prompt to install NumPy. If you have any problems, you can refer to <a href=\"https://numpy.org/install/\">original website</a> or you can directly ask to assistants of the course. </p>"
      ]
    },
    {
      "cell_type": "markdown",
      "metadata": {
        "id": "sKZCl4hrSmAP"
      },
      "source": [
        "<h3 style=\"margin-bottom:0\">2) Importing</h3>\n",
        "<br>\n",
        "<p style=\"margin-top:0; text-align: justify\">To be able to use NumPy library, you first need to import it. It is a widely used practice to abbreviate NumPy as np. </p>"
      ]
    },
    {
      "cell_type": "code",
      "execution_count": null,
      "metadata": {
        "id": "czzJQBglSmAP"
      },
      "outputs": [],
      "source": [
        "import numpy as np"
      ]
    },
    {
      "cell_type": "markdown",
      "metadata": {
        "id": "OkHHwtgrSmAP"
      },
      "source": [
        "<h3 style=\"margin-bottom:0\">3) Creating Arrays</h3>\n",
        "<br>\n",
        "<p style=\"margin-top:0; text-align: justify\">There are many ways to create an array, we will cover some popular ones. </p>\n",
        "<br>\n",
        "<p style=\"margin-top:0; text-align: justify\">Code below will create an array named \"a\" that is 1D: </p>"
      ]
    },
    {
      "cell_type": "code",
      "execution_count": null,
      "metadata": {
        "id": "VaLqHJ3TSmAP",
        "outputId": "46f1632e-a25d-44ec-9869-458bcf688ad7"
      },
      "outputs": [
        {
          "data": {
            "text/plain": [
              "array([1, 2, 3, 4, 5, 6])"
            ]
          },
          "execution_count": 2,
          "metadata": {},
          "output_type": "execute_result"
        }
      ],
      "source": [
        "a = np.array([1,2,3,4,5,6])\n",
        "a"
      ]
    },
    {
      "cell_type": "markdown",
      "metadata": {
        "id": "5Y0-6HhBSmAQ"
      },
      "source": [
        "<p style=\"margin-top:0; text-align: justify\">To create a 2D array, we can create an array named \"b\" as follows: </p>"
      ]
    },
    {
      "cell_type": "code",
      "execution_count": null,
      "metadata": {
        "id": "MS9qkIXbSmAQ",
        "outputId": "c39e9e48-4d20-4f12-9a8a-3dcf5d7538d8"
      },
      "outputs": [
        {
          "data": {
            "text/plain": [
              "array([[1, 2, 3],\n",
              "       [4, 5, 6],\n",
              "       [7, 8, 9]])"
            ]
          },
          "execution_count": 3,
          "metadata": {},
          "output_type": "execute_result"
        }
      ],
      "source": [
        "b = np.array([(1,2,3), (4,5,6), (7,8,9)])\n",
        "b"
      ]
    },
    {
      "cell_type": "markdown",
      "metadata": {
        "id": "JQK1wiCeSmAQ"
      },
      "source": [
        "<p style=\"margin-top:0; text-align: justify\">Finally, we can create 3D array c as: </p>"
      ]
    },
    {
      "cell_type": "code",
      "execution_count": null,
      "metadata": {
        "id": "z8nju3NfSmAQ",
        "outputId": "c92fa69c-48c3-4f6a-f33f-6596efee6668"
      },
      "outputs": [
        {
          "data": {
            "text/plain": [
              "array([[[ 1.,  2.,  3.],\n",
              "        [ 4.,  5.,  6.],\n",
              "        [ 7.,  8.,  9.]],\n",
              "\n",
              "       [[10., 11., 12.],\n",
              "        [13., 14., 15.],\n",
              "        [16., 17., 18.]],\n",
              "\n",
              "       [[19., 20., 21.],\n",
              "        [22., 23., 24.],\n",
              "        [25., 26., 27.]]])"
            ]
          },
          "execution_count": 4,
          "metadata": {},
          "output_type": "execute_result"
        }
      ],
      "source": [
        "c = np.array([[(1,2,3),(4,5,6),(7,8,9)], [(10,11,12),(13,14,15),(16,17,18)], [(19,20,21),(22,23,24),(25,26,27)]],\n",
        " dtype = float)\n",
        "c"
      ]
    },
    {
      "cell_type": "markdown",
      "metadata": {
        "id": "CEbrZlPUSmAQ"
      },
      "source": [
        "<p style=\"margin-top:0; text-align: justify\">There are some built-in functions in NumPy library that can help us to create different types of arrays. </p>\n",
        "<br>\n",
        "<p style=\"margin-top:0; text-align: justify\">For example, we can create an array with full zeros by defining the shape of the array in parenthesis by: </p>"
      ]
    },
    {
      "cell_type": "code",
      "execution_count": null,
      "metadata": {
        "id": "OuKv2kgaSmAQ",
        "outputId": "6466e4cb-dbda-4d01-afc1-478015dee4f3"
      },
      "outputs": [
        {
          "data": {
            "text/plain": [
              "array([[0., 0.],\n",
              "       [0., 0.],\n",
              "       [0., 0.]])"
            ]
          },
          "execution_count": 5,
          "metadata": {},
          "output_type": "execute_result"
        }
      ],
      "source": [
        "d = np.zeros((3,2))\n",
        "d"
      ]
    },
    {
      "cell_type": "markdown",
      "metadata": {
        "id": "dEX6PEzQSmAQ"
      },
      "source": [
        "<p style=\"margin-top:0; text-align: justify\">Likewise, we can create an array with full ones by:</p>"
      ]
    },
    {
      "cell_type": "code",
      "execution_count": null,
      "metadata": {
        "scrolled": true,
        "id": "ps-Uf35ISmAQ",
        "outputId": "94c24037-6050-4859-d54a-050e4b5e7593"
      },
      "outputs": [
        {
          "data": {
            "text/plain": [
              "array([[1., 1., 1.],\n",
              "       [1., 1., 1.],\n",
              "       [1., 1., 1.]])"
            ]
          },
          "execution_count": 6,
          "metadata": {},
          "output_type": "execute_result"
        }
      ],
      "source": [
        "e = np.ones((3,3))\n",
        "e"
      ]
    },
    {
      "cell_type": "markdown",
      "metadata": {
        "id": "koGchqMoSmAR"
      },
      "source": [
        "<p style=\"margin-top:0; text-align: justify\">We can create an array with a constant value by (first, we define shape of our array, then we specify value):</p>"
      ]
    },
    {
      "cell_type": "code",
      "execution_count": null,
      "metadata": {
        "scrolled": true,
        "id": "yYC3j0QKSmAR",
        "outputId": "47cfdd1e-11be-4f5b-8f36-d5c57d96f40e"
      },
      "outputs": [
        {
          "data": {
            "text/plain": [
              "array([['a', 'a', 'a'],\n",
              "       ['a', 'a', 'a'],\n",
              "       ['a', 'a', 'a']], dtype='<U1')"
            ]
          },
          "execution_count": 7,
          "metadata": {},
          "output_type": "execute_result"
        }
      ],
      "source": [
        "f = np.full((3,3),'a')\n",
        "f"
      ]
    },
    {
      "cell_type": "markdown",
      "metadata": {
        "id": "hLjgzAX9SmAR"
      },
      "source": [
        "<p style=\"margin-top:0; text-align: justify\">We can create an identity matrix by:</p>"
      ]
    },
    {
      "cell_type": "code",
      "execution_count": null,
      "metadata": {
        "scrolled": true,
        "id": "6yG8XNkhSmAR",
        "outputId": "c94980b9-8634-452a-c211-d103537cf369"
      },
      "outputs": [
        {
          "data": {
            "text/plain": [
              "array([[1., 0., 0., 0.],\n",
              "       [0., 1., 0., 0.],\n",
              "       [0., 0., 1., 0.],\n",
              "       [0., 0., 0., 1.]])"
            ]
          },
          "execution_count": 8,
          "metadata": {},
          "output_type": "execute_result"
        }
      ],
      "source": [
        "g = np.eye(4)\n",
        "g"
      ]
    },
    {
      "cell_type": "markdown",
      "metadata": {
        "id": "BS7Tz2GESmAR"
      },
      "source": [
        "<p style=\"margin-top:0; text-align: justify\">We can create an array with random values by (seed is used to generate consistant results, if you comment out first line and run same cell over and over, each time you will get different results. Seed is necessary to prevent this inconsistency):</p>"
      ]
    },
    {
      "cell_type": "code",
      "execution_count": null,
      "metadata": {
        "scrolled": true,
        "id": "HpncrpVVSmAR",
        "outputId": "371c0324-37f3-4109-8e3c-7ee595a39e2e"
      },
      "outputs": [
        {
          "data": {
            "text/plain": [
              "array([[0.69646919, 0.28613933, 0.22685145],\n",
              "       [0.55131477, 0.71946897, 0.42310646],\n",
              "       [0.9807642 , 0.68482974, 0.4809319 ]])"
            ]
          },
          "execution_count": 9,
          "metadata": {},
          "output_type": "execute_result"
        }
      ],
      "source": [
        "np.random.seed(123)\n",
        "\n",
        "h = np.random.random((3,3))\n",
        "h"
      ]
    },
    {
      "cell_type": "markdown",
      "metadata": {
        "id": "FlAjscDQSmAR"
      },
      "source": [
        "<h3 style=\"margin-bottom:0\">4) Inspecting</h3>\n",
        "<br>\n",
        "<p style=\"margin-top:0; text-align: justify\">In this section, we will look at some properties of NumPy arrays that can be useful for different purposes. </p>\n",
        "<br>\n",
        "<p style=\"margin-top:0; text-align: justify\">To get the dimension of an array, we can use: </p>"
      ]
    },
    {
      "cell_type": "code",
      "execution_count": null,
      "metadata": {
        "scrolled": false,
        "id": "b_Z-WKf5SmAR",
        "outputId": "5c8cbb29-a5aa-4565-b7c6-44cbcec6df47"
      },
      "outputs": [
        {
          "data": {
            "text/plain": [
              "(3, 3, 3)"
            ]
          },
          "execution_count": 10,
          "metadata": {},
          "output_type": "execute_result"
        }
      ],
      "source": [
        "c.shape"
      ]
    },
    {
      "cell_type": "markdown",
      "metadata": {
        "id": "oWKew9DPSmAR"
      },
      "source": [
        "<p style=\"margin-top:0; text-align: justify\">We can find number of dimensions by: </p>"
      ]
    },
    {
      "cell_type": "code",
      "execution_count": null,
      "metadata": {
        "id": "fTAUYC3DSmAR",
        "outputId": "6eafb3bf-f0f7-414d-c7f3-97307b6288bf"
      },
      "outputs": [
        {
          "data": {
            "text/plain": [
              "3"
            ]
          },
          "execution_count": 11,
          "metadata": {},
          "output_type": "execute_result"
        }
      ],
      "source": [
        "c.ndim"
      ]
    },
    {
      "cell_type": "markdown",
      "metadata": {
        "id": "mZzZ2mKYSmAR"
      },
      "source": [
        "<p style=\"margin-top:0; text-align: justify\">We can find number of elements of an array by: </p>"
      ]
    },
    {
      "cell_type": "code",
      "execution_count": null,
      "metadata": {
        "id": "WmXDIpbVSmAS",
        "outputId": "87012824-a02b-4aa2-bf59-c6fbc567b310"
      },
      "outputs": [
        {
          "data": {
            "text/plain": [
              "27"
            ]
          },
          "execution_count": 12,
          "metadata": {},
          "output_type": "execute_result"
        }
      ],
      "source": [
        "c.size"
      ]
    },
    {
      "cell_type": "markdown",
      "metadata": {
        "id": "TyjxYArmSmAS"
      },
      "source": [
        "<p style=\"margin-top:0; text-align: justify\">We can get data type by: </p>"
      ]
    },
    {
      "cell_type": "code",
      "execution_count": null,
      "metadata": {
        "id": "q91Wuz_2SmAS",
        "outputId": "7702ab20-f514-4bea-b4f1-f2a656ecca49"
      },
      "outputs": [
        {
          "data": {
            "text/plain": [
              "'float64'"
            ]
          },
          "execution_count": 13,
          "metadata": {},
          "output_type": "execute_result"
        }
      ],
      "source": [
        "c.dtype.name"
      ]
    },
    {
      "cell_type": "markdown",
      "metadata": {
        "id": "OEXSVbTASmAS"
      },
      "source": [
        "<h3 style=\"margin-bottom:0\">5) Indexing and Slicing</h3>\n",
        "<br>\n",
        "<p style=\"margin-top:0; text-align: justify\">We may need to select individual elements or some parts of the given array or matrix for different purposes. </p>"
      ]
    },
    {
      "cell_type": "markdown",
      "metadata": {
        "id": "13AR74meSmAS"
      },
      "source": [
        "<h4 style=\"margin-bottom:0\">Case 1</h4>"
      ]
    },
    {
      "cell_type": "markdown",
      "metadata": {
        "id": "MnwCtkp4SmAS"
      },
      "source": [
        "<p style=\"margin-top:0; text-align: justify\">The simpleset one is getting a single value from an array. We define the position (starting from 0) for each dimension for the desired element in a square bracket. To get value 3 from the array 'a' above: </p>"
      ]
    },
    {
      "cell_type": "code",
      "execution_count": null,
      "metadata": {
        "scrolled": true,
        "id": "91hoER7cSmAS",
        "outputId": "bc881a7c-b89d-4ebf-919e-27ece9fddb54"
      },
      "outputs": [
        {
          "data": {
            "text/plain": [
              "3"
            ]
          },
          "execution_count": 14,
          "metadata": {},
          "output_type": "execute_result"
        }
      ],
      "source": [
        "a[2]"
      ]
    },
    {
      "cell_type": "markdown",
      "metadata": {
        "id": "4uy3G7kzSmAS"
      },
      "source": [
        "![slicing1.png](attachment:slicing1.png)"
      ]
    },
    {
      "cell_type": "markdown",
      "metadata": {
        "id": "ZUUBohIpSmAS"
      },
      "source": [
        "<h4 style=\"margin-bottom:0\">Case 2</h4>"
      ]
    },
    {
      "cell_type": "markdown",
      "metadata": {
        "id": "LsIXx3yhSmAS"
      },
      "source": [
        "<p style=\"margin-top:0; text-align: justify\">We may want to capture 22 from array 'c' by: </p>"
      ]
    },
    {
      "cell_type": "code",
      "execution_count": null,
      "metadata": {
        "scrolled": true,
        "id": "no2ZaQjwSmAT",
        "outputId": "52923e6d-86a5-4ed8-c0b2-2f027fe3e0f8"
      },
      "outputs": [
        {
          "data": {
            "text/plain": [
              "22.0"
            ]
          },
          "execution_count": 15,
          "metadata": {},
          "output_type": "execute_result"
        }
      ],
      "source": [
        "c[2,1,0]"
      ]
    },
    {
      "cell_type": "markdown",
      "metadata": {
        "id": "JVW6VxTPSmAT"
      },
      "source": [
        "![slicing2.png](attachment:slicing2.png)"
      ]
    },
    {
      "cell_type": "markdown",
      "metadata": {
        "id": "HaDP5534SmAT"
      },
      "source": [
        "<p style=\"margin-top:0; text-align: justify\">Note that when passing arguments into square brackets, we first indentify the page element is in, then we identify row and column, respectively. </p>"
      ]
    },
    {
      "cell_type": "markdown",
      "metadata": {
        "id": "fZtSeeAWSmAT"
      },
      "source": [
        "<h4 style=\"margin-bottom:0\">Case 3</h4>"
      ]
    },
    {
      "cell_type": "markdown",
      "metadata": {
        "id": "zEEuhWk9SmAT"
      },
      "source": [
        "<p style=\"margin-top:0; text-align: justify\">If we want to capture the very last element of our array, we can simply put -1, instead of counting number of elements in our array. </p>"
      ]
    },
    {
      "cell_type": "code",
      "execution_count": null,
      "metadata": {
        "id": "LB6GEPZbSmAT",
        "outputId": "42aba8e6-f43c-4299-85b5-5cf0bc6c2c35"
      },
      "outputs": [
        {
          "data": {
            "text/plain": [
              "6"
            ]
          },
          "execution_count": 16,
          "metadata": {},
          "output_type": "execute_result"
        }
      ],
      "source": [
        "a[-1]"
      ]
    },
    {
      "cell_type": "markdown",
      "metadata": {
        "id": "7mx1-5PSSmAT"
      },
      "source": [
        "![slicing3.png](attachment:slicing3.png)"
      ]
    },
    {
      "cell_type": "markdown",
      "metadata": {
        "id": "GYbgz7n6SmAT"
      },
      "source": [
        "<p style=\"margin-top:0; text-align: justify\">To get element \"5\" from the array above, we could put -2 in square brackets. Note that when we do forwards slicing, index starts from 0. However, when we do backwards slicing, index starts from -1. </p>"
      ]
    },
    {
      "cell_type": "markdown",
      "metadata": {
        "id": "cPc7M-fRSmAT"
      },
      "source": [
        "<h4 style=\"margin-bottom:0\">Case 4</h4>"
      ]
    },
    {
      "cell_type": "markdown",
      "metadata": {
        "id": "GNhg1CgmSmAT"
      },
      "source": [
        "<p style=\"margin-top:0; text-align: justify\">We can select multiple items at once by putting required indices into an array. If we want to capture 1,2 and 6 from the a array, we can use: </p>"
      ]
    },
    {
      "cell_type": "code",
      "execution_count": null,
      "metadata": {
        "id": "UqyuX2W5SmAU",
        "outputId": "5b2dbb1b-cd3b-4e59-8753-8040342db035"
      },
      "outputs": [
        {
          "data": {
            "text/plain": [
              "array([1, 2, 6])"
            ]
          },
          "execution_count": 17,
          "metadata": {},
          "output_type": "execute_result"
        }
      ],
      "source": [
        "a[[0,1,5]]"
      ]
    },
    {
      "cell_type": "markdown",
      "metadata": {
        "id": "sJOfwWRsSmAU"
      },
      "source": [
        "![slicing4-2.png](attachment:slicing4-2.png)"
      ]
    },
    {
      "cell_type": "markdown",
      "metadata": {
        "id": "_BikEa7OSmAU"
      },
      "source": [
        "<h4 style=\"margin-bottom:0\">Case 5</h4>"
      ]
    },
    {
      "cell_type": "markdown",
      "metadata": {
        "id": "dsZd6ijnSmAU"
      },
      "source": [
        "<p style=\"margin-top:0; text-align: justify\">If the required elements are in order, we can use \":\" to indicate all of the elements between two indices. (the index we put on the left of the colon is inclusive whereas the number we put on the right is exclusive, be careful). If we want to get all numbers between 2 and 5 (including them) from the array 'a' above: </p>"
      ]
    },
    {
      "cell_type": "code",
      "execution_count": null,
      "metadata": {
        "id": "RHTrw3z4SmAU",
        "outputId": "28ab3cca-f333-402a-d8ef-73a4a83fa508"
      },
      "outputs": [
        {
          "data": {
            "text/plain": [
              "array([2, 3, 4, 5])"
            ]
          },
          "execution_count": 18,
          "metadata": {},
          "output_type": "execute_result"
        }
      ],
      "source": [
        "a[1:5]"
      ]
    },
    {
      "cell_type": "markdown",
      "metadata": {
        "id": "3kaTh72vSmAU"
      },
      "source": [
        "![slicing5.png](attachment:slicing5.png)"
      ]
    },
    {
      "cell_type": "markdown",
      "metadata": {
        "id": "oJ67vsuTSmAU"
      },
      "source": [
        "<h4 style=\"margin-bottom:0\">Case 6</h4>"
      ]
    },
    {
      "cell_type": "markdown",
      "metadata": {
        "id": "_yTvQYuXSmAU"
      },
      "source": [
        "<p style=\"margin-top:0; text-align: justify\">If you want to select each number starting from 3 to the end in array a, you can put the index of 3 to the left and left the right side of \":\" empty: </p>"
      ]
    },
    {
      "cell_type": "code",
      "execution_count": null,
      "metadata": {
        "scrolled": true,
        "id": "YR87imZPSmAU",
        "outputId": "7cec7217-9b68-490e-b973-807d47175988"
      },
      "outputs": [
        {
          "data": {
            "text/plain": [
              "array([3, 4, 5, 6])"
            ]
          },
          "execution_count": 19,
          "metadata": {},
          "output_type": "execute_result"
        }
      ],
      "source": [
        "a[2:]"
      ]
    },
    {
      "cell_type": "markdown",
      "metadata": {
        "id": "4vFDloC1SmAU"
      },
      "source": [
        "![slicing6.png](attachment:slicing6.png)"
      ]
    },
    {
      "cell_type": "markdown",
      "metadata": {
        "id": "OB-lPiPhSmAU"
      },
      "source": [
        "<p style=\"margin-top:0; text-align: justify\">We could select all of the array by a[ : ]. Also, we could select all the numbers up to three by a[ : 3] (we use 3 as again, right side is exclusive whereas left side is inclusive). </p>"
      ]
    },
    {
      "cell_type": "markdown",
      "metadata": {
        "id": "WAg-6UV3SmAV"
      },
      "source": [
        "<h4 style=\"margin-bottom:0\">Case 7</h4>"
      ]
    },
    {
      "cell_type": "markdown",
      "metadata": {
        "id": "Z9yeFKfCSmAV"
      },
      "source": [
        "<p style=\"margin-top:0; text-align: justify\">If we need to select all of the even numbers, we can simply put their indices into an array. However, as we know the <b>step size</b>, we can shortly indicate step size as 3rd element, seperated by \":\" again. We start from 1 (index of first even number) then go all the way up to the end (second space is empty), incrementing our index by 2 each time by:</p>"
      ]
    },
    {
      "cell_type": "code",
      "execution_count": null,
      "metadata": {
        "id": "_Y6kQGVPSmAV",
        "outputId": "85e8ea8f-9cd8-4ec7-fc7b-781e7cfd6d36"
      },
      "outputs": [
        {
          "data": {
            "text/plain": [
              "array([2, 4, 6])"
            ]
          },
          "execution_count": 20,
          "metadata": {},
          "output_type": "execute_result"
        }
      ],
      "source": [
        "a[1::2]"
      ]
    },
    {
      "cell_type": "markdown",
      "metadata": {
        "id": "QHxNzSNXSmAV"
      },
      "source": [
        "![slicing7.png](attachment:slicing7.png)"
      ]
    },
    {
      "cell_type": "markdown",
      "metadata": {
        "id": "MyO0BMVrSmAV"
      },
      "source": [
        "<h4 style=\"margin-bottom:0\">Case 8</h4>"
      ]
    },
    {
      "cell_type": "markdown",
      "metadata": {
        "id": "alY4J9gISmAV"
      },
      "source": [
        "This step size method can be used for reversing an array. Recall that a[ : ] would return the entire array. If we add the step size of -1 as the third argument, we will get our array reversed."
      ]
    },
    {
      "cell_type": "code",
      "execution_count": null,
      "metadata": {
        "id": "1mn8lThgSmAV",
        "outputId": "73315bc6-4929-4217-8e58-f14f98e74620"
      },
      "outputs": [
        {
          "data": {
            "text/plain": [
              "array([6, 5, 4, 3, 2, 1])"
            ]
          },
          "execution_count": 21,
          "metadata": {},
          "output_type": "execute_result"
        }
      ],
      "source": [
        "a[::-1]"
      ]
    },
    {
      "cell_type": "markdown",
      "metadata": {
        "id": "dgW09fOlSmAV"
      },
      "source": [
        "![slicing8.png](attachment:slicing8.png)"
      ]
    },
    {
      "cell_type": "markdown",
      "metadata": {
        "id": "ZVM87cFwSmAV"
      },
      "source": [
        "<h4 style=\"margin-bottom:0\">Case 9</h4>"
      ]
    },
    {
      "cell_type": "markdown",
      "metadata": {
        "id": "XY76XuTbSmAV"
      },
      "source": [
        "<p style=\"margin-top:0; text-align: justify\">When we work with arrays that have more than 1 dimensions, we may need to select a whole row or columnn. If we want to grab second column of array b above:</p>"
      ]
    },
    {
      "cell_type": "code",
      "execution_count": null,
      "metadata": {
        "id": "MovATpGkSmAV",
        "outputId": "1888d3bf-6b5e-4607-de3b-e2e46a493435"
      },
      "outputs": [
        {
          "data": {
            "text/plain": [
              "array([4, 5, 6])"
            ]
          },
          "execution_count": 22,
          "metadata": {},
          "output_type": "execute_result"
        }
      ],
      "source": [
        "b[1,:]"
      ]
    },
    {
      "cell_type": "markdown",
      "metadata": {
        "id": "Lc5L0sbCSmAW"
      },
      "source": [
        "![slicing9.png](attachment:slicing9.png)"
      ]
    },
    {
      "cell_type": "markdown",
      "metadata": {
        "id": "ZzcFOjCjSmAW"
      },
      "source": [
        "First, we passed the row we require, then we passed : to indicate we want everything from that row. For example, we could put \":2\" as the second argument to indicate we only want 4 and 5."
      ]
    },
    {
      "cell_type": "markdown",
      "metadata": {
        "id": "Wi09UT5RSmAW"
      },
      "source": [
        "<h4 style=\"margin-bottom:0\">Case 10</h4>"
      ]
    },
    {
      "cell_type": "markdown",
      "metadata": {
        "id": "LaXRzqn3SmAW"
      },
      "source": [
        "<p style=\"margin-top:0; text-align: justify\">If we want to pick all of the elements in the corners of array b:</p>"
      ]
    },
    {
      "cell_type": "code",
      "execution_count": null,
      "metadata": {
        "id": "8jEvBPefSmAW",
        "outputId": "164aef7e-9a0e-4cf6-9101-04fe12215f18"
      },
      "outputs": [
        {
          "data": {
            "text/plain": [
              "array([[1, 3],\n",
              "       [7, 9]])"
            ]
          },
          "execution_count": 23,
          "metadata": {},
          "output_type": "execute_result"
        }
      ],
      "source": [
        "b[::2,::2]"
      ]
    },
    {
      "cell_type": "markdown",
      "metadata": {
        "id": "paiIP_iPSmAW"
      },
      "source": [
        "![slicing10.png](attachment:slicing10.png)"
      ]
    },
    {
      "cell_type": "markdown",
      "metadata": {
        "id": "Iv_g8uP5SmAW"
      },
      "source": [
        "<h4 style=\"margin-bottom:0\">Case 11</h4>"
      ]
    },
    {
      "cell_type": "markdown",
      "metadata": {
        "id": "7Xep5bo0SmAW"
      },
      "source": [
        "<p style=\"margin-top:0; text-align: justify\">If we want to pick all of the elements in array c that is on second or third column:</p>"
      ]
    },
    {
      "cell_type": "code",
      "execution_count": null,
      "metadata": {
        "id": "XwueuyjkSmAW",
        "outputId": "f5d2e1d8-cb3b-4047-89ad-4d31651f61f9"
      },
      "outputs": [
        {
          "data": {
            "text/plain": [
              "array([[[ 2.,  3.],\n",
              "        [ 5.,  6.],\n",
              "        [ 8.,  9.]],\n",
              "\n",
              "       [[11., 12.],\n",
              "        [14., 15.],\n",
              "        [17., 18.]],\n",
              "\n",
              "       [[20., 21.],\n",
              "        [23., 24.],\n",
              "        [26., 27.]]])"
            ]
          },
          "execution_count": 24,
          "metadata": {},
          "output_type": "execute_result"
        }
      ],
      "source": [
        "c[:,:,1:3]"
      ]
    },
    {
      "cell_type": "markdown",
      "metadata": {
        "id": "uIlhH9DiSmAW"
      },
      "source": [
        "![slicing11.png](attachment:slicing11.png)"
      ]
    },
    {
      "cell_type": "markdown",
      "metadata": {
        "id": "9TFLX2BYSmAW"
      },
      "source": [
        "<h4 style=\"margin-bottom:0\">Case 12</h4>"
      ]
    },
    {
      "cell_type": "markdown",
      "metadata": {
        "id": "V1RLayWnSmAW"
      },
      "source": [
        "<p style=\"margin-top:0; text-align: justify\">Apart from the examples above, we can do boolean indexing by passing a boolean condition between square brackets. Returned array will contain all of the values that satisfy the boolean condition. If we want to retrieve all of the numbers that are greater than 22 in array c: </p>"
      ]
    },
    {
      "cell_type": "code",
      "execution_count": null,
      "metadata": {
        "scrolled": true,
        "id": "Zu2lM7BqSmAW",
        "outputId": "67035132-0600-4328-e3fd-15d659e6e331"
      },
      "outputs": [
        {
          "data": {
            "text/plain": [
              "array([23., 24., 25., 26., 27.])"
            ]
          },
          "execution_count": 25,
          "metadata": {},
          "output_type": "execute_result"
        }
      ],
      "source": [
        "c[c>22]"
      ]
    },
    {
      "cell_type": "markdown",
      "metadata": {
        "id": "k8pXXyJsSmAW"
      },
      "source": [
        "![slicing12.png](attachment:slicing12.png)"
      ]
    },
    {
      "cell_type": "markdown",
      "metadata": {
        "id": "YJpXB-epSmAW"
      },
      "source": [
        "<h4 style=\"margin-bottom:0\">Case 13</h4>"
      ]
    },
    {
      "cell_type": "markdown",
      "metadata": {
        "id": "r6W_u1INSmAX"
      },
      "source": [
        "<p style=\"margin-top:0; text-align: justify\">Finally, we can pass multiple boolean conditions by using NumPy's logical_and function. If we want to retrieve all of the numbers that are greater than 22 but lower than 26 in array c: </p>"
      ]
    },
    {
      "cell_type": "code",
      "execution_count": null,
      "metadata": {
        "id": "Dj5F-QLtSmAX",
        "outputId": "eeef2704-bd14-4d8e-ae1a-5cee8f5461a8"
      },
      "outputs": [
        {
          "data": {
            "text/plain": [
              "array([23., 24., 25.])"
            ]
          },
          "execution_count": 26,
          "metadata": {},
          "output_type": "execute_result"
        }
      ],
      "source": [
        "c[np.logical_and(c>22, c<26)]"
      ]
    },
    {
      "cell_type": "markdown",
      "metadata": {
        "id": "kF2DbXELSmAX"
      },
      "source": [
        "![slicing13.png](attachment:slicing13.png)"
      ]
    },
    {
      "cell_type": "markdown",
      "metadata": {
        "id": "g1i1NoxsSmAX"
      },
      "source": [
        "<h3 style=\"margin-bottom:0\">6) Mathematics</h3>\n",
        "<br>\n",
        "<p style=\"margin-top:0; text-align: justify\">We may need to perform mathematical operations on arrays.</p>\n",
        "<br>\n",
        "<p style=\"margin-top:0; text-align: justify\">For example, we can do simplest 4 mathematical operations as:</p>"
      ]
    },
    {
      "cell_type": "code",
      "execution_count": null,
      "metadata": {
        "id": "anjcI48-SmAX",
        "outputId": "3f1d9e75-d22d-4235-84cc-4dc735549682"
      },
      "outputs": [
        {
          "data": {
            "text/plain": [
              "array([[ 2.,  3.,  4.],\n",
              "       [ 5.,  6.,  7.],\n",
              "       [ 8.,  9., 10.]])"
            ]
          },
          "execution_count": 27,
          "metadata": {},
          "output_type": "execute_result"
        }
      ],
      "source": [
        "np.add(b, e)"
      ]
    },
    {
      "cell_type": "code",
      "execution_count": null,
      "metadata": {
        "id": "a6siI46kSmAX",
        "outputId": "4dc273b9-6a44-439a-e80c-d625ff4aff7b"
      },
      "outputs": [
        {
          "data": {
            "text/plain": [
              "array([[0., 1., 2.],\n",
              "       [3., 4., 5.],\n",
              "       [6., 7., 8.]])"
            ]
          },
          "execution_count": 28,
          "metadata": {},
          "output_type": "execute_result"
        }
      ],
      "source": [
        "np.subtract(b, e)"
      ]
    },
    {
      "cell_type": "code",
      "execution_count": null,
      "metadata": {
        "id": "c71ad6SESmAX",
        "outputId": "db80a84b-86e0-473d-b611-1a1465cf2da8"
      },
      "outputs": [
        {
          "data": {
            "text/plain": [
              "array([[1., 2., 3.],\n",
              "       [4., 5., 6.],\n",
              "       [7., 8., 9.]])"
            ]
          },
          "execution_count": 29,
          "metadata": {},
          "output_type": "execute_result"
        }
      ],
      "source": [
        "np.multiply(b, e)"
      ]
    },
    {
      "cell_type": "code",
      "execution_count": null,
      "metadata": {
        "id": "9BVBElO9SmAX",
        "outputId": "29bececa-ad0e-4495-c064-81ea273c5b8d"
      },
      "outputs": [
        {
          "data": {
            "text/plain": [
              "array([[1., 2., 3.],\n",
              "       [4., 5., 6.],\n",
              "       [7., 8., 9.]])"
            ]
          },
          "execution_count": 30,
          "metadata": {},
          "output_type": "execute_result"
        }
      ],
      "source": [
        "np.divide(b, e)"
      ]
    },
    {
      "cell_type": "markdown",
      "metadata": {
        "id": "L3B1-YRHSmAX"
      },
      "source": [
        "We can apply mathematical functions with integer or floats as well."
      ]
    },
    {
      "cell_type": "code",
      "execution_count": null,
      "metadata": {
        "id": "KSoP0xWmSmAX",
        "outputId": "3df3ab82-1258-4eaf-f998-38853106e0c8"
      },
      "outputs": [
        {
          "data": {
            "text/plain": [
              "array([[ 4,  5,  6],\n",
              "       [ 7,  8,  9],\n",
              "       [10, 11, 12]])"
            ]
          },
          "execution_count": 31,
          "metadata": {},
          "output_type": "execute_result"
        }
      ],
      "source": [
        "np.add(b, 3)"
      ]
    },
    {
      "cell_type": "code",
      "execution_count": null,
      "metadata": {
        "id": "DGV4VmwASmAX",
        "outputId": "10dbbe17-9351-4deb-c5b0-51b167a46447"
      },
      "outputs": [
        {
          "data": {
            "text/plain": [
              "array([[ 2,  4,  6],\n",
              "       [ 8, 10, 12],\n",
              "       [14, 16, 18]])"
            ]
          },
          "execution_count": 32,
          "metadata": {},
          "output_type": "execute_result"
        }
      ],
      "source": [
        "np.multiply(b, 2)"
      ]
    },
    {
      "cell_type": "markdown",
      "metadata": {
        "id": "bGWPEit5SmAX"
      },
      "source": [
        "<p style=\"margin-top:0; text-align: justify\">Or, we can do exponentiation like:</p>"
      ]
    },
    {
      "cell_type": "code",
      "execution_count": null,
      "metadata": {
        "id": "euDXaWpaSmAX",
        "outputId": "ca1622ba-b6ad-45b9-eb9b-68f9a174b3ce"
      },
      "outputs": [
        {
          "data": {
            "text/plain": [
              "array([[2.71828183e+00, 7.38905610e+00, 2.00855369e+01],\n",
              "       [5.45981500e+01, 1.48413159e+02, 4.03428793e+02],\n",
              "       [1.09663316e+03, 2.98095799e+03, 8.10308393e+03]])"
            ]
          },
          "execution_count": 33,
          "metadata": {},
          "output_type": "execute_result"
        }
      ],
      "source": [
        "np.exp(b)"
      ]
    },
    {
      "cell_type": "markdown",
      "metadata": {
        "id": "8TArMrLrSmAY"
      },
      "source": [
        "<p style=\"margin-top:0; text-align: justify\">And, we can find square root of each element:</p>"
      ]
    },
    {
      "cell_type": "code",
      "execution_count": null,
      "metadata": {
        "scrolled": true,
        "id": "Pa2hIdZISmAY",
        "outputId": "c5892de0-ec44-423c-f1af-563984e262b7"
      },
      "outputs": [
        {
          "data": {
            "text/plain": [
              "array([[1.        , 1.41421356, 1.73205081],\n",
              "       [2.        , 2.23606798, 2.44948974],\n",
              "       [2.64575131, 2.82842712, 3.        ]])"
            ]
          },
          "execution_count": 34,
          "metadata": {},
          "output_type": "execute_result"
        }
      ],
      "source": [
        "np.sqrt(b)"
      ]
    },
    {
      "cell_type": "markdown",
      "metadata": {
        "id": "ao-kH5zLSmAY"
      },
      "source": [
        "We can find sum of the elements in an array as:"
      ]
    },
    {
      "cell_type": "code",
      "execution_count": null,
      "metadata": {
        "id": "e6HQK-M0SmAY",
        "outputId": "fce6865c-89f8-4f84-ee7b-90b23051c833"
      },
      "outputs": [
        {
          "data": {
            "text/plain": [
              "378.0"
            ]
          },
          "execution_count": 35,
          "metadata": {},
          "output_type": "execute_result"
        }
      ],
      "source": [
        "c.sum()"
      ]
    },
    {
      "cell_type": "markdown",
      "metadata": {
        "id": "uJzhQj0FSmAY"
      },
      "source": [
        "We can find the maximum element in an array as (you can find minimum by using .min() instead):"
      ]
    },
    {
      "cell_type": "code",
      "execution_count": null,
      "metadata": {
        "id": "oE4TIWG8SmAY",
        "outputId": "d0ddd9f7-8adc-40a7-fc9b-b3dd76d228fa"
      },
      "outputs": [
        {
          "data": {
            "text/plain": [
              "27.0"
            ]
          },
          "execution_count": 36,
          "metadata": {},
          "output_type": "execute_result"
        }
      ],
      "source": [
        "c.max()"
      ]
    },
    {
      "cell_type": "markdown",
      "metadata": {
        "id": "Og0u6nuHSmAY"
      },
      "source": [
        "We can find mean of the elements in an array as (you can find the median by using median() instead):"
      ]
    },
    {
      "cell_type": "code",
      "execution_count": null,
      "metadata": {
        "id": "cI58h990SmAY",
        "outputId": "1cc6236e-df9a-4d96-acf1-337c6ec4d317"
      },
      "outputs": [
        {
          "data": {
            "text/plain": [
              "14.0"
            ]
          },
          "execution_count": 37,
          "metadata": {},
          "output_type": "execute_result"
        }
      ],
      "source": [
        "c.mean()"
      ]
    },
    {
      "cell_type": "markdown",
      "metadata": {
        "id": "iicnecRcSmAY"
      },
      "source": [
        "We can find standard deviation of the elements in an array as:"
      ]
    },
    {
      "cell_type": "code",
      "execution_count": null,
      "metadata": {
        "id": "26CpDTzMSmAY",
        "outputId": "672fa32b-fd03-44e4-9de9-4f6d33824d0c"
      },
      "outputs": [
        {
          "data": {
            "text/plain": [
              "7.788880963698615"
            ]
          },
          "execution_count": 38,
          "metadata": {},
          "output_type": "execute_result"
        }
      ],
      "source": [
        "np.std(c)"
      ]
    },
    {
      "cell_type": "markdown",
      "metadata": {
        "id": "Wq6cN8bjSmAY"
      },
      "source": [
        "We can compare each element of two arrays such as:"
      ]
    },
    {
      "cell_type": "code",
      "execution_count": null,
      "metadata": {
        "scrolled": true,
        "id": "DR7XfPnCSmAY",
        "outputId": "2ac09c88-9263-4baa-9029-6191b419d575"
      },
      "outputs": [
        {
          "data": {
            "text/plain": [
              "array([[ True, False, False],\n",
              "       [False, False, False],\n",
              "       [False, False, False]])"
            ]
          },
          "execution_count": 39,
          "metadata": {},
          "output_type": "execute_result"
        }
      ],
      "source": [
        "b == e"
      ]
    },
    {
      "cell_type": "markdown",
      "metadata": {
        "id": "ySQZFHuhSmAZ"
      },
      "source": [
        "We can compare two arrays:"
      ]
    },
    {
      "cell_type": "code",
      "execution_count": null,
      "metadata": {
        "id": "mr0DhFbfSmAZ",
        "outputId": "4df4ddea-9b09-4b70-c720-bd714e3ead72"
      },
      "outputs": [
        {
          "data": {
            "text/plain": [
              "False"
            ]
          },
          "execution_count": 40,
          "metadata": {},
          "output_type": "execute_result"
        }
      ],
      "source": [
        "np.array_equal(b,e)"
      ]
    },
    {
      "cell_type": "markdown",
      "metadata": {
        "id": "45cYfmwrSmAZ"
      },
      "source": [
        "<h3 style=\"margin-bottom:0\">7) Other Useful Functions</h3>\n",
        "<br>\n",
        "<p style=\"margin-top:0; text-align: justify\">In this section, we will present other useful functions that can be used from NumPy library.</p>\n",
        "<br>\n",
        "<p style=\"margin-top:0; text-align: justify\">For example, you can transpose a matrix by:</p>"
      ]
    },
    {
      "cell_type": "code",
      "execution_count": null,
      "metadata": {
        "id": "Hi6P50qiSmAZ",
        "outputId": "e06db19c-07ba-41e9-95a4-25e137d19ec4"
      },
      "outputs": [
        {
          "data": {
            "text/plain": [
              "array([[[ 1., 10., 19.],\n",
              "        [ 4., 13., 22.],\n",
              "        [ 7., 16., 25.]],\n",
              "\n",
              "       [[ 2., 11., 20.],\n",
              "        [ 5., 14., 23.],\n",
              "        [ 8., 17., 26.]],\n",
              "\n",
              "       [[ 3., 12., 21.],\n",
              "        [ 6., 15., 24.],\n",
              "        [ 9., 18., 27.]]])"
            ]
          },
          "execution_count": 41,
          "metadata": {},
          "output_type": "execute_result"
        }
      ],
      "source": [
        "np.transpose(c)"
      ]
    },
    {
      "cell_type": "markdown",
      "metadata": {
        "id": "IHBaxkxkSmAZ"
      },
      "source": [
        "Split array horizontally (if we save it into a new array and look at first element, we will see it is an array):"
      ]
    },
    {
      "cell_type": "code",
      "execution_count": null,
      "metadata": {
        "id": "clTdk1xKSmAZ",
        "outputId": "6bce3297-da42-4331-b531-cc646a2abf9e"
      },
      "outputs": [
        {
          "data": {
            "text/plain": [
              "array([[[ 1.,  2.,  3.]],\n",
              "\n",
              "       [[10., 11., 12.]],\n",
              "\n",
              "       [[19., 20., 21.]]])"
            ]
          },
          "execution_count": 42,
          "metadata": {},
          "output_type": "execute_result"
        }
      ],
      "source": [
        "i = np.hsplit(c,3)\n",
        "i[0]"
      ]
    },
    {
      "cell_type": "markdown",
      "metadata": {
        "id": "98YMcWa0SmAZ"
      },
      "source": [
        "Split array vertically (if we save it into a new array and look at first element, we will see it is an array):"
      ]
    },
    {
      "cell_type": "code",
      "execution_count": null,
      "metadata": {
        "id": "ihbjzaaASmAZ",
        "outputId": "c7f4f119-d864-4233-b3d2-d32fd3e8b4f0"
      },
      "outputs": [
        {
          "data": {
            "text/plain": [
              "array([[[1., 2., 3.],\n",
              "        [4., 5., 6.],\n",
              "        [7., 8., 9.]]])"
            ]
          },
          "execution_count": 43,
          "metadata": {},
          "output_type": "execute_result"
        }
      ],
      "source": [
        "j = np.vsplit(c,3)\n",
        "j[0]"
      ]
    },
    {
      "cell_type": "markdown",
      "metadata": {
        "id": "GBd8XkKVSmAZ"
      },
      "source": [
        "We can sort an array (this function itself will not return anything, when we call sorted array again, we will see it is sorted):"
      ]
    },
    {
      "cell_type": "code",
      "execution_count": null,
      "metadata": {
        "id": "uhMULEgPSmAZ",
        "outputId": "f8caedce-7704-4dfa-cb1f-241871ad7ff5"
      },
      "outputs": [
        {
          "data": {
            "text/plain": [
              "array([[0.22685145, 0.28613933, 0.69646919],\n",
              "       [0.42310646, 0.55131477, 0.71946897],\n",
              "       [0.4809319 , 0.68482974, 0.9807642 ]])"
            ]
          },
          "execution_count": 44,
          "metadata": {},
          "output_type": "execute_result"
        }
      ],
      "source": [
        "h.sort()\n",
        "h"
      ]
    },
    {
      "cell_type": "markdown",
      "metadata": {
        "id": "nSqb_n9JSmAZ"
      },
      "source": [
        "We can change array shape by:"
      ]
    },
    {
      "cell_type": "code",
      "execution_count": null,
      "metadata": {
        "id": "B_y8uPDVSmAZ",
        "outputId": "0a5f5efd-12bf-46f2-d646-fc74d6bb1335"
      },
      "outputs": [
        {
          "data": {
            "text/plain": [
              "array([[0.22685145],\n",
              "       [0.28613933],\n",
              "       [0.69646919],\n",
              "       [0.42310646],\n",
              "       [0.55131477],\n",
              "       [0.71946897],\n",
              "       [0.4809319 ],\n",
              "       [0.68482974],\n",
              "       [0.9807642 ]])"
            ]
          },
          "execution_count": 45,
          "metadata": {},
          "output_type": "execute_result"
        }
      ],
      "source": [
        "h.reshape(9,1)"
      ]
    },
    {
      "cell_type": "markdown",
      "metadata": {
        "id": "2Q5vRjfwSmAZ"
      },
      "source": [
        "We can add a new element by (first, we indicate array, then we indicate index and finally we indicate value. Note that the array itself does not change, we need to assign this function to a new variable to be able to call it back later):"
      ]
    },
    {
      "cell_type": "code",
      "execution_count": null,
      "metadata": {
        "id": "7BswzJy0SmAZ",
        "outputId": "556a4742-2e1b-4da3-9167-4b75ef1280f0"
      },
      "outputs": [
        {
          "data": {
            "text/plain": [
              "array([0.22685145, 0.28613933, 0.69646919, 0.42310646, 0.55131477,\n",
              "       2.        , 0.71946897, 0.4809319 , 0.68482974, 0.9807642 ])"
            ]
          },
          "execution_count": 46,
          "metadata": {},
          "output_type": "execute_result"
        }
      ],
      "source": [
        "np.insert(h, 5, 2)"
      ]
    },
    {
      "cell_type": "markdown",
      "metadata": {
        "id": "bHKLeYksSmAZ"
      },
      "source": [
        "We can delete an element by (first, we indicate array, then we indicate index. Note that the array itself does not change, we need to assign this function to a new variable to be able to call it back later):"
      ]
    },
    {
      "cell_type": "code",
      "execution_count": null,
      "metadata": {
        "id": "hQCz51hYSmAZ",
        "outputId": "f17fe93e-8cff-408a-fde6-02edf2f99e04"
      },
      "outputs": [
        {
          "data": {
            "text/plain": [
              "array([0.22685145, 0.69646919, 0.42310646, 0.55131477, 0.71946897,\n",
              "       0.4809319 , 0.68482974, 0.9807642 ])"
            ]
          },
          "execution_count": 47,
          "metadata": {},
          "output_type": "execute_result"
        }
      ],
      "source": [
        "np.delete(h, 1)"
      ]
    },
    {
      "cell_type": "markdown",
      "metadata": {
        "id": "EjYfWaP7SmAa"
      },
      "source": [
        "<h3 style=\"margin-bottom:0\">8) Input and Output</h3>\n",
        "<br>\n",
        "<p style=\"margin-top:0; text-align: justify\">In this section, we will present how to save or load NumPy arrays.</p>\n",
        "<br>\n",
        "<p style=\"margin-top:0; text-align: justify\">For example, you can save your array as a NumPy file by putting desired direction in \"...\" and properly naming it:</p>"
      ]
    },
    {
      "cell_type": "code",
      "execution_count": null,
      "metadata": {
        "id": "9I2ZFYkxSmAa"
      },
      "outputs": [],
      "source": [
        "np.save('.../new_file',h)"
      ]
    },
    {
      "cell_type": "markdown",
      "metadata": {
        "id": "nanMs6bNSmAa"
      },
      "source": [
        "You can load NumPy array files by:"
      ]
    },
    {
      "cell_type": "code",
      "execution_count": null,
      "metadata": {
        "id": "N6KZ2Bi2SmAa"
      },
      "outputs": [],
      "source": [
        "np.load('.../new_file.npy')"
      ]
    },
    {
      "cell_type": "markdown",
      "metadata": {
        "id": "pysoDpZjSmAa"
      },
      "source": [
        "Also, you can load txt or csv files as follows (you can also add delimiter):"
      ]
    },
    {
      "cell_type": "code",
      "execution_count": null,
      "metadata": {
        "id": "HJH3eXZKSmAa"
      },
      "outputs": [],
      "source": [
        "np.loadtxt('.../new_file.txt')"
      ]
    },
    {
      "cell_type": "code",
      "execution_count": null,
      "metadata": {
        "id": "U3aCjOowSmAa"
      },
      "outputs": [],
      "source": [
        "np.genfromtxt('.../new_file.csv', delimiter = \"\")"
      ]
    },
    {
      "cell_type": "markdown",
      "metadata": {
        "id": "enpE1T4USmAa"
      },
      "source": [
        "And you can save your arrays into txt or csv files like:"
      ]
    },
    {
      "cell_type": "code",
      "execution_count": null,
      "metadata": {
        "id": "7gptiexMSmAa"
      },
      "outputs": [],
      "source": [
        "np.savetxt('.../new_file.txt', h, delimiter='')"
      ]
    },
    {
      "cell_type": "code",
      "execution_count": null,
      "metadata": {
        "id": "_tvRk1BQSmAa"
      },
      "outputs": [],
      "source": [
        "np.savetxt('.../new_file.csv', h, delimiter='')"
      ]
    },
    {
      "cell_type": "markdown",
      "metadata": {
        "id": "ilqRzSlxSmAa"
      },
      "source": [
        "<h3 style=\"margin-bottom:0\">9) Help, References & Useful Links</h3>"
      ]
    },
    {
      "cell_type": "markdown",
      "metadata": {
        "id": "vH3rE_nXSmAa"
      },
      "source": [
        "You can look at how a function works directly in Jupyter Notebook. For example, if you do not understand how np.ones function works, you can simply write:"
      ]
    },
    {
      "cell_type": "code",
      "execution_count": null,
      "metadata": {
        "scrolled": true,
        "id": "3awIvCXtSmAa",
        "outputId": "35675906-4638-494b-c47c-731cf66819b4"
      },
      "outputs": [
        {
          "name": "stdout",
          "output_type": "stream",
          "text": [
            " ones(shape, dtype=None, order='C', *, like=None)\n",
            "\n",
            "Return a new array of given shape and type, filled with ones.\n",
            "\n",
            "Parameters\n",
            "----------\n",
            "shape : int or sequence of ints\n",
            "    Shape of the new array, e.g., ``(2, 3)`` or ``2``.\n",
            "dtype : data-type, optional\n",
            "    The desired data-type for the array, e.g., `numpy.int8`.  Default is\n",
            "    `numpy.float64`.\n",
            "order : {'C', 'F'}, optional, default: C\n",
            "    Whether to store multi-dimensional data in row-major\n",
            "    (C-style) or column-major (Fortran-style) order in\n",
            "    memory.\n",
            "like : array_like\n",
            "    Reference object to allow the creation of arrays which are not\n",
            "    NumPy arrays. If an array-like passed in as ``like`` supports\n",
            "    the ``__array_function__`` protocol, the result will be defined\n",
            "    by it. In this case, it ensures the creation of an array object\n",
            "    compatible with that passed in via this argument.\n",
            "\n",
            "    .. note::\n",
            "        The ``like`` keyword is an experimental feature pending on\n",
            "        acceptance of :ref:`NEP 35 <NEP35>`.\n",
            "\n",
            "    .. versionadded:: 1.20.0\n",
            "\n",
            "Returns\n",
            "-------\n",
            "out : ndarray\n",
            "    Array of ones with the given shape, dtype, and order.\n",
            "\n",
            "See Also\n",
            "--------\n",
            "ones_like : Return an array of ones with shape and type of input.\n",
            "empty : Return a new uninitialized array.\n",
            "zeros : Return a new array setting values to zero.\n",
            "full : Return a new array of given shape filled with value.\n",
            "\n",
            "\n",
            "Examples\n",
            "--------\n",
            ">>> np.ones(5)\n",
            "array([1., 1., 1., 1., 1.])\n",
            "\n",
            ">>> np.ones((5,), dtype=int)\n",
            "array([1, 1, 1, 1, 1])\n",
            "\n",
            ">>> np.ones((2, 1))\n",
            "array([[1.],\n",
            "       [1.]])\n",
            "\n",
            ">>> s = (2,2)\n",
            ">>> np.ones(s)\n",
            "array([[1.,  1.],\n",
            "       [1.,  1.]])\n"
          ]
        }
      ],
      "source": [
        "np.info(np.ones)"
      ]
    },
    {
      "cell_type": "markdown",
      "metadata": {
        "id": "OisqtV0ySmAa"
      },
      "source": [
        "<hr style=\"height:2px;color:navy;margin-top:0\">\n",
        "<p style=\"margin-top:0; text-align: justify\">This tutorial is prepared with the help of <a href=\"https://numpy.org/devdocs/user/absolute_beginners.html\">original website</a> documentation.</p>\n",
        "<br>\n",
        "<p style=\"margin-top:0; text-align: justify\">You can always refer to this documentation as it is complete. If you cannot find a solution, you are very likely to find an answer for your questions on the internet as this library is super widely used. If you still cannot find an answer, please do no hesitate to ask your questions to course assistants.</p>"
      ]
    },
    {
      "cell_type": "markdown",
      "metadata": {
        "id": "MCDJmLgYSmAa"
      },
      "source": [
        "<h4 style=\"margin-bottom:0\">Useful Links</h4>"
      ]
    },
    {
      "cell_type": "markdown",
      "metadata": {
        "id": "31HmNcS3SmAb"
      },
      "source": [
        "<p style=\"margin-top:0; text-align: justify\">Here are some useful tutorials or blogs that are related to NumPy:</p>"
      ]
    },
    {
      "cell_type": "markdown",
      "metadata": {
        "id": "93rrzqBTSmAb"
      },
      "source": [
        "<a href=\"https://numpy.org/devdocs/user/absolute_beginners.html\">Original Website:</a> This is the website of NumPy. You may find tons of useful material that covers each aspect of NumPy library.</p>"
      ]
    },
    {
      "cell_type": "markdown",
      "metadata": {
        "id": "CXnRtiPvSmAb"
      },
      "source": [
        "<a href=\"https://www.youtube.com/watch?v=QUT1VHiLmmI\">Python NumPy Tutorial for Beginners:</a> This is a YouTube video provided by freeCodeCamp.org. It basically covers the fundamentals of NumPy library as well as it talks about linear algebra, mathematics and statistics as well.</p>"
      ]
    },
    {
      "cell_type": "markdown",
      "metadata": {
        "id": "2BFkkwFqSmAb"
      },
      "source": [
        "<a href=\"https://rukshanpramoditha.medium.com/numpy-for-data-science-part-2-7399ffc605e5\">A Complete Step-by-Step Guide to NumPy Array Indexing and Slicing:</a> This medium post is about indexing and slicing. You may find many examples for slicing and indexing here.</p>"
      ]
    }
  ],
  "metadata": {
    "kernelspec": {
      "display_name": "Python 3",
      "language": "python",
      "name": "python3"
    },
    "language_info": {
      "codemirror_mode": {
        "name": "ipython",
        "version": 3
      },
      "file_extension": ".py",
      "mimetype": "text/x-python",
      "name": "python",
      "nbconvert_exporter": "python",
      "pygments_lexer": "ipython3",
      "version": "3.8.8"
    },
    "colab": {
      "provenance": [],
      "include_colab_link": true
    }
  },
  "nbformat": 4,
  "nbformat_minor": 0
}