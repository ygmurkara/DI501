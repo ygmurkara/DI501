{
  "cells": [
    {
      "cell_type": "markdown",
      "metadata": {
        "id": "view-in-github",
        "colab_type": "text"
      },
      "source": [
        "<a href=\"https://colab.research.google.com/github/ygmurkara/DI501/blob/main/DI_501_Lab_1.ipynb\" target=\"_parent\"><img src=\"https://colab.research.google.com/assets/colab-badge.svg\" alt=\"Open In Colab\"/></a>"
      ]
    },
    {
      "cell_type": "markdown",
      "metadata": {
        "id": "gmMMsEPeYKcn"
      },
      "source": [
        "# DI 501 - Introduction to Data Informatics\n",
        "### Intro to data exploration (pandas, matplotlib, seaborn, scipy)"
      ]
    },
    {
      "cell_type": "code",
      "execution_count": null,
      "metadata": {
        "id": "0KQIkOw0YKcp"
      },
      "outputs": [],
      "source": [
        "import numpy as np\n",
        "import pandas as pd\n",
        "\n",
        "import matplotlib.pyplot as plt\n",
        "import seaborn as sns\n",
        "\n",
        "from scipy import stats\n",
        "import statsmodels.api as sm\n",
        "from scipy.stats import spearmanr, pearsonr\n",
        "from statsmodels.stats.multitest import multipletests\n",
        "pd.set_option('display.max_columns', None)\n"
      ]
    },
    {
      "cell_type": "markdown",
      "metadata": {
        "id": "bQWiwvxEYKcq"
      },
      "source": [
        "## Loading data\n",
        "\n",
        "To easily locate files you can put them in the same folder as the notebook file. Otherwise enter the path to the file."
      ]
    },
    {
      "cell_type": "code",
      "execution_count": null,
      "metadata": {
        "id": "pXWcxg5bYKcr"
      },
      "outputs": [],
      "source": [
        "data = pd.read_csv('2024 QS World University Rankings 1.1 (For qs.com).csv')\n",
        "data.head()"
      ]
    },
    {
      "cell_type": "markdown",
      "metadata": {
        "id": "XuqZACK4NgIx"
      },
      "source": [
        "Sometimes default parameters in functions don't work for us. Here, we need to change the seperator using the `sep` argument."
      ]
    },
    {
      "cell_type": "code",
      "execution_count": null,
      "metadata": {
        "id": "vpKQLUXKNgIy"
      },
      "outputs": [],
      "source": [
        "data = pd.read_csv('2024 QS World University Rankings 1.1 (For qs.com).csv', sep=';')\n",
        "data.head()"
      ]
    },
    {
      "cell_type": "markdown",
      "metadata": {
        "id": "M91BelEPNgIy"
      },
      "source": [
        "Here we see some columns at the top are not needed. To look at all the arguments a function has, and get more info about it we can append or prepend `?` to the function call, or visit the defined [page](https://pandas.pydata.org/pandas-docs/stable/reference/api/pandas.read_csv.html) in the package webpage/repository."
      ]
    },
    {
      "cell_type": "code",
      "execution_count": null,
      "metadata": {
        "id": "_cDiC8jCNgIy"
      },
      "outputs": [],
      "source": [
        "pd.read_csv?"
      ]
    },
    {
      "cell_type": "markdown",
      "metadata": {
        "id": "PJ1vyAr5NgIy"
      },
      "source": [
        "We can see we have an argument named `skiprows`. Lets change it to skip the first 3 rows."
      ]
    },
    {
      "cell_type": "code",
      "execution_count": null,
      "metadata": {
        "id": "kHYCRx3JYKcs"
      },
      "outputs": [],
      "source": [
        "data = pd.read_csv('2024 QS World University Rankings 1.1 (For qs.com).csv', sep=';', skiprows=3)\n",
        "data.head(3)"
      ]
    },
    {
      "cell_type": "markdown",
      "metadata": {
        "id": "ggG6ldc_NgIz"
      },
      "source": [
        "All looks good. We have columns with names, acronyms, and numbers. We can see all column names by accessing the `columns` attribute of the pandas dataframe."
      ]
    },
    {
      "cell_type": "markdown",
      "metadata": {
        "id": "QLtw7M7jNgIz"
      },
      "source": [
        "### Unifying column names"
      ]
    },
    {
      "cell_type": "code",
      "execution_count": null,
      "metadata": {
        "id": "vCXr-v82NgIz"
      },
      "outputs": [],
      "source": [
        "data.columns"
      ]
    },
    {
      "cell_type": "markdown",
      "metadata": {
        "id": "DWlPDj7rNgIz"
      },
      "source": [
        "Notice how some columns are all uppercase, and others have each word capitalized. For further analysis it is beneficial to convert all column names to lowercase strings.\n",
        "\n",
        "They also have spaces which will make referring to them cumbersome, so we will replace them with an underscore as well."
      ]
    },
    {
      "cell_type": "code",
      "execution_count": null,
      "metadata": {
        "id": "DTPOKiUINgIz"
      },
      "outputs": [],
      "source": [
        "data.columns = [x.lower().replace(' ', '_') for x in data.columns]\n",
        "\n",
        "data.columns"
      ]
    },
    {
      "cell_type": "markdown",
      "metadata": {
        "id": "T-PCWJTPNgI0"
      },
      "source": [
        "But these acronyms don't mean much. Below is a list of explanations for most of the rows compiled from various pages from QS webpages."
      ]
    },
    {
      "cell_type": "markdown",
      "metadata": {
        "id": "5OqKA71VYKcv"
      },
      "source": [
        "## QS World University Rankings Explained\n",
        "\n",
        "* **Academic reputation** – Accounting for 30 per cent of the overall score, academic reputation looks at the teaching and research quality at the world’s universities. We collate over 130,000 expert opinions from the higher education space, creating the largest survey of academic opinion in the world.  \n",
        "\n",
        "* **Employer reputation** – We know that students want to graduate with the skills and knowledge required for the employment market. We assess how institutions prepare students for successful careers, and which institutions provide the most competent, innovative, and effective graduates.  \n",
        "\n",
        "* **Faculty/student ratio** – This indicator recognises that a high number of academics per student reduces the teaching burden and creates a more supportive student experience. We assess how institutions provide students with meaningful access to lecturers and tutors.  \n",
        "\n",
        "* **Citations per faculty** – We measure university research quality with a citation per faculty metric, taking the total number of academic citations in papers produced by a university in a five-year period.\n",
        "\n",
        "* **International student ratio & International faculty ratio** – A highly international university creates a number of benefits. It demonstrates the ability to attract quality students and staff from across the world, and it implies a highly global outlook. Strong international institutions provide a multinational environment, building international sympathies and global awareness.\n",
        "\n",
        "* **International research network** - IRN Index reflects the ability of institutions to diversify the geography of their international research network by establishing sustainable research partnerships with other higher education institutions.\n",
        "\n",
        "* **Graduate employment rate** - Defined as the percentage of graduates who go on to paid (non-voluntary) work within 15 months of finishing their degree. We consider any mode of employment (full-time or part-time), even if unknown.\n",
        "\n",
        "* **Sustainability** - Measures which institutions are demonstrating a commitment to a more sustainable existence. More than just the commitment, it looks for outwards evidence of this - from the impact that alumni are making in science and technology to solve climate issues, to the impact of research being done across the UN's 17 sustainable development goals.  It evaluates the social and environmental impact of universities as a center's of education and research, as well as a major employers with the operational sustainability challenges of any large and complex organization.\n"
      ]
    },
    {
      "cell_type": "markdown",
      "metadata": {
        "id": "yTg-6GCQNgI1"
      },
      "source": [
        "### Weights for overall rank\n",
        "\n",
        "| Performances Lenses            | 2024 Edition Weights  | Change from previous editions |\n",
        "|--------------------------------|-----------------------|-------------------------------|\n",
        "| Academic Reputation            | 30%                   | 10% deducted                  |\n",
        "| Employer Reputation            | 15%                   | 5% added                      |\n",
        "| Faculty Student Ratio          | 10%                   | 10% deducted                  |\n",
        "| Citations per Faculty          | 20%                   | No change                     |\n",
        "| International Faculty Ratio    | 5%                    | No change                     |\n",
        "| International Student Ratio    | 5%                    | No change                     |\n",
        "| International Research Network | 5%                    | New                           |\n",
        "| Employment Outcomes            | 5%                    | New                           |\n",
        "| Sustainability                 | 5%                    | New                           |"
      ]
    },
    {
      "cell_type": "markdown",
      "metadata": {
        "id": "X3fYXiIgNgI1"
      },
      "source": [
        "### Classification columns"
      ]
    },
    {
      "cell_type": "markdown",
      "metadata": {
        "id": "Re-GMiJbNgI1"
      },
      "source": [
        "<table>\n",
        "\n",
        "<td>\n",
        "\n",
        "|    | Size        | Students         |\n",
        "|----|-------------|------------------|\n",
        "| XL | Extra Large | >=30,000 |\n",
        "| L  | Large       | >=12,000         |\n",
        "| M  | Medium      | >=5,000          |\n",
        "| S  | Small       | <5,000 |\n",
        "\n",
        "</td>\n",
        "<td>\n",
        "\n",
        "|    | Focus              | Faculty Area                         |\n",
        "|----|--------------------|--------------------------------------|\n",
        "| FC | Full comprehensive | All 5 faculty areas + medical school |\n",
        "| CO | Comprehensive      | All 5 faculty areas                  |\n",
        "| FO | Focused            | 3 or 4 faculty areas                 |\n",
        "| SP | Specialist         | 2 or fewer faculty areas             |\n",
        "\n",
        "</td>\n",
        "<td>\n",
        "\n",
        "|   | Classification | Age                    |\n",
        "|---|----------------|------------------------|\n",
        "| 5 | Historic       | >=100 years old        |\n",
        "| 4 | Mature         | 50-99 years old        |\n",
        "| 3 | Established    | 25-49 years old        |\n",
        "| 2 | Young          | 10-24 years old        |\n",
        "| 1 | New            | < 10 years old |\n",
        "\n",
        "</td>\n",
        "<td>\n",
        "\n",
        "|    | Research Intensity |\n",
        "|----|--------------------|\n",
        "| VH | Very High          |\n",
        "| HI | High               |\n",
        "| MD | Medium             |\n",
        "| LO | Low                |\n",
        "\n",
        "</td>\n",
        "</table>"
      ]
    },
    {
      "cell_type": "markdown",
      "metadata": {
        "id": "Tdj9pse5NgI1"
      },
      "source": [
        "\n",
        "Sources: <br>\n",
        "https://www.topuniversities.com/qs-world-university-rankings/methodology <br>\n",
        "https://support.qs.com/hc/en-gb/articles/4405955370898-QS-World-University-Rankings <br>\n",
        "https://support.qs.com/hc/en-gb/articles/6107352412828-QS-World-University-Rankings-Sustainability- <br>\n",
        "https://support.qs.com/hc/en-gb/articles/6478203732380-2024-Rankings-Cycle <br>\n",
        "https://support.qs.com/hc/en-gb/articles/360021876820-QS-Institution-Classifications"
      ]
    },
    {
      "cell_type": "markdown",
      "metadata": {
        "id": "4avPNk4TYKcx"
      },
      "source": [
        "## Initial exploration"
      ]
    },
    {
      "cell_type": "markdown",
      "metadata": {
        "id": "0wPs_L3xNgI2"
      },
      "source": [
        "Before delving into details, we can quickly have an idea about our dataset with these two methods:\n",
        "\n",
        "* `.info()` method shows information like how many rows and columns there are, how many non NaN values exist, which object types python chose for each column etc."
      ]
    },
    {
      "cell_type": "code",
      "execution_count": null,
      "metadata": {
        "id": "_JEi5M8wYKcy"
      },
      "outputs": [],
      "source": [
        "data.info(verbose=True)"
      ]
    },
    {
      "cell_type": "markdown",
      "metadata": {
        "id": "-LkhGkB5NgI2"
      },
      "source": [
        "* `.describe()` method meanwhile calculates descriptive statistics for numeric columns."
      ]
    },
    {
      "cell_type": "code",
      "execution_count": null,
      "metadata": {
        "id": "O058NhPxYKcz"
      },
      "outputs": [],
      "source": [
        "data.describe()"
      ]
    },
    {
      "cell_type": "markdown",
      "metadata": {
        "id": "Je_Uv3lBYKc0"
      },
      "source": [
        "Notice how only numeric attributes were considered for this function. Although for columns like 'age band' these metrics don't make sense as it is an **ordinal** attribute."
      ]
    },
    {
      "cell_type": "markdown",
      "metadata": {
        "id": "uKzKkT44NgI2"
      },
      "source": [
        "Let's focus on turkish universities for a bit. We can subset the dataset like so:"
      ]
    },
    {
      "cell_type": "code",
      "execution_count": null,
      "metadata": {
        "id": "PCphDGptNgI2"
      },
      "outputs": [],
      "source": [
        "turkey = data[data['location_code'] == 'TR']\n",
        "turkey.head()"
      ]
    },
    {
      "cell_type": "markdown",
      "metadata": {
        "id": "2Ma3TVBqNgI2"
      },
      "source": [
        "Another way to do the same thing is to use the query method. Note: we would've needed need backticks for variable names with spaces, but we avoided that with the underscores."
      ]
    },
    {
      "cell_type": "code",
      "execution_count": null,
      "metadata": {
        "id": "RqYTvb71NgI2"
      },
      "outputs": [],
      "source": [
        "data.query('location_code == \"TR\"').head()"
      ]
    },
    {
      "cell_type": "code",
      "execution_count": null,
      "metadata": {
        "id": "y_QaQdbiYKc1"
      },
      "outputs": [],
      "source": [
        "plt.hist(turkey['ger_score'])"
      ]
    },
    {
      "cell_type": "markdown",
      "metadata": {
        "id": "zEUv7hZwNgI3"
      },
      "source": [
        "We can see the histogram function returns two arrays and a plot. One array is the bar heights and the other is the bin end point.\n",
        "\n",
        "But of course we can use different arguments to change how many bins there are, or how much the binwidth should be."
      ]
    },
    {
      "cell_type": "code",
      "execution_count": null,
      "metadata": {
        "id": "EDyHoOIUYKc2"
      },
      "outputs": [],
      "source": [
        "data.hist(figsize=(10,10), bins=30);\n",
        "plt.suptitle('Histograms of all the numeric variables', y=0.95, fontsize=20, fontweight='semibold');"
      ]
    },
    {
      "cell_type": "markdown",
      "metadata": {
        "id": "ZWzMvOW9NgI3"
      },
      "source": [
        "Returning to the distribution of graduate employment rate for Turkey we can make custom graphs using matplotlib and an extension to it, **seaborn**.\n",
        "\n",
        "Notice how the `kde` parameter added a kernel estimated density function on top."
      ]
    },
    {
      "cell_type": "code",
      "execution_count": null,
      "metadata": {
        "id": "1-1bt8VXYKc3"
      },
      "outputs": [],
      "source": [
        "fig, axes = plt.subplots(1, 2, figsize=(10,5))\n",
        "fig.suptitle('Same plot from different libraries', size=15)\n",
        "\n",
        "axes[0].set_xlabel('ger_score')\n",
        "axes[0].set_ylabel('Count')\n",
        "axes[0].set_title('matplotlib histogram')\n",
        "axes[0].hist(x=turkey['ger_score'], bins=30);\n",
        "\n",
        "axes[1].set_title('Seaborn histplot')\n",
        "sns.histplot(turkey['ger_score'], kde=True, bins=30, ax=axes[1]);"
      ]
    },
    {
      "cell_type": "markdown",
      "metadata": {
        "id": "gqceVy2aNgI3"
      },
      "source": [
        "As you may recall we had rank columns identified as an \"object\" and the scores as \"float64\"."
      ]
    },
    {
      "cell_type": "code",
      "execution_count": null,
      "metadata": {
        "id": "58ZCEht6NgI3"
      },
      "outputs": [],
      "source": [
        "data.columns"
      ]
    },
    {
      "cell_type": "code",
      "execution_count": null,
      "metadata": {
        "id": "jUcL7FXPNgI3"
      },
      "outputs": [],
      "source": [
        "import re\n",
        "rank_cols = {x for x in data.columns if x.endswith('rank')}\n",
        "rank_cols2 = {x for x in data.columns if re.findall('rank', x)}\n",
        "\n",
        "# assert rank_cols == rank_cols2\n",
        "\n"
      ]
    },
    {
      "cell_type": "code",
      "execution_count": null,
      "metadata": {
        "id": "X_nNSSp0NgI4"
      },
      "outputs": [],
      "source": [
        "rank_cols2-rank_cols"
      ]
    },
    {
      "cell_type": "markdown",
      "metadata": {
        "id": "XY-MXPHaNgI4"
      },
      "source": [
        "While this was a good exercise we actually want to keep the rank display columns as they give information on how universities changed rank from 2023 to 2024."
      ]
    },
    {
      "cell_type": "markdown",
      "metadata": {
        "id": "36fL1MjNNgI4"
      },
      "source": [
        "### Fixing rank columns"
      ]
    },
    {
      "cell_type": "markdown",
      "metadata": {
        "id": "c9HGsuzZNgI4"
      },
      "source": [
        "As you may recall we had rank columns identified as an \"object\" and the scores as \"float64\". We can easily recover rank from the score by sorting, so we will remove them."
      ]
    },
    {
      "cell_type": "code",
      "execution_count": null,
      "metadata": {
        "id": "IGNi_EbkYKdG"
      },
      "outputs": [],
      "source": [
        "simplified = data.iloc[:,~data.columns.isin(rank_cols)]\n",
        "\n",
        "simplified.info()"
      ]
    },
    {
      "cell_type": "markdown",
      "metadata": {
        "id": "PWytUEqzNgI4"
      },
      "source": [
        "### **Question 1)**\n",
        "\n",
        "Using pandas series method [`str.extract`](https://pandas.pydata.org/pandas-docs/stable/reference/api/pandas.Series.str.extract.html) and an appropriate [regular expression](https://images.datacamp.com/image/upload/v1665049611/Marketing/Blog/Regular_Expressions_Cheat_Sheet.pdf) pattern convert the `rank_display` column to pure integers by extracting the digits."
      ]
    },
    {
      "cell_type": "code",
      "execution_count": null,
      "metadata": {
        "id": "jzL-TJDeNgI4"
      },
      "outputs": [],
      "source": [
        "# fill here #"
      ]
    },
    {
      "cell_type": "code",
      "execution_count": null,
      "metadata": {
        "id": "5NBatFEvNgI4"
      },
      "outputs": [],
      "source": [
        "simplified.dtypes"
      ]
    },
    {
      "cell_type": "code",
      "execution_count": null,
      "metadata": {
        "id": "Q4nnOpyONgI4"
      },
      "outputs": [],
      "source": [
        "simplified.rank_display = simplified.rank_display.astype('int')\n",
        "\n",
        "simplified.rank_display2 = simplified.rank_display2.astype('float')"
      ]
    },
    {
      "cell_type": "markdown",
      "metadata": {
        "id": "TQvXLtBNNgI4"
      },
      "source": [
        "### **Question 2)**\n",
        "\n",
        "In the above code, try converting `rank_display2` to an integer. If you encounter an error, analyze why `rank_display2` was cast as a float while rank_display was successfully converted to an integer."
      ]
    },
    {
      "cell_type": "code",
      "execution_count": null,
      "metadata": {
        "id": "tcA-xlo8NgI5"
      },
      "outputs": [],
      "source": [
        "# fill here #"
      ]
    },
    {
      "cell_type": "markdown",
      "metadata": {
        "id": "qs6DX_TONgI5"
      },
      "source": [
        "> Fill here by double clicking me!"
      ]
    },
    {
      "cell_type": "markdown",
      "metadata": {
        "id": "7Tt-PFQdNgI5"
      },
      "source": [
        "### Fixing overall score column"
      ]
    },
    {
      "cell_type": "code",
      "execution_count": null,
      "metadata": {
        "id": "8HZEzHfsNgI5"
      },
      "outputs": [],
      "source": [
        "simplified['overall_score'].unique()"
      ]
    },
    {
      "cell_type": "code",
      "execution_count": null,
      "metadata": {
        "id": "RlhpiYzXNgI5"
      },
      "outputs": [],
      "source": [
        "simplified.overall_score = simplified['overall_score'].replace('-', np.NaN).astype(float)"
      ]
    },
    {
      "cell_type": "markdown",
      "metadata": {
        "id": "a9nMwzdTNgI5"
      },
      "source": [
        "### Fixing age band column"
      ]
    },
    {
      "cell_type": "code",
      "execution_count": null,
      "metadata": {
        "id": "_DD0dFsVNgI5"
      },
      "outputs": [],
      "source": [
        "simplified['age_band'].unique()"
      ]
    },
    {
      "cell_type": "code",
      "execution_count": null,
      "metadata": {
        "id": "HelOOK1bNgI5"
      },
      "outputs": [],
      "source": [
        "simplified.loc[:,'age_band'] = simplified['age_band'].astype('object').values"
      ]
    },
    {
      "cell_type": "markdown",
      "metadata": {
        "id": "RsTmxaaGNgI5"
      },
      "source": [
        "## Location Based Inference"
      ]
    },
    {
      "cell_type": "markdown",
      "metadata": {
        "id": "VToY9h7zNgI5"
      },
      "source": [
        "We might get tempted to compare global trends using countries, but we have more than 100 unique countries listed here."
      ]
    },
    {
      "cell_type": "code",
      "execution_count": null,
      "metadata": {
        "id": "jnll6NHtYKdH"
      },
      "outputs": [],
      "source": [
        "len(simplified.location.unique())"
      ]
    },
    {
      "cell_type": "markdown",
      "metadata": {
        "id": "qVKesLJ1NgI5"
      },
      "source": [
        "Most of our instances come from the US, UK and China."
      ]
    },
    {
      "cell_type": "code",
      "execution_count": null,
      "metadata": {
        "id": "XbRZJs4Ijdup"
      },
      "outputs": [],
      "source": [
        "simplified.location.value_counts()"
      ]
    },
    {
      "cell_type": "markdown",
      "metadata": {
        "id": "sejaoofGNgI6"
      },
      "source": [
        "We can access the raw numbers inside a pandas series (shown above) by accessing their values.\n",
        "\n",
        "This highlights the fact that pandas dataframes are wrapped around numpy arrays."
      ]
    },
    {
      "cell_type": "code",
      "execution_count": null,
      "metadata": {
        "id": "HHbyy15ejOxs"
      },
      "outputs": [],
      "source": [
        "simplified.location.value_counts().values"
      ]
    },
    {
      "cell_type": "markdown",
      "metadata": {
        "id": "c1jLMmS1YKdH"
      },
      "source": [
        "Instead of country based aggregation, we can add a higher order category, like which continent that country belongs to, and then we can group the data based on continent and compare inter-continent countries, or we can compare continents themselves."
      ]
    },
    {
      "cell_type": "markdown",
      "metadata": {
        "id": "RcatzFGNNgI6"
      },
      "source": [
        "You'd need to uncomment the lines below and run them if you don't have the pycountry package in your environment."
      ]
    },
    {
      "cell_type": "code",
      "execution_count": null,
      "metadata": {
        "id": "JM3vAgXdY16-"
      },
      "outputs": [],
      "source": [
        "# !pip install pycountry\n",
        "# !pip install pycountry_convert"
      ]
    },
    {
      "cell_type": "code",
      "execution_count": null,
      "metadata": {
        "id": "AU5pUMg0YKdH"
      },
      "outputs": [],
      "source": [
        "import pycountry\n",
        "from pycountry_convert import country_alpha2_to_continent_code"
      ]
    },
    {
      "cell_type": "code",
      "execution_count": null,
      "metadata": {
        "id": "jl-FWUOkYKdI"
      },
      "outputs": [],
      "source": [
        "country_alpha2_to_continent_code('TR')"
      ]
    },
    {
      "cell_type": "markdown",
      "metadata": {
        "id": "fbEATDluNgI6"
      },
      "source": [
        "This function is basically a dictionary where each country's abbreviation is mapped to a continent.\n",
        "\n",
        "The library is more extensive than this though, as it covers countries official names, and even flags with emojis."
      ]
    },
    {
      "cell_type": "code",
      "execution_count": null,
      "metadata": {
        "id": "yhbU0quAYKdJ"
      },
      "outputs": [],
      "source": [
        "pycountry.countries.get(name='United Kingdom')"
      ]
    },
    {
      "cell_type": "markdown",
      "metadata": {
        "id": "R478r5IUNgI6"
      },
      "source": [
        "If we were to apply this function to our location code column we would get an error because the United Kingdom is coded as UK in this dataset."
      ]
    },
    {
      "cell_type": "code",
      "execution_count": null,
      "metadata": {
        "id": "eqqX6sWrNgI6"
      },
      "outputs": [],
      "source": [
        "simplified.iloc[1,:5]"
      ]
    },
    {
      "cell_type": "markdown",
      "metadata": {
        "id": "NGI8qDHKYKdK"
      },
      "source": [
        "We can replace instances of UK with GB using the replace method of pandas dataframes."
      ]
    },
    {
      "cell_type": "code",
      "execution_count": null,
      "metadata": {
        "id": "FXEAzsExNgI7"
      },
      "outputs": [],
      "source": [
        "simplified.loc[:, 'location_code'] = simplified['location_code'].replace('UK', 'GB')"
      ]
    },
    {
      "cell_type": "markdown",
      "metadata": {
        "id": "qR1yplV0NgI7"
      },
      "source": [
        "Now we can apply our function to our location code column to get continents."
      ]
    },
    {
      "cell_type": "code",
      "execution_count": null,
      "metadata": {
        "id": "0ut753JQYKdK"
      },
      "outputs": [],
      "source": [
        "simplified.loc[:,'continent'] = simplified['location_code'].apply(country_alpha2_to_continent_code)"
      ]
    },
    {
      "cell_type": "code",
      "execution_count": null,
      "metadata": {
        "id": "lHATDR09NgI7"
      },
      "outputs": [],
      "source": [
        "simplified[['continent', 'location_code']].head()"
      ]
    },
    {
      "cell_type": "markdown",
      "metadata": {
        "id": "EREepWdsYKdL"
      },
      "source": [
        "Small note about violin plots: the kernel bandwidth parameter `bw` determines how smooth or rugged the graph is."
      ]
    },
    {
      "cell_type": "code",
      "execution_count": null,
      "metadata": {
        "id": "AYZWgmuqYKdM"
      },
      "outputs": [],
      "source": [
        "bw = np.linspace(0.05,0.5,6)\n",
        "\n",
        "fig, axes = plt.subplots(2,3,figsize=(9,6))\n",
        "fig.suptitle('Effect of changing bandwith on a violin plot')\n",
        "\n",
        "for i,j in zip(axes.flatten(),bw):\n",
        "    sns.violinplot(x=simplified['ar_score'], ax=i, bw_method=j)\n",
        "    i.set_xlabel('')\n",
        "    i.set_title(f'bw = {np.round(j,2)}')"
      ]
    },
    {
      "cell_type": "markdown",
      "metadata": {
        "id": "rLgW8DtuNgI7"
      },
      "source": [
        "For large datasets (thousands of observations): Use a small bw (e.g., 0.05-0.2) to reveal finer details.<br>\n",
        "For small datasets: Use a larger bw (e.g., 0.2-0.3) for a cleaner, more general shape.<br>\n",
        "A good starting point: bw=0.2 or using \"scott\" for automatic selection."
      ]
    },
    {
      "cell_type": "markdown",
      "metadata": {
        "id": "lUuSLzIeYKdM"
      },
      "source": [
        "### Inference from data"
      ]
    },
    {
      "cell_type": "markdown",
      "metadata": {
        "id": "yvKV1VDsYKdN"
      },
      "source": [
        "Now let's use our new continent variable to aggregate data and show various variables' spreads."
      ]
    },
    {
      "cell_type": "markdown",
      "metadata": {
        "id": "E5VN2RgANgI7"
      },
      "source": [
        "As a side note we can use different themes for our matplotlib plots. More can be found [here](https://matplotlib.org/stable/gallery/style_sheets/style_sheets_reference.html)."
      ]
    },
    {
      "cell_type": "code",
      "execution_count": null,
      "metadata": {
        "id": "qJ-qDDDPNgI7"
      },
      "outputs": [],
      "source": [
        "plt.style.use('fivethirtyeight')\n"
      ]
    },
    {
      "cell_type": "code",
      "execution_count": null,
      "metadata": {
        "id": "iiIltYscYKdN"
      },
      "outputs": [],
      "source": [
        "sns.violinplot(data=simplified, x='ar_score', y='continent',\n",
        "               hue='continent', bw_method=0.05)"
      ]
    },
    {
      "cell_type": "markdown",
      "metadata": {
        "id": "K6fTcKYHNgI7"
      },
      "source": [
        "There's a trend of high academic reputation among north american and oceanean universities, with long extending tails going up a bit towards the 100 score mark."
      ]
    },
    {
      "cell_type": "code",
      "execution_count": null,
      "metadata": {
        "id": "0nlZN2DnNgI8"
      },
      "outputs": [],
      "source": [
        "plt.style.use('default')"
      ]
    },
    {
      "cell_type": "code",
      "execution_count": null,
      "metadata": {
        "id": "9_2CnujqNgI8"
      },
      "outputs": [],
      "source": [
        "g = sns.FacetGrid(simplified, col=\"continent\",\n",
        "                  hue=\"continent\", col_wrap=3)\n",
        "\n",
        "g.map_dataframe(sns.histplot, x=\"ger_score\");"
      ]
    },
    {
      "cell_type": "markdown",
      "metadata": {
        "id": "TswpP_nwYKdO"
      },
      "source": [
        "On the other hand there were quite a bit of universities with high graduate employment rate in Africa and Oceania that isn't as prevalent in other continents."
      ]
    },
    {
      "cell_type": "markdown",
      "metadata": {
        "id": "nr7vBzoJIN9O"
      },
      "source": [
        "With this we can also subset our data such that only countries from a certain continent are present. Then we can look at individual countries within a continent and have a concise grahp as opposed to all 100 countries being plotted at once."
      ]
    },
    {
      "cell_type": "code",
      "execution_count": null,
      "metadata": {
        "id": "zCqKqQAEYKdP"
      },
      "outputs": [],
      "source": [
        "fig = plt.figure(figsize=(15,9))\n",
        "\n",
        "sns.violinplot(data=simplified.query('continent == \"EU\"'),\n",
        "               x='isr_score', y='location', bw_method=0.05);"
      ]
    },
    {
      "cell_type": "markdown",
      "metadata": {
        "id": "6G-FkZWfIiNx"
      },
      "source": [
        "We can see that countries like Croatia, Romania, and Serbia generally don't have many international students, whereas countries like the UK, Switzerland and Austria generally have a lot of international students. This can suggest people who pick these high ranked universities have preferences for some countries over others."
      ]
    },
    {
      "cell_type": "markdown",
      "metadata": {
        "id": "Jsbs1_ZxNgI8"
      },
      "source": [
        "Since the plot is so tightly packed, only the boxplot in the middle of the violins show up, but it is a neat enough graphic to include."
      ]
    },
    {
      "cell_type": "markdown",
      "metadata": {
        "id": "jJqteL9QI8OP"
      },
      "source": [
        "We can also subset our data such that only universities from a few countries of our choosing exist within it. Here the tuples of binary arrays that locate where TR and PL universities are combined with the `OR` function such that if either of the rows have these two countries it will get picked up by our final outer subset."
      ]
    },
    {
      "cell_type": "code",
      "execution_count": null,
      "metadata": {
        "id": "PcHQqsPVYKdQ"
      },
      "outputs": [],
      "source": [
        "# trpl = simplified[(simplified['location_code'] == 'TR') | (simplified['location_code'] == 'PL') ]\n",
        "\n",
        "trpl = simplified.query('location_code == \"TR\" or location_code == \"PL\"')"
      ]
    },
    {
      "cell_type": "code",
      "execution_count": null,
      "metadata": {
        "id": "EZ0pK70aYKdQ"
      },
      "outputs": [],
      "source": [
        "sns.violinplot(data=trpl, x='isr_score', y='location_code', bw_method=0.2)"
      ]
    },
    {
      "cell_type": "markdown",
      "metadata": {
        "id": "gunhitN9ficX"
      },
      "source": [
        "Looks like there is an outlier (or two) for Turkey in international student ratio. Let's identify which universities these are."
      ]
    },
    {
      "cell_type": "markdown",
      "metadata": {
        "id": "V23ybNKKNgI8"
      },
      "source": [
        "### **Question 3)**\n",
        "How can we go about finding outliers in this subset of the data? Experiment with at least two different methods to detect outliers, compare their effectiveness, and justify your findings.  You can use [loc[]](https://pandas.pydata.org/docs/reference/api/pandas.DataFrame.loc.html) or [query()](https://pandas.pydata.org/docs/reference/api/pandas.DataFrame.query.html) to filter and display the dataset.\n"
      ]
    },
    {
      "cell_type": "code",
      "execution_count": null,
      "metadata": {
        "id": "wqJSHPVVNgI8"
      },
      "outputs": [],
      "source": [
        "#fill here#"
      ]
    },
    {
      "cell_type": "markdown",
      "metadata": {
        "id": "1kzDtAXNNgI8"
      },
      "source": [
        "### **Question 4)**\n",
        "\n",
        "Out of all historic universities with more than 30k students but are not \"fully comprehensive\" or \"comprehensive\" in their subject coverage, which ones have the best sustainability score according to the QS? Use the [query()](https://pandas.pydata.org/docs/reference/api/pandas.DataFrame.query.html) method to filter universities."
      ]
    },
    {
      "cell_type": "code",
      "execution_count": null,
      "metadata": {
        "id": "pkUs742DNgI9"
      },
      "outputs": [],
      "source": [
        "# fill here #"
      ]
    },
    {
      "cell_type": "markdown",
      "metadata": {
        "id": "bF9tHyL5Jv8a"
      },
      "source": [
        "We can then start looking for any columns with a symmetric distribution. Since most of the statistical analyses we will cover rely on the assumption of normality, this is an important step, although normality should be checked with statistical tests like shapiro-wilk and similar tests.\n",
        "\n",
        "Here Quantiles-Quantiles plots of 4 variables chosen is drawn. The `line` parameter is set to \"s\", which tries to find a best fit line, and if none is found, it will not draw a line. Most variables chosen have a very long tail on the right, so it makes sense that many of the plots reflect this. irn score looks a bit different because it's distribution closeley resembles the uniform distribution."
      ]
    },
    {
      "cell_type": "code",
      "execution_count": null,
      "metadata": {
        "id": "dDzRwE3ZevqI"
      },
      "outputs": [],
      "source": [
        "fig, axes = plt.subplots(2,2,figsize=(10,10))\n",
        "\n",
        "vars = ['ar_score', 'ger_score', 'irn_score', 'isr_score']\n",
        "\n",
        "for i,j in zip(axes.flatten(), vars):\n",
        "  sm.qqplot(simplified[j], line=\"q\", ax=i);\n",
        "  i.set_title(f'{j}')\n",
        ""
      ]
    },
    {
      "cell_type": "markdown",
      "metadata": {
        "id": "xEeP-aVVNgI9"
      },
      "source": [
        "Just to see how it is done, let's check the normality of ar score using the shapiro wilk test."
      ]
    },
    {
      "cell_type": "code",
      "execution_count": null,
      "metadata": {
        "id": "haS_IT3NNgI9"
      },
      "outputs": [],
      "source": [
        "stat, p = stats.shapiro(simplified['ar_score'].dropna())\n",
        "\n",
        "print(f'Shapiro wilk statistic: {stat}\\np value: {p}')"
      ]
    },
    {
      "cell_type": "markdown",
      "metadata": {
        "id": "bHIdR9-CNgI9"
      },
      "source": [
        "We can easily reject the hypothesis that the values were picked from a normal distribution."
      ]
    },
    {
      "cell_type": "markdown",
      "metadata": {
        "id": "DvBGj13TYKdU"
      },
      "source": [
        "### Column to column relationships"
      ]
    },
    {
      "cell_type": "markdown",
      "metadata": {
        "id": "lBaWZH5KYKdV"
      },
      "source": [
        "Now that we can have a deep understanding of each column, let's see if combinations of any two column contains further information. <br>\n",
        "\n",
        "`sns.pairplot` function does this well. <br>\n",
        "\n",
        "Figsave has a parameter called `dpi` that changes the resolution of the output graphic. Higher dpi like 300 here implies large resolution and large file sizes.\n",
        "\n",
        "***Make sure your graphics have appropriate colors for visibility, no overlaps, and a big figure size so details can be made out.***"
      ]
    },
    {
      "cell_type": "code",
      "execution_count": null,
      "metadata": {
        "id": "jl93IU_YYKdV"
      },
      "outputs": [],
      "source": [
        "sns.pairplot(simplified.sample(frac=0.3),\n",
        "            corner = True, height=1.3, aspect=1.3)\n",
        "# plt.savefig('plot.png', dpi=300)"
      ]
    },
    {
      "cell_type": "markdown",
      "metadata": {
        "id": "ZBCgvzrqNgI9"
      },
      "source": [
        "### **Question 5)**\n",
        "What patterns do you observe in the scatter plots? Do any variables show a strong positive or negative correlation?"
      ]
    },
    {
      "cell_type": "markdown",
      "metadata": {
        "id": "BNR86SfONgI9"
      },
      "source": [
        "> Fill here by double clicking me!"
      ]
    },
    {
      "cell_type": "markdown",
      "metadata": {
        "id": "S4JVLleiNgI9"
      },
      "source": [
        "### Correlations of scores with overall score"
      ]
    },
    {
      "cell_type": "markdown",
      "metadata": {
        "id": "XU50bpWHNgI9"
      },
      "source": [
        "For this final part lets look at a chunk of these correlations against score only. We can compare these numbers by the percentages given in the beginning of this notebook.\n",
        "\n",
        "We can also compute correlations with the corr method, and the default is pearson's r, however, we will use Spearman correlation instead of Pearson because the variables do not follow a normal distribution.\n",
        "Correlations can only be computed for numeric attributes, so we need to subset the dataset with those columns."
      ]
    },
    {
      "cell_type": "code",
      "execution_count": null,
      "metadata": {
        "id": "Yl5ZsDb6NgI9"
      },
      "outputs": [],
      "source": [
        "num_cols = [col for col,dtype in zip(simplified.columns, simplified.dtypes) if dtype!='object']\n",
        "num_cols"
      ]
    },
    {
      "cell_type": "markdown",
      "metadata": {
        "id": "NbjEGSaYNgI9"
      },
      "source": [
        "We should remove rows with NaN values in relevant columns."
      ]
    },
    {
      "cell_type": "code",
      "execution_count": null,
      "metadata": {
        "id": "X5gcVcqCNgI-"
      },
      "outputs": [],
      "source": [
        "simplified = simplified.dropna(subset=['overall_score'] + num_cols[2:-1])"
      ]
    },
    {
      "cell_type": "code",
      "execution_count": null,
      "metadata": {
        "id": "hnBvBMZ8NgI-"
      },
      "outputs": [],
      "source": [
        "corrs = []\n",
        "p_values = []\n",
        "for col in num_cols[2:-1]:\n",
        "    corr, p_val = spearmanr(simplified[col], simplified['overall_score'])\n",
        "    corrs.append(corr)\n",
        "    p_values.append(p_val)\n",
        "\n",
        "corr_df = pd.DataFrame({'Variable': num_cols[2:-1], 'Spearman Correlation': corrs, 'p-value': p_values})\n",
        "corr_df = corr_df.sort_values('Spearman Correlation', ascending=False).reset_index(drop=True)\n",
        "\n",
        "corr_df\n",
        "\n"
      ]
    },
    {
      "cell_type": "markdown",
      "metadata": {
        "id": "PAJAh8MgNgI-"
      },
      "source": [
        "## P-Value Issue and Multiple Testing Correction\n",
        "### **Question 6)**\n",
        "If we conduct multiple statistical tests on different variables, how does this affect the reliability of our p-values?\n",
        "\n"
      ]
    },
    {
      "cell_type": "markdown",
      "metadata": {
        "id": "vm42dm4zNgI-"
      },
      "source": [
        "> Fill here by double clicking me!"
      ]
    },
    {
      "cell_type": "markdown",
      "metadata": {
        "id": "bvz2li74NgI-"
      },
      "source": [
        " First, we apply the Bonferroni correction."
      ]
    },
    {
      "cell_type": "code",
      "execution_count": null,
      "metadata": {
        "id": "j1edHm3dNgI-"
      },
      "outputs": [],
      "source": [
        "corrected_pvals = multipletests(corr_df['p-value'], method='bonferroni')[1]\n",
        "corr_df['Bonferroni Corrected p-value'] = corrected_pvals\n"
      ]
    },
    {
      "cell_type": "markdown",
      "metadata": {
        "id": "S8Vjug-zNgI-"
      },
      "source": [
        "However, Bonferroni correction is very strict, increasing the risk of Type II errors. As an alternative, we also apply the Benjamini-Hochberg (FDR) and Holm corrections."
      ]
    },
    {
      "cell_type": "code",
      "execution_count": null,
      "metadata": {
        "id": "dCwIZWGNNgI-"
      },
      "outputs": [],
      "source": [
        "bh_corrected_pvals = multipletests(corr_df['p-value'], method='fdr_bh')[1]\n",
        "holm_corrected_pvals = multipletests(corr_df['p-value'], method='holm')[1]\n",
        "\n",
        "corr_df['Benjamini-Hochberg Corrected p-value'] = bh_corrected_pvals\n",
        "corr_df['Holm Corrected p-value'] = holm_corrected_pvals\n",
        "corr_df\n"
      ]
    },
    {
      "cell_type": "markdown",
      "metadata": {
        "id": "CNWJ5sIONgI-"
      },
      "source": [
        "\n",
        "\n",
        "1. Strong correlation (Absolute Spearman Correlation\t > 0.6)\n",
        "   - `ar_score` (0.85), `er_score` (0.67), `sus_score` (0.65), `ger_score` (0.65)  \n",
        "   - These variables have a strong positive monotonic relationship with `overall_score`.  \n",
        "   - Higher values in these variables strongly correspond to higher `overall_score`. <br> <br>\n",
        "2. Weak correlation (Absolute Spearman Correlation\t < 0.3)  \n",
        "   - `fsr_score` (0.27)  \n",
        "   - This variable has the weakest correlation with `overall_score`.  \n",
        "   - Changes in `fsr_score` have little impact on the overall score.<br><br>\n",
        "\n",
        "3. Statistical significance (p-value)\n",
        "   - All p-values are extremely low (< 10⁻¹⁰), meaning all correlations are highly statistically significant.  \n",
        "   - This confirms that these correlations are not due to random chance.  \n"
      ]
    },
    {
      "cell_type": "markdown",
      "metadata": {
        "id": "Pi81EDxzNgI-"
      },
      "source": [
        "# Comparison with Assigned Percentages\n",
        "Predefined percentage values are used to compare with observed correlations. One thing to realize here is we are using the reset_index method to save the index as another column. This is then used to color each bar in the barplot below."
      ]
    },
    {
      "cell_type": "code",
      "execution_count": null,
      "metadata": {
        "id": "9AWT42RmNgI-"
      },
      "outputs": [],
      "source": [
        "\n",
        "perc = pd.Series([0.3, 0.15, 0.1, 0.2, 0.05, 0.05, 0.05, 0.05, 0.05], index=num_cols[2:-1])\n",
        "perc_df = perc.sort_index().reset_index()\n",
        "perc_df.columns = ['Variable', 'Percentage']\n"
      ]
    },
    {
      "cell_type": "code",
      "execution_count": null,
      "metadata": {
        "id": "2kGU0_vlNgI-"
      },
      "outputs": [],
      "source": [
        "\n",
        "fig, axes = plt.subplots(1, 2, figsize=(14, 6))\n",
        "fig.suptitle('Spearman Correlation with Overall Score and Assigned Percentages', size=15, y=1)\n",
        "\n",
        "ordered_variables = perc_df['Variable'].tolist()\n",
        "corr_df = corr_df.set_index('Variable').loc[ordered_variables].reset_index()\n",
        "\n",
        "sns.barplot(y='Variable', x='Spearman Correlation', orient='h', data=corr_df, ax=axes[0], hue='Variable', palette=\"viridis\", legend=False)\n",
        "axes[0].set_xlabel('Spearman Correlation')\n",
        "axes[0].set_ylabel('')\n",
        "axes[0].set_title('Correlation with Overall Score')\n",
        "\n",
        "\n",
        "sns.barplot(y='Variable', x='Percentage', orient='h', data=perc_df, ax=axes[1], hue='Variable', palette=\"viridis\", legend=False)\n",
        "axes[1].set_xlabel('Assigned Percentage')\n",
        "axes[1].set_ylabel('')\n",
        "axes[1].set_title('Assigned Percentages')\n",
        "\n",
        "plt.tight_layout()\n",
        "plt.show()\n"
      ]
    },
    {
      "cell_type": "markdown",
      "metadata": {
        "id": "f-2cItjhLFPm"
      },
      "source": [
        "Despite the claim of the authors, we find some columns like sus score, ger score and irn score to highly correlate with overall score. This doesn't automatically mean there is an additive effect though. For that we'd need to create a regression model and check how much each attribute contributes to the variation of the score."
      ]
    }
  ],
  "metadata": {
    "colab": {
      "provenance": [],
      "toc_visible": true,
      "include_colab_link": true
    },
    "kernelspec": {
      "display_name": "base",
      "language": "python",
      "name": "python3"
    },
    "language_info": {
      "codemirror_mode": {
        "name": "ipython",
        "version": 3
      },
      "file_extension": ".py",
      "mimetype": "text/x-python",
      "name": "python",
      "nbconvert_exporter": "python",
      "pygments_lexer": "ipython3",
      "version": "3.11.7"
    },
    "orig_nbformat": 4
  },
  "nbformat": 4,
  "nbformat_minor": 0
}